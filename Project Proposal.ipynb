{
 "cells": [
  {
   "cell_type": "markdown",
   "id": "ae20510e-37c7-41b7-93a8-b208cf6b914e",
   "metadata": {
    "tags": []
   },
   "source": [
    "# DSCI 100 Project Proposal: Optimizing Training in Professional Tennis\n",
    "**Name | Student #**\n",
    "\n",
    "Luke Pielak | 21805650"
   ]
  },
  {
   "cell_type": "markdown",
   "id": "a6c80e1a-640e-48c7-803f-832d1b94feb5",
   "metadata": {},
   "source": [
    "## Introduction\n",
    "- Professional tennis tournaments are played on four different surfaces: **concrete** (also known as “hard”), **clay**, **grass**, and—occasionally—, **carpet**.\n",
    "- Surfaces significantly influence the speed of play in tennis due to the way the ball interacts with different materials. For example, grass tennis courts are typically considered fast while clay courts are known to be slow in comparison.\n",
    "- Players often develop specialties based on their skills and playing style that are dependent on the playing surface. \n",
    "- We hope to identify which surface will yield the most success for a player based on attributes and elements of their - performance: **Backhand style**, **Height**, **Age**, and **previously-favoured Surface**.\n",
    "- The player’s dataset at *ultimatetennisstatistics.com* contains all necessary data to create a model.\n"
   ]
  },
  {
   "cell_type": "markdown",
   "id": "3e005189-59e7-487b-9c91-aa986e9867d9",
   "metadata": {
    "tags": []
   },
   "source": [
    "## Preliminary exploratory data analysis\n"
   ]
  },
  {
   "cell_type": "code",
   "execution_count": 7,
   "id": "2af23ef8-63b0-4e78-be7f-0d0cb88d7709",
   "metadata": {},
   "outputs": [],
   "source": [
    "# importing libraries\n",
    "library(tidyverse)\n",
    "library(repr)\n",
    "library(tidymodels)\n",
    "library(RColorBrewer)"
   ]
  },
  {
   "cell_type": "code",
   "execution_count": 78,
   "id": "485a5d2a-4c41-4bbb-bdd5-f92f3aa03a1b",
   "metadata": {},
   "outputs": [
    {
     "data": {
      "text/html": [
       "<table class=\"dataframe\">\n",
       "<caption>A tibble: 10 × 2</caption>\n",
       "<thead>\n",
       "\t<tr><th scope=col>Favorite.Surface</th><th scope=col>Observations</th></tr>\n",
       "\t<tr><th scope=col>&lt;chr&gt;</th><th scope=col>&lt;int&gt;</th></tr>\n",
       "</thead>\n",
       "<tbody>\n",
       "\t<tr><td>All-Rounder </td><td>12</td></tr>\n",
       "\t<tr><td>Carpet      </td><td> 2</td></tr>\n",
       "\t<tr><td>Clay        </td><td>66</td></tr>\n",
       "\t<tr><td>Fast (H, G) </td><td>17</td></tr>\n",
       "\t<tr><td>Grass       </td><td>35</td></tr>\n",
       "\t<tr><td>Hard        </td><td>58</td></tr>\n",
       "\t<tr><td>Non-Grass   </td><td> 1</td></tr>\n",
       "\t<tr><td>None        </td><td>26</td></tr>\n",
       "\t<tr><td>Slow (H, Cl)</td><td>18</td></tr>\n",
       "\t<tr><td>Soft (Cl, G)</td><td> 6</td></tr>\n",
       "</tbody>\n",
       "</table>\n"
      ],
      "text/latex": [
       "A tibble: 10 × 2\n",
       "\\begin{tabular}{ll}\n",
       " Favorite.Surface & Observations\\\\\n",
       " <chr> & <int>\\\\\n",
       "\\hline\n",
       "\t All-Rounder  & 12\\\\\n",
       "\t Carpet       &  2\\\\\n",
       "\t Clay         & 66\\\\\n",
       "\t Fast (H, G)  & 17\\\\\n",
       "\t Grass        & 35\\\\\n",
       "\t Hard         & 58\\\\\n",
       "\t Non-Grass    &  1\\\\\n",
       "\t None         & 26\\\\\n",
       "\t Slow (H, Cl) & 18\\\\\n",
       "\t Soft (Cl, G) &  6\\\\\n",
       "\\end{tabular}\n"
      ],
      "text/markdown": [
       "\n",
       "A tibble: 10 × 2\n",
       "\n",
       "| Favorite.Surface &lt;chr&gt; | Observations &lt;int&gt; |\n",
       "|---|---|\n",
       "| All-Rounder  | 12 |\n",
       "| Carpet       |  2 |\n",
       "| Clay         | 66 |\n",
       "| Fast (H, G)  | 17 |\n",
       "| Grass        | 35 |\n",
       "| Hard         | 58 |\n",
       "| Non-Grass    |  1 |\n",
       "| None         | 26 |\n",
       "| Slow (H, Cl) | 18 |\n",
       "| Soft (Cl, G) |  6 |\n",
       "\n"
      ],
      "text/plain": [
       "   Favorite.Surface Observations\n",
       "1  All-Rounder      12          \n",
       "2  Carpet            2          \n",
       "3  Clay             66          \n",
       "4  Fast (H, G)      17          \n",
       "5  Grass            35          \n",
       "6  Hard             58          \n",
       "7  Non-Grass         1          \n",
       "8  None             26          \n",
       "9  Slow (H, Cl)     18          \n",
       "10 Soft (Cl, G)      6          "
      ]
     },
     "metadata": {},
     "output_type": "display_data"
    }
   ],
   "source": [
    "# Reading the dataset into R\n",
    "\n",
    "# We will take a few steps to tidy the data:\n",
    "# 1. Select only the variables that contain meaningful data for our analysis\n",
    "# 2. Remove dates from Age column and convert to numeric type\n",
    "# 3. Remove percentages from Favorite.Surface so that is purely categorical \n",
    "\n",
    "# Selecting variables\n",
    "tennis <- read.csv(\"data/tennis.csv\") |>\n",
    "    select(Backhand, Height, Age, Favorite.Surface)\n",
    "\n",
    "# Remove rows with missing data\n",
    "tennis <- tennis[complete.cases(tennis),]\n",
    "\n",
    "# Remove the date from the \"Age\" column\n",
    "tennis$Age <- sub(\"\\\\s*\\\\(.*\\\\)\", \"\", tennis$Age)\n",
    "\n",
    "# Convert the \"Age\" column to numeric data type\n",
    "tennis$Age <- as.numeric(tennis$Age)\n",
    "\n",
    "# Remove the percentage from the \"Favorite.Surface\" column\n",
    "tennis$Favorite.Surface <- sub(\"\\\\s*\\\\d+%\", \"\", tennis$Favorite.Surface)\n",
    "\n",
    "\n",
    "# wrangle data to report the number of observations for each class, and how many observations contain missing data (row 1)\n",
    "tennis_summary <- tennis |>\n",
    "  group_by(Favorite.Surface) |>\n",
    "  summarize(Observations = n())\n",
    "\n",
    "tennis_summary"
   ]
  },
  {
   "cell_type": "markdown",
   "id": "e6e27531-c220-42aa-bf2f-c547728b1067",
   "metadata": {},
   "source": [
    "- Here we can see how many observations are complete for each class under Favorite.Surface. \n",
    "- The first row counts incomplete observations, this means that there are 259 rows that contain empty cells.\n",
    "- In the plot below we will compare the distribution of each class in a bar graph."
   ]
  },
  {
   "cell_type": "code",
   "execution_count": 79,
   "id": "5e0d275b-818a-4687-af40-3436f6cfd111",
   "metadata": {},
   "outputs": [
    {
     "data": {
      "image/png": "[encoded data removed]",
      "text/plain": [
       "plot without title"
      ]
     },
     "metadata": {
      "image/png": {
       "height": 360,
       "width": 720
      }
     },
     "output_type": "display_data"
    }
   ],
   "source": [
    "# vizualizing the distribution of classes\n",
    "\n",
    "options(repr.plot.width = 12, repr.plot.height = 6)\n",
    "\n",
    "#remove category for observations with missing data\n",
    "tennis_summary <- tennis_summary |> slice(2:11)\n",
    "\n",
    "\n",
    "tennisplot <- tennis_summary |> \n",
    "              ggplot(aes(x = reorder(Favorite.Surface, -Observations), y = Observations)) +\n",
    "              geom_bar(stat = \"identity\", position = \"dodge\") +\n",
    "              labs(x = \"Favoured Surface of a Professional Tennis Player\", y = \"Observations\", title = \"Number of Observations Per Class Type in Tennis Data\") +\n",
    "              scale_fill_brewer(palette = 'Set3') +\n",
    "              theme(text = element_text(size = 25)) +\n",
    "              theme(axis.text.x = element_text(angle = 90, hjust = 1)) \n",
    "                    \n",
    "tennisplot\n",
    "              \n",
    "              "
   ]
  },
  {
   "cell_type": "markdown",
   "id": "92fb54ce-2b33-4c54-843f-93925fbfdd6b",
   "metadata": {},
   "source": [
    "- Here we can clearly see that Clay, Hard, and Grass are the most popular classes while the more specialized classes are more niche.\n",
    "- We can use this information to help us decide which classes are most important to include in our model."
   ]
  },
  {
   "cell_type": "markdown",
   "id": "4d57b09b-0db8-42dd-9c1e-1bc03aee4ead",
   "metadata": {},
   "source": [
    "## Methods"
   ]
  },
  {
   "cell_type": "markdown",
   "id": "9f0ec289-bbd6-426d-83c4-91cd56cbd5b5",
   "metadata": {},
   "source": [
    "## Expected Outcomes and Significance"
   ]
  }
 ],
 "metadata": {
  "kernelspec": {
   "display_name": "R",
   "language": "R",
   "name": "ir"
  },
  "language_info": {
   "codemirror_mode": "r",
   "file_extension": ".r",
   "mimetype": "text/x-r-source",
   "name": "R",
   "pygments_lexer": "r",
   "version": "4.1.3"
  }
 },
 "nbformat": 4,
 "nbformat_minor": 5
}
