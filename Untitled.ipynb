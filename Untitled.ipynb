{
 "cells": [
  {
   "cell_type": "markdown",
   "id": "9d95c5c7-439e-4fa0-9002-370882b47c8d",
   "metadata": {
    "tags": []
   },
   "source": [
    "# DSCI 100 Project"
   ]
  },
  {
   "cell_type": "markdown",
   "id": "c0886301-1062-422d-a53c-6effea0ec715",
   "metadata": {},
   "source": [
    "## Introduction\n",
    "***Background***\n",
    "\n",
    "***Predictive Question***\n",
    "\n",
    "***Data***\n",
    "\n"
   ]
  },
  {
   "cell_type": "markdown",
   "id": "da7eed13-f7ca-45f6-abfb-fcb44d892270",
   "metadata": {
    "tags": []
   },
   "source": [
    "## Methods and results\n"
   ]
  },
  {
   "cell_type": "markdown",
   "id": "78452334-85c4-4222-a315-4a46b4ce1ac2",
   "metadata": {},
   "source": [
    "***Loading data***\n"
   ]
  },
  {
   "cell_type": "markdown",
   "id": "b100f6a3-a108-4fde-aaf8-7c62fcdc2518",
   "metadata": {},
   "source": [
    "***Wrangling***\n"
   ]
  },
  {
   "cell_type": "markdown",
   "id": "02fccd99-cede-4a33-80ed-d381845f815e",
   "metadata": {},
   "source": [
    "***Summary***\n",
    "\n"
   ]
  },
  {
   "cell_type": "markdown",
   "id": "a0384f5a-0336-4080-a9bb-3d55cc3ce4cd",
   "metadata": {},
   "source": [
    "***Visualization***\n"
   ]
  },
  {
   "cell_type": "markdown",
   "id": "a887b5db-c1db-47bb-ad83-056d9f2a962d",
   "metadata": {},
   "source": [
    "***Analysis***"
   ]
  },
  {
   "cell_type": "markdown",
   "id": "aac59f3b-1992-4109-b5dd-1d95af8598de",
   "metadata": {
    "tags": []
   },
   "source": [
    "## Discussion"
   ]
  },
  {
   "cell_type": "markdown",
   "id": "5352df4f-f058-4432-ac69-04d3c95451ff",
   "metadata": {},
   "source": [
    "***Findings***\n"
   ]
  },
  {
   "cell_type": "markdown",
   "id": "ffab1941-e550-4a8a-9ee8-60fac08802e1",
   "metadata": {},
   "source": [
    "***Significance***"
   ]
  },
  {
   "cell_type": "markdown",
   "id": "cf75fe8f-1bef-47aa-addb-0bc41b0e5bc3",
   "metadata": {
    "jp-MarkdownHeadingCollapsed": true,
    "tags": []
   },
   "source": [
    "## References\n",
    "\n",
    "-citations for readings and data used to complete the project-"
   ]
  }
 ],
 "metadata": {
  "kernelspec": {
   "display_name": "R",
   "language": "R",
   "name": "ir"
  },
  "language_info": {
   "codemirror_mode": "r",
   "file_extension": ".r",
   "mimetype": "text/x-r-source",
   "name": "R",
   "pygments_lexer": "r",
   "version": "4.1.3"
  }
 },
 "nbformat": 4,
 "nbformat_minor": 5
}
