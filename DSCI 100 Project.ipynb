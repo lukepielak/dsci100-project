{
 "cells": [
  {
   "cell_type": "markdown",
   "id": "9d95c5c7-439e-4fa0-9002-370882b47c8d",
   "metadata": {
    "tags": []
   },
   "source": [
    "# DSCI 100 Project"
   ]
  },
  {
   "cell_type": "markdown",
   "id": "c0886301-1062-422d-a53c-6effea0ec715",
   "metadata": {
    "tags": []
   },
   "source": [
    "## Introduction\n"
   ]
  },
  {
   "cell_type": "markdown",
   "id": "c7feb0d9-b21d-4be6-a22d-4c9db5d0c544",
   "metadata": {},
   "source": [
    "***Background***\n",
    "\n",
    "Test"
   ]
  },
  {
   "cell_type": "markdown",
   "id": "c5b7f85f-bc76-4bbd-94a8-a144d88d7847",
   "metadata": {},
   "source": [
    "***Predictive Question***\n",
    "\n"
   ]
  },
  {
   "cell_type": "markdown",
   "id": "b9485b00-8451-472a-92d4-75c52b7f3101",
   "metadata": {},
   "source": [
    "***Data***"
   ]
  },
  {
   "cell_type": "markdown",
   "id": "da7eed13-f7ca-45f6-abfb-fcb44d892270",
   "metadata": {
    "tags": []
   },
   "source": [
    "## Methods and results\n"
   ]
  },
  {
   "cell_type": "markdown",
   "id": "f8bf749c-d48e-4527-9070-e77b13597b26",
   "metadata": {},
   "source": [
    "***Importing Packages***"
   ]
  },
  {
   "cell_type": "code",
   "execution_count": 1,
   "id": "7c2ceb0d-b71b-4c74-9cfa-97b46db84920",
   "metadata": {},
   "outputs": [
    {
     "name": "stderr",
     "output_type": "stream",
     "text": [
      "── \u001b[1mAttaching packages\u001b[22m ─────────────────────────────────────── tidyverse 1.3.1 ──\n",
      "\n",
      "\u001b[32m✔\u001b[39m \u001b[34mggplot2\u001b[39m 3.3.6     \u001b[32m✔\u001b[39m \u001b[34mpurrr  \u001b[39m 0.3.4\n",
      "\u001b[32m✔\u001b[39m \u001b[34mtibble \u001b[39m 3.1.7     \u001b[32m✔\u001b[39m \u001b[34mdplyr  \u001b[39m 1.0.9\n",
      "\u001b[32m✔\u001b[39m \u001b[34mtidyr  \u001b[39m 1.2.0     \u001b[32m✔\u001b[39m \u001b[34mstringr\u001b[39m 1.4.0\n",
      "\u001b[32m✔\u001b[39m \u001b[34mreadr  \u001b[39m 2.1.2     \u001b[32m✔\u001b[39m \u001b[34mforcats\u001b[39m 0.5.1\n",
      "\n",
      "── \u001b[1mConflicts\u001b[22m ────────────────────────────────────────── tidyverse_conflicts() ──\n",
      "\u001b[31m✖\u001b[39m \u001b[34mdplyr\u001b[39m::\u001b[32mfilter()\u001b[39m masks \u001b[34mstats\u001b[39m::filter()\n",
      "\u001b[31m✖\u001b[39m \u001b[34mdplyr\u001b[39m::\u001b[32mlag()\u001b[39m    masks \u001b[34mstats\u001b[39m::lag()\n",
      "\n",
      "Registered S3 method overwritten by 'GGally':\n",
      "  method from   \n",
      "  +.gg   ggplot2\n",
      "\n"
     ]
    }
   ],
   "source": [
    "library(tidyverse)\n",
    "library(repr)\n",
    "library(infer)\n",
    "library(cowplot)\n",
    "library(GGally)\n",
    "library(broom)\n",
    "library(RColorBrewer)"
   ]
  },
  {
   "cell_type": "markdown",
   "id": "78452334-85c4-4222-a315-4a46b4ce1ac2",
   "metadata": {},
   "source": [
    "***Loading Data***"
   ]
  },
  {
   "cell_type": "code",
   "execution_count": 2,
   "id": "0f6ce4a1-b129-4221-a8a8-38fd5ea45cc8",
   "metadata": {},
   "outputs": [
    {
     "name": "stderr",
     "output_type": "stream",
     "text": [
      "\u001b[1mRows: \u001b[22m\u001b[34m5110\u001b[39m \u001b[1mColumns: \u001b[22m\u001b[34m12\u001b[39m\n",
      "\u001b[36m──\u001b[39m \u001b[1mColumn specification\u001b[22m \u001b[36m────────────────────────────────────────────────────────\u001b[39m\n",
      "\u001b[1mDelimiter:\u001b[22m \",\"\n",
      "\u001b[31mchr\u001b[39m (6): gender, ever_married, work_type, Residence_type, bmi, smoking_status\n",
      "\u001b[32mdbl\u001b[39m (6): id, age, hypertension, heart_disease, avg_glucose_level, stroke\n",
      "\n",
      "\u001b[36mℹ\u001b[39m Use `spec()` to retrieve the full column specification for this data.\n",
      "\u001b[36mℹ\u001b[39m Specify the column types or set `show_col_types = FALSE` to quiet this message.\n"
     ]
    },
    {
     "data": {
      "text/html": [
       "<table class=\"dataframe\">\n",
       "<caption>A tibble: 10 × 12</caption>\n",
       "<thead>\n",
       "\t<tr><th scope=col>id</th><th scope=col>gender</th><th scope=col>age</th><th scope=col>hypertension</th><th scope=col>heart_disease</th><th scope=col>ever_married</th><th scope=col>work_type</th><th scope=col>Residence_type</th><th scope=col>avg_glucose_level</th><th scope=col>bmi</th><th scope=col>smoking_status</th><th scope=col>stroke</th></tr>\n",
       "\t<tr><th scope=col>&lt;dbl&gt;</th><th scope=col>&lt;chr&gt;</th><th scope=col>&lt;dbl&gt;</th><th scope=col>&lt;dbl&gt;</th><th scope=col>&lt;dbl&gt;</th><th scope=col>&lt;chr&gt;</th><th scope=col>&lt;chr&gt;</th><th scope=col>&lt;chr&gt;</th><th scope=col>&lt;dbl&gt;</th><th scope=col>&lt;chr&gt;</th><th scope=col>&lt;chr&gt;</th><th scope=col>&lt;dbl&gt;</th></tr>\n",
       "</thead>\n",
       "<tbody>\n",
       "\t<tr><td> 9046</td><td>Male  </td><td>67</td><td>0</td><td>1</td><td>Yes</td><td>Private      </td><td>Urban</td><td>228.69</td><td>36.6</td><td>formerly smoked</td><td>1</td></tr>\n",
       "\t<tr><td>51676</td><td>Female</td><td>61</td><td>0</td><td>0</td><td>Yes</td><td>Self-employed</td><td>Rural</td><td>202.21</td><td>N/A </td><td>never smoked   </td><td>1</td></tr>\n",
       "\t<tr><td>31112</td><td>Male  </td><td>80</td><td>0</td><td>1</td><td>Yes</td><td>Private      </td><td>Rural</td><td>105.92</td><td>32.5</td><td>never smoked   </td><td>1</td></tr>\n",
       "\t<tr><td>60182</td><td>Female</td><td>49</td><td>0</td><td>0</td><td>Yes</td><td>Private      </td><td>Urban</td><td>171.23</td><td>34.4</td><td>smokes         </td><td>1</td></tr>\n",
       "\t<tr><td> 1665</td><td>Female</td><td>79</td><td>1</td><td>0</td><td>Yes</td><td>Self-employed</td><td>Rural</td><td>174.12</td><td>24  </td><td>never smoked   </td><td>1</td></tr>\n",
       "\t<tr><td>56669</td><td>Male  </td><td>81</td><td>0</td><td>0</td><td>Yes</td><td>Private      </td><td>Urban</td><td>186.21</td><td>29  </td><td>formerly smoked</td><td>1</td></tr>\n",
       "\t<tr><td>53882</td><td>Male  </td><td>74</td><td>1</td><td>1</td><td>Yes</td><td>Private      </td><td>Rural</td><td> 70.09</td><td>27.4</td><td>never smoked   </td><td>1</td></tr>\n",
       "\t<tr><td>10434</td><td>Female</td><td>69</td><td>0</td><td>0</td><td>No </td><td>Private      </td><td>Urban</td><td> 94.39</td><td>22.8</td><td>never smoked   </td><td>1</td></tr>\n",
       "\t<tr><td>27419</td><td>Female</td><td>59</td><td>0</td><td>0</td><td>Yes</td><td>Private      </td><td>Rural</td><td> 76.15</td><td>N/A </td><td>Unknown        </td><td>1</td></tr>\n",
       "\t<tr><td>60491</td><td>Female</td><td>78</td><td>0</td><td>0</td><td>Yes</td><td>Private      </td><td>Urban</td><td> 58.57</td><td>24.2</td><td>Unknown        </td><td>1</td></tr>\n",
       "</tbody>\n",
       "</table>\n"
      ],
      "text/latex": [
       "A tibble: 10 × 12\n",
       "\\begin{tabular}{llllllllllll}\n",
       " id & gender & age & hypertension & heart\\_disease & ever\\_married & work\\_type & Residence\\_type & avg\\_glucose\\_level & bmi & smoking\\_status & stroke\\\\\n",
       " <dbl> & <chr> & <dbl> & <dbl> & <dbl> & <chr> & <chr> & <chr> & <dbl> & <chr> & <chr> & <dbl>\\\\\n",
       "\\hline\n",
       "\t  9046 & Male   & 67 & 0 & 1 & Yes & Private       & Urban & 228.69 & 36.6 & formerly smoked & 1\\\\\n",
       "\t 51676 & Female & 61 & 0 & 0 & Yes & Self-employed & Rural & 202.21 & N/A  & never smoked    & 1\\\\\n",
       "\t 31112 & Male   & 80 & 0 & 1 & Yes & Private       & Rural & 105.92 & 32.5 & never smoked    & 1\\\\\n",
       "\t 60182 & Female & 49 & 0 & 0 & Yes & Private       & Urban & 171.23 & 34.4 & smokes          & 1\\\\\n",
       "\t  1665 & Female & 79 & 1 & 0 & Yes & Self-employed & Rural & 174.12 & 24   & never smoked    & 1\\\\\n",
       "\t 56669 & Male   & 81 & 0 & 0 & Yes & Private       & Urban & 186.21 & 29   & formerly smoked & 1\\\\\n",
       "\t 53882 & Male   & 74 & 1 & 1 & Yes & Private       & Rural &  70.09 & 27.4 & never smoked    & 1\\\\\n",
       "\t 10434 & Female & 69 & 0 & 0 & No  & Private       & Urban &  94.39 & 22.8 & never smoked    & 1\\\\\n",
       "\t 27419 & Female & 59 & 0 & 0 & Yes & Private       & Rural &  76.15 & N/A  & Unknown         & 1\\\\\n",
       "\t 60491 & Female & 78 & 0 & 0 & Yes & Private       & Urban &  58.57 & 24.2 & Unknown         & 1\\\\\n",
       "\\end{tabular}\n"
      ],
      "text/markdown": [
       "\n",
       "A tibble: 10 × 12\n",
       "\n",
       "| id &lt;dbl&gt; | gender &lt;chr&gt; | age &lt;dbl&gt; | hypertension &lt;dbl&gt; | heart_disease &lt;dbl&gt; | ever_married &lt;chr&gt; | work_type &lt;chr&gt; | Residence_type &lt;chr&gt; | avg_glucose_level &lt;dbl&gt; | bmi &lt;chr&gt; | smoking_status &lt;chr&gt; | stroke &lt;dbl&gt; |\n",
       "|---|---|---|---|---|---|---|---|---|---|---|---|\n",
       "|  9046 | Male   | 67 | 0 | 1 | Yes | Private       | Urban | 228.69 | 36.6 | formerly smoked | 1 |\n",
       "| 51676 | Female | 61 | 0 | 0 | Yes | Self-employed | Rural | 202.21 | N/A  | never smoked    | 1 |\n",
       "| 31112 | Male   | 80 | 0 | 1 | Yes | Private       | Rural | 105.92 | 32.5 | never smoked    | 1 |\n",
       "| 60182 | Female | 49 | 0 | 0 | Yes | Private       | Urban | 171.23 | 34.4 | smokes          | 1 |\n",
       "|  1665 | Female | 79 | 1 | 0 | Yes | Self-employed | Rural | 174.12 | 24   | never smoked    | 1 |\n",
       "| 56669 | Male   | 81 | 0 | 0 | Yes | Private       | Urban | 186.21 | 29   | formerly smoked | 1 |\n",
       "| 53882 | Male   | 74 | 1 | 1 | Yes | Private       | Rural |  70.09 | 27.4 | never smoked    | 1 |\n",
       "| 10434 | Female | 69 | 0 | 0 | No  | Private       | Urban |  94.39 | 22.8 | never smoked    | 1 |\n",
       "| 27419 | Female | 59 | 0 | 0 | Yes | Private       | Rural |  76.15 | N/A  | Unknown         | 1 |\n",
       "| 60491 | Female | 78 | 0 | 0 | Yes | Private       | Urban |  58.57 | 24.2 | Unknown         | 1 |\n",
       "\n"
      ],
      "text/plain": [
       "   id    gender age hypertension heart_disease ever_married work_type    \n",
       "1   9046 Male   67  0            1             Yes          Private      \n",
       "2  51676 Female 61  0            0             Yes          Self-employed\n",
       "3  31112 Male   80  0            1             Yes          Private      \n",
       "4  60182 Female 49  0            0             Yes          Private      \n",
       "5   1665 Female 79  1            0             Yes          Self-employed\n",
       "6  56669 Male   81  0            0             Yes          Private      \n",
       "7  53882 Male   74  1            1             Yes          Private      \n",
       "8  10434 Female 69  0            0             No           Private      \n",
       "9  27419 Female 59  0            0             Yes          Private      \n",
       "10 60491 Female 78  0            0             Yes          Private      \n",
       "   Residence_type avg_glucose_level bmi  smoking_status  stroke\n",
       "1  Urban          228.69            36.6 formerly smoked 1     \n",
       "2  Rural          202.21            N/A  never smoked    1     \n",
       "3  Rural          105.92            32.5 never smoked    1     \n",
       "4  Urban          171.23            34.4 smokes          1     \n",
       "5  Rural          174.12            24   never smoked    1     \n",
       "6  Urban          186.21            29   formerly smoked 1     \n",
       "7  Rural           70.09            27.4 never smoked    1     \n",
       "8  Urban           94.39            22.8 never smoked    1     \n",
       "9  Rural           76.15            N/A  Unknown         1     \n",
       "10 Urban           58.57            24.2 Unknown         1     "
      ]
     },
     "metadata": {},
     "output_type": "display_data"
    }
   ],
   "source": [
    "stroke <- read_csv('data/stroke_data.csv')\n",
    "\n",
    "stroke |>\n",
    "    head(10)"
   ]
  },
  {
   "cell_type": "markdown",
   "id": "b100f6a3-a108-4fde-aaf8-7c62fcdc2518",
   "metadata": {},
   "source": [
    "***Wrangling***\n"
   ]
  },
  {
   "cell_type": "code",
   "execution_count": 3,
   "id": "1c8ca0de-5d85-4b73-8900-0f69ab6cba05",
   "metadata": {},
   "outputs": [
    {
     "data": {
      "text/html": [
       "<table class=\"dataframe\">\n",
       "<caption>A tibble: 10 × 11</caption>\n",
       "<thead>\n",
       "\t<tr><th scope=col>gender</th><th scope=col>age</th><th scope=col>hypertension</th><th scope=col>heart_disease</th><th scope=col>ever_married</th><th scope=col>work_type</th><th scope=col>Residence_type</th><th scope=col>avg_glucose_level</th><th scope=col>bmi</th><th scope=col>smoking_status</th><th scope=col>stroke</th></tr>\n",
       "\t<tr><th scope=col>&lt;dbl&gt;</th><th scope=col>&lt;dbl&gt;</th><th scope=col>&lt;dbl&gt;</th><th scope=col>&lt;dbl&gt;</th><th scope=col>&lt;dbl&gt;</th><th scope=col>&lt;dbl&gt;</th><th scope=col>&lt;dbl&gt;</th><th scope=col>&lt;dbl&gt;</th><th scope=col>&lt;dbl&gt;</th><th scope=col>&lt;dbl&gt;</th><th scope=col>&lt;fct&gt;</th></tr>\n",
       "</thead>\n",
       "<tbody>\n",
       "\t<tr><td>0</td><td>67</td><td>0</td><td>1</td><td>0</td><td>0</td><td>0</td><td>228.69</td><td>36.6</td><td>0</td><td>1</td></tr>\n",
       "\t<tr><td>0</td><td>80</td><td>0</td><td>1</td><td>0</td><td>0</td><td>1</td><td>105.92</td><td>32.5</td><td>1</td><td>1</td></tr>\n",
       "\t<tr><td>1</td><td>49</td><td>0</td><td>0</td><td>0</td><td>0</td><td>0</td><td>171.23</td><td>34.4</td><td>2</td><td>1</td></tr>\n",
       "\t<tr><td>1</td><td>79</td><td>1</td><td>0</td><td>0</td><td>1</td><td>1</td><td>174.12</td><td>24.0</td><td>1</td><td>1</td></tr>\n",
       "\t<tr><td>0</td><td>81</td><td>0</td><td>0</td><td>0</td><td>0</td><td>0</td><td>186.21</td><td>29.0</td><td>0</td><td>1</td></tr>\n",
       "\t<tr><td>0</td><td>74</td><td>1</td><td>1</td><td>0</td><td>0</td><td>1</td><td> 70.09</td><td>27.4</td><td>1</td><td>1</td></tr>\n",
       "\t<tr><td>1</td><td>69</td><td>0</td><td>0</td><td>1</td><td>0</td><td>0</td><td> 94.39</td><td>22.8</td><td>1</td><td>1</td></tr>\n",
       "\t<tr><td>1</td><td>78</td><td>0</td><td>0</td><td>0</td><td>0</td><td>0</td><td> 58.57</td><td>24.2</td><td>3</td><td>1</td></tr>\n",
       "\t<tr><td>1</td><td>81</td><td>1</td><td>0</td><td>0</td><td>0</td><td>1</td><td> 80.43</td><td>29.7</td><td>1</td><td>1</td></tr>\n",
       "\t<tr><td>1</td><td>61</td><td>0</td><td>1</td><td>0</td><td>2</td><td>1</td><td>120.46</td><td>36.8</td><td>2</td><td>1</td></tr>\n",
       "</tbody>\n",
       "</table>\n"
      ],
      "text/latex": [
       "A tibble: 10 × 11\n",
       "\\begin{tabular}{lllllllllll}\n",
       " gender & age & hypertension & heart\\_disease & ever\\_married & work\\_type & Residence\\_type & avg\\_glucose\\_level & bmi & smoking\\_status & stroke\\\\\n",
       " <dbl> & <dbl> & <dbl> & <dbl> & <dbl> & <dbl> & <dbl> & <dbl> & <dbl> & <dbl> & <fct>\\\\\n",
       "\\hline\n",
       "\t 0 & 67 & 0 & 1 & 0 & 0 & 0 & 228.69 & 36.6 & 0 & 1\\\\\n",
       "\t 0 & 80 & 0 & 1 & 0 & 0 & 1 & 105.92 & 32.5 & 1 & 1\\\\\n",
       "\t 1 & 49 & 0 & 0 & 0 & 0 & 0 & 171.23 & 34.4 & 2 & 1\\\\\n",
       "\t 1 & 79 & 1 & 0 & 0 & 1 & 1 & 174.12 & 24.0 & 1 & 1\\\\\n",
       "\t 0 & 81 & 0 & 0 & 0 & 0 & 0 & 186.21 & 29.0 & 0 & 1\\\\\n",
       "\t 0 & 74 & 1 & 1 & 0 & 0 & 1 &  70.09 & 27.4 & 1 & 1\\\\\n",
       "\t 1 & 69 & 0 & 0 & 1 & 0 & 0 &  94.39 & 22.8 & 1 & 1\\\\\n",
       "\t 1 & 78 & 0 & 0 & 0 & 0 & 0 &  58.57 & 24.2 & 3 & 1\\\\\n",
       "\t 1 & 81 & 1 & 0 & 0 & 0 & 1 &  80.43 & 29.7 & 1 & 1\\\\\n",
       "\t 1 & 61 & 0 & 1 & 0 & 2 & 1 & 120.46 & 36.8 & 2 & 1\\\\\n",
       "\\end{tabular}\n"
      ],
      "text/markdown": [
       "\n",
       "A tibble: 10 × 11\n",
       "\n",
       "| gender &lt;dbl&gt; | age &lt;dbl&gt; | hypertension &lt;dbl&gt; | heart_disease &lt;dbl&gt; | ever_married &lt;dbl&gt; | work_type &lt;dbl&gt; | Residence_type &lt;dbl&gt; | avg_glucose_level &lt;dbl&gt; | bmi &lt;dbl&gt; | smoking_status &lt;dbl&gt; | stroke &lt;fct&gt; |\n",
       "|---|---|---|---|---|---|---|---|---|---|---|\n",
       "| 0 | 67 | 0 | 1 | 0 | 0 | 0 | 228.69 | 36.6 | 0 | 1 |\n",
       "| 0 | 80 | 0 | 1 | 0 | 0 | 1 | 105.92 | 32.5 | 1 | 1 |\n",
       "| 1 | 49 | 0 | 0 | 0 | 0 | 0 | 171.23 | 34.4 | 2 | 1 |\n",
       "| 1 | 79 | 1 | 0 | 0 | 1 | 1 | 174.12 | 24.0 | 1 | 1 |\n",
       "| 0 | 81 | 0 | 0 | 0 | 0 | 0 | 186.21 | 29.0 | 0 | 1 |\n",
       "| 0 | 74 | 1 | 1 | 0 | 0 | 1 |  70.09 | 27.4 | 1 | 1 |\n",
       "| 1 | 69 | 0 | 0 | 1 | 0 | 0 |  94.39 | 22.8 | 1 | 1 |\n",
       "| 1 | 78 | 0 | 0 | 0 | 0 | 0 |  58.57 | 24.2 | 3 | 1 |\n",
       "| 1 | 81 | 1 | 0 | 0 | 0 | 1 |  80.43 | 29.7 | 1 | 1 |\n",
       "| 1 | 61 | 0 | 1 | 0 | 2 | 1 | 120.46 | 36.8 | 2 | 1 |\n",
       "\n"
      ],
      "text/plain": [
       "   gender age hypertension heart_disease ever_married work_type Residence_type\n",
       "1  0      67  0            1             0            0         0             \n",
       "2  0      80  0            1             0            0         1             \n",
       "3  1      49  0            0             0            0         0             \n",
       "4  1      79  1            0             0            1         1             \n",
       "5  0      81  0            0             0            0         0             \n",
       "6  0      74  1            1             0            0         1             \n",
       "7  1      69  0            0             1            0         0             \n",
       "8  1      78  0            0             0            0         0             \n",
       "9  1      81  1            0             0            0         1             \n",
       "10 1      61  0            1             0            2         1             \n",
       "   avg_glucose_level bmi  smoking_status stroke\n",
       "1  228.69            36.6 0              1     \n",
       "2  105.92            32.5 1              1     \n",
       "3  171.23            34.4 2              1     \n",
       "4  174.12            24.0 1              1     \n",
       "5  186.21            29.0 0              1     \n",
       "6   70.09            27.4 1              1     \n",
       "7   94.39            22.8 1              1     \n",
       "8   58.57            24.2 3              1     \n",
       "9   80.43            29.7 1              1     \n",
       "10 120.46            36.8 2              1     "
      ]
     },
     "metadata": {},
     "output_type": "display_data"
    }
   ],
   "source": [
    "# subtracting 1 from the as.numeric since factor index starts at 1,\n",
    "# but we want to start at 0 for consistency\n",
    "\n",
    "stroke_numeric <- stroke |>\n",
    "    select(-id) |>\n",
    "    mutate(stroke = as_factor(stroke)) |>\n",
    "    mutate(ever_married = as.numeric(as_factor(ever_married)) - 1) |>\n",
    "    mutate(Residence_type = as.numeric(as_factor(Residence_type)) - 1) |>\n",
    "    mutate(work_type = as.numeric(as_factor(work_type)) - 1) |>\n",
    "    mutate(gender = as.numeric(as_factor(gender)) - 1) |>\n",
    "    mutate(smoking_status = as.numeric(as_factor(smoking_status)) - 1) |>\n",
    "    filter(bmi != \"N/A\") |>\n",
    "    mutate(bmi = as.numeric(bmi))\n",
    "\n",
    "stroke_numeric |>\n",
    "    head(10)"
   ]
  },
  {
   "cell_type": "code",
   "execution_count": 4,
   "id": "a7550bc0-2034-4168-9688-0ac36154b6b7",
   "metadata": {},
   "outputs": [
    {
     "data": {
      "text/html": [
       "<table class=\"dataframe\">\n",
       "<caption>A tibble: 10 × 11</caption>\n",
       "<thead>\n",
       "\t<tr><th scope=col>gender</th><th scope=col>age</th><th scope=col>hypertension</th><th scope=col>heart_disease</th><th scope=col>ever_married</th><th scope=col>work_type</th><th scope=col>Residence_type</th><th scope=col>avg_glucose_level</th><th scope=col>bmi</th><th scope=col>smoking_status</th><th scope=col>stroke</th></tr>\n",
       "\t<tr><th scope=col>&lt;dbl[,1]&gt;</th><th scope=col>&lt;dbl[,1]&gt;</th><th scope=col>&lt;dbl[,1]&gt;</th><th scope=col>&lt;dbl[,1]&gt;</th><th scope=col>&lt;dbl[,1]&gt;</th><th scope=col>&lt;dbl[,1]&gt;</th><th scope=col>&lt;dbl[,1]&gt;</th><th scope=col>&lt;dbl[,1]&gt;</th><th scope=col>&lt;dbl[,1]&gt;</th><th scope=col>&lt;dbl[,1]&gt;</th><th scope=col>&lt;fct&gt;</th></tr>\n",
       "</thead>\n",
       "<tbody>\n",
       "\t<tr><td>-1.1998205</td><td>1.0700290</td><td>-0.3180343</td><td> 4.3815219</td><td>-0.729410</td><td>-0.7495475</td><td>-0.9855395</td><td> 2.77741545</td><td> 0.98124492</td><td>-1.4528566</td><td>1</td></tr>\n",
       "\t<tr><td>-1.1998205</td><td>1.6463949</td><td>-0.3180343</td><td> 4.3815219</td><td>-0.729410</td><td>-0.7495475</td><td> 1.0144660</td><td> 0.01384039</td><td> 0.45922236</td><td>-0.5355482</td><td>1</td></tr>\n",
       "\t<tr><td> 0.8318866</td><td>0.2719838</td><td>-0.3180343</td><td>-0.2281847</td><td>-0.729410</td><td>-0.7495475</td><td>-0.9855395</td><td> 1.48398039</td><td> 0.70113526</td><td> 0.3817603</td><td>1</td></tr>\n",
       "\t<tr><td> 0.8318866</td><td>1.6020591</td><td> 3.1436741</td><td>-0.2281847</td><td>-0.729410</td><td> 0.1400871</td><td> 1.0144660</td><td> 1.54903481</td><td>-0.62301952</td><td>-0.5355482</td><td>1</td></tr>\n",
       "\t<tr><td>-1.1998205</td><td>1.6907307</td><td>-0.3180343</td><td>-0.2281847</td><td>-0.729410</td><td>-0.7495475</td><td>-0.9855395</td><td> 1.82118292</td><td> 0.01359335</td><td>-1.4528566</td><td>1</td></tr>\n",
       "\t<tr><td>-1.1998205</td><td>1.3803799</td><td> 3.1436741</td><td> 4.3815219</td><td>-0.729410</td><td>-0.7495475</td><td> 1.0144660</td><td>-0.79269943</td><td>-0.19012277</td><td>-0.5355482</td><td>1</td></tr>\n",
       "\t<tr><td> 0.8318866</td><td>1.1587006</td><td>-0.3180343</td><td>-0.2281847</td><td> 1.370692</td><td>-0.7495475</td><td>-0.9855395</td><td>-0.24570201</td><td>-0.77580661</td><td>-0.5355482</td><td>1</td></tr>\n",
       "\t<tr><td> 0.8318866</td><td>1.5577232</td><td>-0.3180343</td><td>-0.2281847</td><td>-0.729410</td><td>-0.7495475</td><td>-0.9855395</td><td>-1.05201673</td><td>-0.59755501</td><td> 1.2990687</td><td>1</td></tr>\n",
       "\t<tr><td> 0.8318866</td><td>1.6907307</td><td> 3.1436741</td><td>-0.2281847</td><td>-0.729410</td><td>-0.7495475</td><td> 1.0144660</td><td>-0.55994415</td><td> 0.10271915</td><td>-0.5355482</td><td>1</td></tr>\n",
       "\t<tr><td> 0.8318866</td><td>0.8040139</td><td>-0.3180343</td><td> 4.3815219</td><td>-0.729410</td><td> 1.0297216</td><td> 1.0144660</td><td> 0.34113844</td><td> 1.00670944</td><td> 0.3817603</td><td>1</td></tr>\n",
       "</tbody>\n",
       "</table>\n"
      ],
      "text/latex": [
       "A tibble: 10 × 11\n",
       "\\begin{tabular}{lllllllllll}\n",
       " gender & age & hypertension & heart\\_disease & ever\\_married & work\\_type & Residence\\_type & avg\\_glucose\\_level & bmi & smoking\\_status & stroke\\\\\n",
       " <dbl{[},1{]}> & <dbl{[},1{]}> & <dbl{[},1{]}> & <dbl{[},1{]}> & <dbl{[},1{]}> & <dbl{[},1{]}> & <dbl{[},1{]}> & <dbl{[},1{]}> & <dbl{[},1{]}> & <dbl{[},1{]}> & <fct>\\\\\n",
       "\\hline\n",
       "\t -1.1998205 & 1.0700290 & -0.3180343 &  4.3815219 & -0.729410 & -0.7495475 & -0.9855395 &  2.77741545 &  0.98124492 & -1.4528566 & 1\\\\\n",
       "\t -1.1998205 & 1.6463949 & -0.3180343 &  4.3815219 & -0.729410 & -0.7495475 &  1.0144660 &  0.01384039 &  0.45922236 & -0.5355482 & 1\\\\\n",
       "\t  0.8318866 & 0.2719838 & -0.3180343 & -0.2281847 & -0.729410 & -0.7495475 & -0.9855395 &  1.48398039 &  0.70113526 &  0.3817603 & 1\\\\\n",
       "\t  0.8318866 & 1.6020591 &  3.1436741 & -0.2281847 & -0.729410 &  0.1400871 &  1.0144660 &  1.54903481 & -0.62301952 & -0.5355482 & 1\\\\\n",
       "\t -1.1998205 & 1.6907307 & -0.3180343 & -0.2281847 & -0.729410 & -0.7495475 & -0.9855395 &  1.82118292 &  0.01359335 & -1.4528566 & 1\\\\\n",
       "\t -1.1998205 & 1.3803799 &  3.1436741 &  4.3815219 & -0.729410 & -0.7495475 &  1.0144660 & -0.79269943 & -0.19012277 & -0.5355482 & 1\\\\\n",
       "\t  0.8318866 & 1.1587006 & -0.3180343 & -0.2281847 &  1.370692 & -0.7495475 & -0.9855395 & -0.24570201 & -0.77580661 & -0.5355482 & 1\\\\\n",
       "\t  0.8318866 & 1.5577232 & -0.3180343 & -0.2281847 & -0.729410 & -0.7495475 & -0.9855395 & -1.05201673 & -0.59755501 &  1.2990687 & 1\\\\\n",
       "\t  0.8318866 & 1.6907307 &  3.1436741 & -0.2281847 & -0.729410 & -0.7495475 &  1.0144660 & -0.55994415 &  0.10271915 & -0.5355482 & 1\\\\\n",
       "\t  0.8318866 & 0.8040139 & -0.3180343 &  4.3815219 & -0.729410 &  1.0297216 &  1.0144660 &  0.34113844 &  1.00670944 &  0.3817603 & 1\\\\\n",
       "\\end{tabular}\n"
      ],
      "text/markdown": [
       "\n",
       "A tibble: 10 × 11\n",
       "\n",
       "| gender &lt;dbl[,1]&gt; | age &lt;dbl[,1]&gt; | hypertension &lt;dbl[,1]&gt; | heart_disease &lt;dbl[,1]&gt; | ever_married &lt;dbl[,1]&gt; | work_type &lt;dbl[,1]&gt; | Residence_type &lt;dbl[,1]&gt; | avg_glucose_level &lt;dbl[,1]&gt; | bmi &lt;dbl[,1]&gt; | smoking_status &lt;dbl[,1]&gt; | stroke &lt;fct&gt; |\n",
       "|---|---|---|---|---|---|---|---|---|---|---|\n",
       "| -1.1998205 | 1.0700290 | -0.3180343 |  4.3815219 | -0.729410 | -0.7495475 | -0.9855395 |  2.77741545 |  0.98124492 | -1.4528566 | 1 |\n",
       "| -1.1998205 | 1.6463949 | -0.3180343 |  4.3815219 | -0.729410 | -0.7495475 |  1.0144660 |  0.01384039 |  0.45922236 | -0.5355482 | 1 |\n",
       "|  0.8318866 | 0.2719838 | -0.3180343 | -0.2281847 | -0.729410 | -0.7495475 | -0.9855395 |  1.48398039 |  0.70113526 |  0.3817603 | 1 |\n",
       "|  0.8318866 | 1.6020591 |  3.1436741 | -0.2281847 | -0.729410 |  0.1400871 |  1.0144660 |  1.54903481 | -0.62301952 | -0.5355482 | 1 |\n",
       "| -1.1998205 | 1.6907307 | -0.3180343 | -0.2281847 | -0.729410 | -0.7495475 | -0.9855395 |  1.82118292 |  0.01359335 | -1.4528566 | 1 |\n",
       "| -1.1998205 | 1.3803799 |  3.1436741 |  4.3815219 | -0.729410 | -0.7495475 |  1.0144660 | -0.79269943 | -0.19012277 | -0.5355482 | 1 |\n",
       "|  0.8318866 | 1.1587006 | -0.3180343 | -0.2281847 |  1.370692 | -0.7495475 | -0.9855395 | -0.24570201 | -0.77580661 | -0.5355482 | 1 |\n",
       "|  0.8318866 | 1.5577232 | -0.3180343 | -0.2281847 | -0.729410 | -0.7495475 | -0.9855395 | -1.05201673 | -0.59755501 |  1.2990687 | 1 |\n",
       "|  0.8318866 | 1.6907307 |  3.1436741 | -0.2281847 | -0.729410 | -0.7495475 |  1.0144660 | -0.55994415 |  0.10271915 | -0.5355482 | 1 |\n",
       "|  0.8318866 | 0.8040139 | -0.3180343 |  4.3815219 | -0.729410 |  1.0297216 |  1.0144660 |  0.34113844 |  1.00670944 |  0.3817603 | 1 |\n",
       "\n"
      ],
      "text/plain": [
       "   gender     age       hypertension heart_disease ever_married work_type \n",
       "1  -1.1998205 1.0700290 -0.3180343    4.3815219    -0.729410    -0.7495475\n",
       "2  -1.1998205 1.6463949 -0.3180343    4.3815219    -0.729410    -0.7495475\n",
       "3   0.8318866 0.2719838 -0.3180343   -0.2281847    -0.729410    -0.7495475\n",
       "4   0.8318866 1.6020591  3.1436741   -0.2281847    -0.729410     0.1400871\n",
       "5  -1.1998205 1.6907307 -0.3180343   -0.2281847    -0.729410    -0.7495475\n",
       "6  -1.1998205 1.3803799  3.1436741    4.3815219    -0.729410    -0.7495475\n",
       "7   0.8318866 1.1587006 -0.3180343   -0.2281847     1.370692    -0.7495475\n",
       "8   0.8318866 1.5577232 -0.3180343   -0.2281847    -0.729410    -0.7495475\n",
       "9   0.8318866 1.6907307  3.1436741   -0.2281847    -0.729410    -0.7495475\n",
       "10  0.8318866 0.8040139 -0.3180343    4.3815219    -0.729410     1.0297216\n",
       "   Residence_type avg_glucose_level bmi         smoking_status stroke\n",
       "1  -0.9855395      2.77741545        0.98124492 -1.4528566     1     \n",
       "2   1.0144660      0.01384039        0.45922236 -0.5355482     1     \n",
       "3  -0.9855395      1.48398039        0.70113526  0.3817603     1     \n",
       "4   1.0144660      1.54903481       -0.62301952 -0.5355482     1     \n",
       "5  -0.9855395      1.82118292        0.01359335 -1.4528566     1     \n",
       "6   1.0144660     -0.79269943       -0.19012277 -0.5355482     1     \n",
       "7  -0.9855395     -0.24570201       -0.77580661 -0.5355482     1     \n",
       "8  -0.9855395     -1.05201673       -0.59755501  1.2990687     1     \n",
       "9   1.0144660     -0.55994415        0.10271915 -0.5355482     1     \n",
       "10  1.0144660      0.34113844        1.00670944  0.3817603     1     "
      ]
     },
     "metadata": {},
     "output_type": "display_data"
    }
   ],
   "source": [
    "temp_stroke <- stroke_numeric |>\n",
    "    select(stroke)\n",
    "\n",
    "stroke_scaled <- stroke_numeric |>\n",
    "    select(-stroke) |>\n",
    "    mutate(across(everything(), scale)) |>\n",
    "    bind_cols(temp_stroke)\n",
    "\n",
    "stroke_scaled |>\n",
    "    head(10)"
   ]
  },
  {
   "cell_type": "markdown",
   "id": "02fccd99-cede-4a33-80ed-d381845f815e",
   "metadata": {},
   "source": [
    "***Summary***\n",
    "\n"
   ]
  },
  {
   "cell_type": "code",
   "execution_count": 5,
   "id": "b9c8e81f-20d9-491c-9b9d-a0182a6bb67c",
   "metadata": {},
   "outputs": [],
   "source": [
    "set.seed(2020)\n",
    "\n",
    "stroke_ks <- tibble(k = 1:25)\n",
    "\n",
    "elbow_stats <- stroke_ks |>\n",
    "    rowwise() |>\n",
    "    mutate(tourism_clusts = list(kmeans(stroke_scaled, k, nstart=25))) |>\n",
    "    mutate(glanced = list(glance(tourism_clusts))) |>\n",
    "    select(-tourism_clusts) |>\n",
    "    unnest(glanced)"
   ]
  },
  {
   "cell_type": "markdown",
   "id": "a0384f5a-0336-4080-a9bb-3d55cc3ce4cd",
   "metadata": {},
   "source": [
    "***Visualization***\n"
   ]
  },
  {
   "cell_type": "code",
   "execution_count": 6,
   "id": "854bb36d-9cae-4f01-b1dc-6c51fd8031a2",
   "metadata": {},
   "outputs": [
    {
     "data": {
      "image/png": "[encoded data removed]",
      "text/plain": [
       "plot without title"
      ]
     },
     "metadata": {
      "image/png": {
       "height": 480,
       "width": 480
      }
     },
     "output_type": "display_data"
    }
   ],
   "source": [
    "set.seed(2020)\n",
    "options(repr.plot.height = 8, repr.plot.width = 8)\n",
    "\n",
    "stroke_elbow_plot <- elbow_stats |>\n",
    "    ggplot(aes(x = k, y = tot.withinss)) +\n",
    "        geom_point() +\n",
    "        geom_line() +\n",
    "        labs(x = \"K value\", y = \"Total Within-Cluster Sum of Squares\") +\n",
    "        scale_x_continuous(breaks = seq(0, 25, 1))\n",
    "stroke_elbow_plot"
   ]
  },
  {
   "cell_type": "markdown",
   "id": "a887b5db-c1db-47bb-ad83-056d9f2a962d",
   "metadata": {},
   "source": [
    "***Analysis***"
   ]
  },
  {
   "cell_type": "markdown",
   "id": "aac59f3b-1992-4109-b5dd-1d95af8598de",
   "metadata": {
    "tags": []
   },
   "source": [
    "## Discussion"
   ]
  },
  {
   "cell_type": "markdown",
   "id": "5352df4f-f058-4432-ac69-04d3c95451ff",
   "metadata": {},
   "source": [
    "***Findings***\n"
   ]
  },
  {
   "cell_type": "markdown",
   "id": "ffab1941-e550-4a8a-9ee8-60fac08802e1",
   "metadata": {},
   "source": [
    "***Significance***"
   ]
  },
  {
   "cell_type": "markdown",
   "id": "cf75fe8f-1bef-47aa-addb-0bc41b0e5bc3",
   "metadata": {
    "tags": []
   },
   "source": [
    "## References\n"
   ]
  },
  {
   "cell_type": "markdown",
   "id": "6793829b-4ed7-4cf8-b5af-b10ca315c736",
   "metadata": {},
   "source": [
    "-citations for readings and data used to complete the project-"
   ]
  }
 ],
 "metadata": {
  "kernelspec": {
   "display_name": "R",
   "language": "R",
   "name": "ir"
  },
  "language_info": {
   "codemirror_mode": "r",
   "file_extension": ".r",
   "mimetype": "text/x-r-source",
   "name": "R",
   "pygments_lexer": "r",
   "version": "4.1.3"
  }
 },
 "nbformat": 4,
 "nbformat_minor": 5
}
