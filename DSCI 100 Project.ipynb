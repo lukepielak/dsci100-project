{
 "cells": [
  {
   "cell_type": "markdown",
   "id": "1ecf1852",
   "metadata": {
    "tags": []
   },
   "source": [
    "# DSCI 100 Project"
   ]
  },
  {
   "cell_type": "markdown",
   "id": "c7f88342",
   "metadata": {
    "tags": []
   },
   "source": [
    "## Introduction\n"
   ]
  },
  {
   "cell_type": "markdown",
   "id": "68385d41",
   "metadata": {},
   "source": [
    "***Background***\n",
    "\n",
    "According to the World Health Organization (WHO), stroke is the second leading cause of death in the world making up approximately 11% of total deaths. Our project explores a dataset involving key characteristics of patients who have and have not suffered from a stroke. We will use data analysis tecniques such as regression and clustering to investigate this information and provide valuable insights that may guide future reasearch into this issue."
   ]
  },
  {
   "cell_type": "markdown",
   "id": "797dbb43",
   "metadata": {},
   "source": [
    "***Predictive Question***\n",
    "\n",
    "Our analysis is focused around a key question: Which factors are the strongest predictors of a stroke?\n"
   ]
  },
  {
   "cell_type": "markdown",
   "id": "0ff89bcf",
   "metadata": {},
   "source": [
    "***Data***\n",
    "\n",
    "To clarify the content of our dataset, each row/observation represents a patient and each column represents a health-related characteristic that is hypothesized to be a stroke predictor; both categorical and numerical data are included in this dataset. \n",
    "\n",
    "The variables represented in each column are as follows: \n",
    "- **id** (patient id)\n",
    "- **gender** (male/female)\n",
    "- **age** \n",
    "- **hypertension** (1/0) → Interpret as, \"Have they had hypertension? 1 is Yes, 0 is No.\"\n",
    "- **heart_disease** (1/0) → Interpret as, \"Have they had heart disease? 1 is Yes, 0 is No.\"\n",
    "- **ever_married** (Yes/No) → Interpret as, \"have they been married?\"\n",
    "- **work_type** (Private/Self-employed)\n",
    "- **Residence_type** (Urban/Rural)\n",
    "- **avg_glucose_level**\n",
    "- **bmi** → bmi stands for \"Body Mass Index\" and is a ratio of body mass to the square of a person's height.\n",
    "- **smoking_status** (formerly smoked/never smoked)\n",
    "- **stroke** (1/0) → Interpret as, \"Have they had a stroke? 1 is Yes, 0 is No.\""
   ]
  },
  {
   "cell_type": "markdown",
   "id": "213006ce",
   "metadata": {
    "tags": []
   },
   "source": [
    "## Methods and results\n"
   ]
  },
  {
   "cell_type": "markdown",
   "id": "aebd10da",
   "metadata": {},
   "source": [
    "***Importing Packages***"
   ]
  },
  {
   "cell_type": "code",
   "execution_count": 1,
   "id": "9d348d6c",
   "metadata": {},
   "outputs": [
    {
     "name": "stderr",
     "output_type": "stream",
     "text": [
      "── \u001b[1mAttaching packages\u001b[22m ─────────────────────────────────────── tidyverse 1.3.1 ──\n",
      "\n",
      "\u001b[32m✔\u001b[39m \u001b[34mggplot2\u001b[39m 3.3.6     \u001b[32m✔\u001b[39m \u001b[34mpurrr  \u001b[39m 0.3.4\n",
      "\u001b[32m✔\u001b[39m \u001b[34mtibble \u001b[39m 3.1.7     \u001b[32m✔\u001b[39m \u001b[34mdplyr  \u001b[39m 1.0.9\n",
      "\u001b[32m✔\u001b[39m \u001b[34mtidyr  \u001b[39m 1.2.0     \u001b[32m✔\u001b[39m \u001b[34mstringr\u001b[39m 1.4.0\n",
      "\u001b[32m✔\u001b[39m \u001b[34mreadr  \u001b[39m 2.1.2     \u001b[32m✔\u001b[39m \u001b[34mforcats\u001b[39m 0.5.1\n",
      "\n",
      "── \u001b[1mConflicts\u001b[22m ────────────────────────────────────────── tidyverse_conflicts() ──\n",
      "\u001b[31m✖\u001b[39m \u001b[34mdplyr\u001b[39m::\u001b[32mfilter()\u001b[39m masks \u001b[34mstats\u001b[39m::filter()\n",
      "\u001b[31m✖\u001b[39m \u001b[34mdplyr\u001b[39m::\u001b[32mlag()\u001b[39m    masks \u001b[34mstats\u001b[39m::lag()\n",
      "\n",
      "Registered S3 method overwritten by 'GGally':\n",
      "  method from   \n",
      "  +.gg   ggplot2\n",
      "\n"
     ]
    }
   ],
   "source": [
    "library(tidyverse)\n",
    "library(repr)\n",
    "library(infer)\n",
    "library(cowplot)\n",
    "library(GGally)\n",
    "library(broom)\n",
    "library(RColorBrewer)"
   ]
  },
  {
   "cell_type": "markdown",
   "id": "9b9d6f19",
   "metadata": {},
   "source": [
    "***Loading Data***"
   ]
  },
  {
   "cell_type": "markdown",
   "id": "9816c488",
   "metadata": {},
   "source": [
    "***Wrangling***\n"
   ]
  },
  {
   "cell_type": "code",
   "execution_count": 18,
   "id": "a9ba2ff6",
   "metadata": {},
   "outputs": [
    {
     "data": {
      "text/html": [
       "<table class=\"dataframe\">\n",
       "<caption>A tibble: 10 × 11</caption>\n",
       "<thead>\n",
       "\t<tr><th scope=col>gender</th><th scope=col>age</th><th scope=col>hypertension</th><th scope=col>heart_disease</th><th scope=col>ever_married</th><th scope=col>work_type</th><th scope=col>Residence_type</th><th scope=col>avg_glucose_level</th><th scope=col>bmi</th><th scope=col>smoking_status</th><th scope=col>stroke</th></tr>\n",
       "\t<tr><th scope=col>&lt;dbl&gt;</th><th scope=col>&lt;dbl&gt;</th><th scope=col>&lt;dbl&gt;</th><th scope=col>&lt;dbl&gt;</th><th scope=col>&lt;dbl&gt;</th><th scope=col>&lt;dbl&gt;</th><th scope=col>&lt;dbl&gt;</th><th scope=col>&lt;dbl&gt;</th><th scope=col>&lt;dbl&gt;</th><th scope=col>&lt;dbl&gt;</th><th scope=col>&lt;fct&gt;</th></tr>\n",
       "</thead>\n",
       "<tbody>\n",
       "\t<tr><td>0</td><td>67</td><td>0</td><td>1</td><td>0</td><td>0</td><td>0</td><td>228.69</td><td>36.6</td><td>0</td><td>1</td></tr>\n",
       "\t<tr><td>0</td><td>80</td><td>0</td><td>1</td><td>0</td><td>0</td><td>1</td><td>105.92</td><td>32.5</td><td>1</td><td>1</td></tr>\n",
       "\t<tr><td>1</td><td>49</td><td>0</td><td>0</td><td>0</td><td>0</td><td>0</td><td>171.23</td><td>34.4</td><td>2</td><td>1</td></tr>\n",
       "\t<tr><td>1</td><td>79</td><td>1</td><td>0</td><td>0</td><td>1</td><td>1</td><td>174.12</td><td>24.0</td><td>1</td><td>1</td></tr>\n",
       "\t<tr><td>0</td><td>81</td><td>0</td><td>0</td><td>0</td><td>0</td><td>0</td><td>186.21</td><td>29.0</td><td>0</td><td>1</td></tr>\n",
       "\t<tr><td>0</td><td>74</td><td>1</td><td>1</td><td>0</td><td>0</td><td>1</td><td> 70.09</td><td>27.4</td><td>1</td><td>1</td></tr>\n",
       "\t<tr><td>1</td><td>69</td><td>0</td><td>0</td><td>1</td><td>0</td><td>0</td><td> 94.39</td><td>22.8</td><td>1</td><td>1</td></tr>\n",
       "\t<tr><td>1</td><td>78</td><td>0</td><td>0</td><td>0</td><td>0</td><td>0</td><td> 58.57</td><td>24.2</td><td>3</td><td>1</td></tr>\n",
       "\t<tr><td>1</td><td>81</td><td>1</td><td>0</td><td>0</td><td>0</td><td>1</td><td> 80.43</td><td>29.7</td><td>1</td><td>1</td></tr>\n",
       "\t<tr><td>1</td><td>61</td><td>0</td><td>1</td><td>0</td><td>2</td><td>1</td><td>120.46</td><td>36.8</td><td>2</td><td>1</td></tr>\n",
       "</tbody>\n",
       "</table>\n"
      ],
      "text/latex": [
       "A tibble: 10 × 11\n",
       "\\begin{tabular}{lllllllllll}\n",
       " gender & age & hypertension & heart\\_disease & ever\\_married & work\\_type & Residence\\_type & avg\\_glucose\\_level & bmi & smoking\\_status & stroke\\\\\n",
       " <dbl> & <dbl> & <dbl> & <dbl> & <dbl> & <dbl> & <dbl> & <dbl> & <dbl> & <dbl> & <fct>\\\\\n",
       "\\hline\n",
       "\t 0 & 67 & 0 & 1 & 0 & 0 & 0 & 228.69 & 36.6 & 0 & 1\\\\\n",
       "\t 0 & 80 & 0 & 1 & 0 & 0 & 1 & 105.92 & 32.5 & 1 & 1\\\\\n",
       "\t 1 & 49 & 0 & 0 & 0 & 0 & 0 & 171.23 & 34.4 & 2 & 1\\\\\n",
       "\t 1 & 79 & 1 & 0 & 0 & 1 & 1 & 174.12 & 24.0 & 1 & 1\\\\\n",
       "\t 0 & 81 & 0 & 0 & 0 & 0 & 0 & 186.21 & 29.0 & 0 & 1\\\\\n",
       "\t 0 & 74 & 1 & 1 & 0 & 0 & 1 &  70.09 & 27.4 & 1 & 1\\\\\n",
       "\t 1 & 69 & 0 & 0 & 1 & 0 & 0 &  94.39 & 22.8 & 1 & 1\\\\\n",
       "\t 1 & 78 & 0 & 0 & 0 & 0 & 0 &  58.57 & 24.2 & 3 & 1\\\\\n",
       "\t 1 & 81 & 1 & 0 & 0 & 0 & 1 &  80.43 & 29.7 & 1 & 1\\\\\n",
       "\t 1 & 61 & 0 & 1 & 0 & 2 & 1 & 120.46 & 36.8 & 2 & 1\\\\\n",
       "\\end{tabular}\n"
      ],
      "text/markdown": [
       "\n",
       "A tibble: 10 × 11\n",
       "\n",
       "| gender &lt;dbl&gt; | age &lt;dbl&gt; | hypertension &lt;dbl&gt; | heart_disease &lt;dbl&gt; | ever_married &lt;dbl&gt; | work_type &lt;dbl&gt; | Residence_type &lt;dbl&gt; | avg_glucose_level &lt;dbl&gt; | bmi &lt;dbl&gt; | smoking_status &lt;dbl&gt; | stroke &lt;fct&gt; |\n",
       "|---|---|---|---|---|---|---|---|---|---|---|\n",
       "| 0 | 67 | 0 | 1 | 0 | 0 | 0 | 228.69 | 36.6 | 0 | 1 |\n",
       "| 0 | 80 | 0 | 1 | 0 | 0 | 1 | 105.92 | 32.5 | 1 | 1 |\n",
       "| 1 | 49 | 0 | 0 | 0 | 0 | 0 | 171.23 | 34.4 | 2 | 1 |\n",
       "| 1 | 79 | 1 | 0 | 0 | 1 | 1 | 174.12 | 24.0 | 1 | 1 |\n",
       "| 0 | 81 | 0 | 0 | 0 | 0 | 0 | 186.21 | 29.0 | 0 | 1 |\n",
       "| 0 | 74 | 1 | 1 | 0 | 0 | 1 |  70.09 | 27.4 | 1 | 1 |\n",
       "| 1 | 69 | 0 | 0 | 1 | 0 | 0 |  94.39 | 22.8 | 1 | 1 |\n",
       "| 1 | 78 | 0 | 0 | 0 | 0 | 0 |  58.57 | 24.2 | 3 | 1 |\n",
       "| 1 | 81 | 1 | 0 | 0 | 0 | 1 |  80.43 | 29.7 | 1 | 1 |\n",
       "| 1 | 61 | 0 | 1 | 0 | 2 | 1 | 120.46 | 36.8 | 2 | 1 |\n",
       "\n"
      ],
      "text/plain": [
       "   gender age hypertension heart_disease ever_married work_type Residence_type\n",
       "1  0      67  0            1             0            0         0             \n",
       "2  0      80  0            1             0            0         1             \n",
       "3  1      49  0            0             0            0         0             \n",
       "4  1      79  1            0             0            1         1             \n",
       "5  0      81  0            0             0            0         0             \n",
       "6  0      74  1            1             0            0         1             \n",
       "7  1      69  0            0             1            0         0             \n",
       "8  1      78  0            0             0            0         0             \n",
       "9  1      81  1            0             0            0         1             \n",
       "10 1      61  0            1             0            2         1             \n",
       "   avg_glucose_level bmi  smoking_status stroke\n",
       "1  228.69            36.6 0              1     \n",
       "2  105.92            32.5 1              1     \n",
       "3  171.23            34.4 2              1     \n",
       "4  174.12            24.0 1              1     \n",
       "5  186.21            29.0 0              1     \n",
       "6   70.09            27.4 1              1     \n",
       "7   94.39            22.8 1              1     \n",
       "8   58.57            24.2 3              1     \n",
       "9   80.43            29.7 1              1     \n",
       "10 120.46            36.8 2              1     "
      ]
     },
     "metadata": {},
     "output_type": "display_data"
    }
   ],
   "source": [
    "# subtracting 1 from the as.numeric since factor index starts at 1,\n",
    "# but we want to start at 0 for consistency\n",
    "\n",
    "stroke_numeric <- stroke |>\n",
    "    select(-id) |>\n",
    "    mutate(stroke = as_factor(stroke)) |>\n",
    "    mutate(ever_married = as.numeric(as_factor(ever_married)) - 1) |>\n",
    "    mutate(Residence_type = as.numeric(as_factor(Residence_type)) - 1) |>\n",
    "    mutate(work_type = as.numeric(as_factor(work_type)) - 1) |>\n",
    "    mutate(gender = as.numeric(as_factor(gender)) - 1) |>\n",
    "    mutate(smoking_status = as.numeric(as_factor(smoking_status)) - 1) |>\n",
    "    filter(bmi != \"N/A\") |>\n",
    "    mutate(bmi = as.numeric(bmi))\n",
    "\n",
    "stroke_numeric |>\n",
    "    head(10)"
   ]
  },
  {
   "cell_type": "code",
   "execution_count": 39,
   "id": "8bfdef4e",
   "metadata": {},
   "outputs": [
    {
     "data": {
      "text/html": [
       "<table class=\"dataframe\">\n",
       "<caption>A tibble: 10 × 11</caption>\n",
       "<thead>\n",
       "\t<tr><th scope=col>gender</th><th scope=col>age</th><th scope=col>hypertension</th><th scope=col>heart_disease</th><th scope=col>ever_married</th><th scope=col>work_type</th><th scope=col>Residence_type</th><th scope=col>avg_glucose_level</th><th scope=col>bmi</th><th scope=col>smoking_status</th><th scope=col>stroke</th></tr>\n",
       "\t<tr><th scope=col>&lt;dbl[,1]&gt;</th><th scope=col>&lt;dbl[,1]&gt;</th><th scope=col>&lt;dbl[,1]&gt;</th><th scope=col>&lt;dbl[,1]&gt;</th><th scope=col>&lt;dbl[,1]&gt;</th><th scope=col>&lt;dbl[,1]&gt;</th><th scope=col>&lt;dbl[,1]&gt;</th><th scope=col>&lt;dbl[,1]&gt;</th><th scope=col>&lt;dbl[,1]&gt;</th><th scope=col>&lt;dbl[,1]&gt;</th><th scope=col>&lt;fct&gt;</th></tr>\n",
       "</thead>\n",
       "<tbody>\n",
       "\t<tr><td>-1.1998205</td><td>1.0700290</td><td>-0.3180343</td><td> 4.3815219</td><td>-0.729410</td><td>-0.7495475</td><td>-0.9855395</td><td> 2.77741545</td><td> 0.98124492</td><td>-1.4528566</td><td>1</td></tr>\n",
       "\t<tr><td>-1.1998205</td><td>1.6463949</td><td>-0.3180343</td><td> 4.3815219</td><td>-0.729410</td><td>-0.7495475</td><td> 1.0144660</td><td> 0.01384039</td><td> 0.45922236</td><td>-0.5355482</td><td>1</td></tr>\n",
       "\t<tr><td> 0.8318866</td><td>0.2719838</td><td>-0.3180343</td><td>-0.2281847</td><td>-0.729410</td><td>-0.7495475</td><td>-0.9855395</td><td> 1.48398039</td><td> 0.70113526</td><td> 0.3817603</td><td>1</td></tr>\n",
       "\t<tr><td> 0.8318866</td><td>1.6020591</td><td> 3.1436741</td><td>-0.2281847</td><td>-0.729410</td><td> 0.1400871</td><td> 1.0144660</td><td> 1.54903481</td><td>-0.62301952</td><td>-0.5355482</td><td>1</td></tr>\n",
       "\t<tr><td>-1.1998205</td><td>1.6907307</td><td>-0.3180343</td><td>-0.2281847</td><td>-0.729410</td><td>-0.7495475</td><td>-0.9855395</td><td> 1.82118292</td><td> 0.01359335</td><td>-1.4528566</td><td>1</td></tr>\n",
       "\t<tr><td>-1.1998205</td><td>1.3803799</td><td> 3.1436741</td><td> 4.3815219</td><td>-0.729410</td><td>-0.7495475</td><td> 1.0144660</td><td>-0.79269943</td><td>-0.19012277</td><td>-0.5355482</td><td>1</td></tr>\n",
       "\t<tr><td> 0.8318866</td><td>1.1587006</td><td>-0.3180343</td><td>-0.2281847</td><td> 1.370692</td><td>-0.7495475</td><td>-0.9855395</td><td>-0.24570201</td><td>-0.77580661</td><td>-0.5355482</td><td>1</td></tr>\n",
       "\t<tr><td> 0.8318866</td><td>1.5577232</td><td>-0.3180343</td><td>-0.2281847</td><td>-0.729410</td><td>-0.7495475</td><td>-0.9855395</td><td>-1.05201673</td><td>-0.59755501</td><td> 1.2990687</td><td>1</td></tr>\n",
       "\t<tr><td> 0.8318866</td><td>1.6907307</td><td> 3.1436741</td><td>-0.2281847</td><td>-0.729410</td><td>-0.7495475</td><td> 1.0144660</td><td>-0.55994415</td><td> 0.10271915</td><td>-0.5355482</td><td>1</td></tr>\n",
       "\t<tr><td> 0.8318866</td><td>0.8040139</td><td>-0.3180343</td><td> 4.3815219</td><td>-0.729410</td><td> 1.0297216</td><td> 1.0144660</td><td> 0.34113844</td><td> 1.00670944</td><td> 0.3817603</td><td>1</td></tr>\n",
       "</tbody>\n",
       "</table>\n"
      ],
      "text/latex": [
       "A tibble: 10 × 11\n",
       "\\begin{tabular}{lllllllllll}\n",
       " gender & age & hypertension & heart\\_disease & ever\\_married & work\\_type & Residence\\_type & avg\\_glucose\\_level & bmi & smoking\\_status & stroke\\\\\n",
       " <dbl{[},1{]}> & <dbl{[},1{]}> & <dbl{[},1{]}> & <dbl{[},1{]}> & <dbl{[},1{]}> & <dbl{[},1{]}> & <dbl{[},1{]}> & <dbl{[},1{]}> & <dbl{[},1{]}> & <dbl{[},1{]}> & <fct>\\\\\n",
       "\\hline\n",
       "\t -1.1998205 & 1.0700290 & -0.3180343 &  4.3815219 & -0.729410 & -0.7495475 & -0.9855395 &  2.77741545 &  0.98124492 & -1.4528566 & 1\\\\\n",
       "\t -1.1998205 & 1.6463949 & -0.3180343 &  4.3815219 & -0.729410 & -0.7495475 &  1.0144660 &  0.01384039 &  0.45922236 & -0.5355482 & 1\\\\\n",
       "\t  0.8318866 & 0.2719838 & -0.3180343 & -0.2281847 & -0.729410 & -0.7495475 & -0.9855395 &  1.48398039 &  0.70113526 &  0.3817603 & 1\\\\\n",
       "\t  0.8318866 & 1.6020591 &  3.1436741 & -0.2281847 & -0.729410 &  0.1400871 &  1.0144660 &  1.54903481 & -0.62301952 & -0.5355482 & 1\\\\\n",
       "\t -1.1998205 & 1.6907307 & -0.3180343 & -0.2281847 & -0.729410 & -0.7495475 & -0.9855395 &  1.82118292 &  0.01359335 & -1.4528566 & 1\\\\\n",
       "\t -1.1998205 & 1.3803799 &  3.1436741 &  4.3815219 & -0.729410 & -0.7495475 &  1.0144660 & -0.79269943 & -0.19012277 & -0.5355482 & 1\\\\\n",
       "\t  0.8318866 & 1.1587006 & -0.3180343 & -0.2281847 &  1.370692 & -0.7495475 & -0.9855395 & -0.24570201 & -0.77580661 & -0.5355482 & 1\\\\\n",
       "\t  0.8318866 & 1.5577232 & -0.3180343 & -0.2281847 & -0.729410 & -0.7495475 & -0.9855395 & -1.05201673 & -0.59755501 &  1.2990687 & 1\\\\\n",
       "\t  0.8318866 & 1.6907307 &  3.1436741 & -0.2281847 & -0.729410 & -0.7495475 &  1.0144660 & -0.55994415 &  0.10271915 & -0.5355482 & 1\\\\\n",
       "\t  0.8318866 & 0.8040139 & -0.3180343 &  4.3815219 & -0.729410 &  1.0297216 &  1.0144660 &  0.34113844 &  1.00670944 &  0.3817603 & 1\\\\\n",
       "\\end{tabular}\n"
      ],
      "text/markdown": [
       "\n",
       "A tibble: 10 × 11\n",
       "\n",
       "| gender &lt;dbl[,1]&gt; | age &lt;dbl[,1]&gt; | hypertension &lt;dbl[,1]&gt; | heart_disease &lt;dbl[,1]&gt; | ever_married &lt;dbl[,1]&gt; | work_type &lt;dbl[,1]&gt; | Residence_type &lt;dbl[,1]&gt; | avg_glucose_level &lt;dbl[,1]&gt; | bmi &lt;dbl[,1]&gt; | smoking_status &lt;dbl[,1]&gt; | stroke &lt;fct&gt; |\n",
       "|---|---|---|---|---|---|---|---|---|---|---|\n",
       "| -1.1998205 | 1.0700290 | -0.3180343 |  4.3815219 | -0.729410 | -0.7495475 | -0.9855395 |  2.77741545 |  0.98124492 | -1.4528566 | 1 |\n",
       "| -1.1998205 | 1.6463949 | -0.3180343 |  4.3815219 | -0.729410 | -0.7495475 |  1.0144660 |  0.01384039 |  0.45922236 | -0.5355482 | 1 |\n",
       "|  0.8318866 | 0.2719838 | -0.3180343 | -0.2281847 | -0.729410 | -0.7495475 | -0.9855395 |  1.48398039 |  0.70113526 |  0.3817603 | 1 |\n",
       "|  0.8318866 | 1.6020591 |  3.1436741 | -0.2281847 | -0.729410 |  0.1400871 |  1.0144660 |  1.54903481 | -0.62301952 | -0.5355482 | 1 |\n",
       "| -1.1998205 | 1.6907307 | -0.3180343 | -0.2281847 | -0.729410 | -0.7495475 | -0.9855395 |  1.82118292 |  0.01359335 | -1.4528566 | 1 |\n",
       "| -1.1998205 | 1.3803799 |  3.1436741 |  4.3815219 | -0.729410 | -0.7495475 |  1.0144660 | -0.79269943 | -0.19012277 | -0.5355482 | 1 |\n",
       "|  0.8318866 | 1.1587006 | -0.3180343 | -0.2281847 |  1.370692 | -0.7495475 | -0.9855395 | -0.24570201 | -0.77580661 | -0.5355482 | 1 |\n",
       "|  0.8318866 | 1.5577232 | -0.3180343 | -0.2281847 | -0.729410 | -0.7495475 | -0.9855395 | -1.05201673 | -0.59755501 |  1.2990687 | 1 |\n",
       "|  0.8318866 | 1.6907307 |  3.1436741 | -0.2281847 | -0.729410 | -0.7495475 |  1.0144660 | -0.55994415 |  0.10271915 | -0.5355482 | 1 |\n",
       "|  0.8318866 | 0.8040139 | -0.3180343 |  4.3815219 | -0.729410 |  1.0297216 |  1.0144660 |  0.34113844 |  1.00670944 |  0.3817603 | 1 |\n",
       "\n"
      ],
      "text/plain": [
       "   gender     age       hypertension heart_disease ever_married work_type \n",
       "1  -1.1998205 1.0700290 -0.3180343    4.3815219    -0.729410    -0.7495475\n",
       "2  -1.1998205 1.6463949 -0.3180343    4.3815219    -0.729410    -0.7495475\n",
       "3   0.8318866 0.2719838 -0.3180343   -0.2281847    -0.729410    -0.7495475\n",
       "4   0.8318866 1.6020591  3.1436741   -0.2281847    -0.729410     0.1400871\n",
       "5  -1.1998205 1.6907307 -0.3180343   -0.2281847    -0.729410    -0.7495475\n",
       "6  -1.1998205 1.3803799  3.1436741    4.3815219    -0.729410    -0.7495475\n",
       "7   0.8318866 1.1587006 -0.3180343   -0.2281847     1.370692    -0.7495475\n",
       "8   0.8318866 1.5577232 -0.3180343   -0.2281847    -0.729410    -0.7495475\n",
       "9   0.8318866 1.6907307  3.1436741   -0.2281847    -0.729410    -0.7495475\n",
       "10  0.8318866 0.8040139 -0.3180343    4.3815219    -0.729410     1.0297216\n",
       "   Residence_type avg_glucose_level bmi         smoking_status stroke\n",
       "1  -0.9855395      2.77741545        0.98124492 -1.4528566     1     \n",
       "2   1.0144660      0.01384039        0.45922236 -0.5355482     1     \n",
       "3  -0.9855395      1.48398039        0.70113526  0.3817603     1     \n",
       "4   1.0144660      1.54903481       -0.62301952 -0.5355482     1     \n",
       "5  -0.9855395      1.82118292        0.01359335 -1.4528566     1     \n",
       "6   1.0144660     -0.79269943       -0.19012277 -0.5355482     1     \n",
       "7  -0.9855395     -0.24570201       -0.77580661 -0.5355482     1     \n",
       "8  -0.9855395     -1.05201673       -0.59755501  1.2990687     1     \n",
       "9   1.0144660     -0.55994415        0.10271915 -0.5355482     1     \n",
       "10  1.0144660      0.34113844        1.00670944  0.3817603     1     "
      ]
     },
     "metadata": {},
     "output_type": "display_data"
    }
   ],
   "source": [
    "temp_stroke <- stroke_numeric |>\n",
    "    select(stroke)\n",
    "\n",
    "stroke_scaled <- stroke_numeric |>\n",
    "    select(-stroke) |>\n",
    "    mutate(across(everything(), scale)) |>\n",
    "    bind_cols(temp_stroke)\n",
    "\n",
    "stroke_scaled |>\n",
    "    head(10)"
   ]
  },
  {
   "cell_type": "markdown",
   "id": "f30bba5e",
   "metadata": {},
   "source": [
    "***Summary***\n",
    "\n"
   ]
  },
  {
   "cell_type": "markdown",
   "id": "92e12dd7",
   "metadata": {},
   "source": [
    "***Visualization***\n"
   ]
  },
  {
   "cell_type": "code",
   "execution_count": 37,
   "id": "fd93e1b7",
   "metadata": {},
   "outputs": [],
   "source": [
    "options(repr.plot.height = 8, repr.plot.width = 15)"
   ]
  },
  {
   "cell_type": "markdown",
   "id": "d81d834d",
   "metadata": {},
   "source": [
    "***Analysis***"
   ]
  },
  {
   "cell_type": "markdown",
   "id": "70703d28",
   "metadata": {
    "tags": []
   },
   "source": [
    "## Discussion"
   ]
  },
  {
   "cell_type": "markdown",
   "id": "3ce4588a",
   "metadata": {},
   "source": [
    "***Findings***\n"
   ]
  },
  {
   "cell_type": "markdown",
   "id": "0a513e0d",
   "metadata": {},
   "source": [
    "***Significance***"
   ]
  },
  {
   "cell_type": "markdown",
   "id": "edc17928",
   "metadata": {
    "tags": []
   },
   "source": [
    "## References\n"
   ]
  },
  {
   "cell_type": "markdown",
   "id": "7ec86a90",
   "metadata": {},
   "source": [
    "-citations for readings and data used to complete the project-"
   ]
  }
 ],
 "metadata": {
  "kernelspec": {
   "display_name": "R",
   "language": "R",
   "name": "ir"
  },
  "language_info": {
   "codemirror_mode": "r",
   "file_extension": ".r",
   "mimetype": "text/x-r-source",
   "name": "R",
   "pygments_lexer": "r",
   "version": "4.1.3"
  }
 },
 "nbformat": 4,
 "nbformat_minor": 5
}
