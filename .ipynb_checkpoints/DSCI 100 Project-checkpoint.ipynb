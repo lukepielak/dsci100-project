{
 "cells": [
  {
   "cell_type": "markdown",
   "id": "9d95c5c7-439e-4fa0-9002-370882b47c8d",
   "metadata": {
    "tags": []
   },
   "source": [
    "# DSCI 100 Project"
   ]
  },
  {
   "cell_type": "markdown",
   "id": "c0886301-1062-422d-a53c-6effea0ec715",
   "metadata": {
    "tags": []
   },
   "source": [
    "## Introduction\n"
   ]
  },
  {
   "cell_type": "markdown",
   "id": "c7feb0d9-b21d-4be6-a22d-4c9db5d0c544",
   "metadata": {},
   "source": [
    "***Background***\n",
    "\n",
    "According to the World Health Organization (WHO), stroke is the second leading cause of death in the world; this makes up approximately 11% of total deaths. Our project explores a dataset involving key characteristics of patients who have and have not suffered from a stroke. We will use data analysis tecniques such as regression and clustering to investigate this information and provide valuable insights that will guide future reasearch into this issue."
   ]
  },
  {
   "cell_type": "markdown",
   "id": "c5b7f85f-bc76-4bbd-94a8-a144d88d7847",
   "metadata": {},
   "source": [
    "***Predictive Question***\n",
    "\n",
    "Our analysis is focused around a key question: Which factors are the strongest predictors of a stroke?\n"
   ]
  },
  {
   "cell_type": "markdown",
   "id": "b9485b00-8451-472a-92d4-75c52b7f3101",
   "metadata": {},
   "source": [
    "***Data***\n",
    "\n",
    "To clarify the content of our dataset, each row/observation represents a patient and each column represents a health-related characteristic that is hypothesized to be a stroke predictor; both categorical and numerical data are included in this dataset. \n",
    "\n",
    "The variables represented in each column are as follows: \n",
    "- **id** (patient id)\n",
    "- **gender** (male/female)\n",
    "- **age** \n",
    "- **hypertension** (1/0) → Interpret as, \"Have they had hypertension? 1 is Yes, 0 is No.\"\n",
    "- **heart_disease** (1/0) → Interpret as, \"Have they had heart disease? 1 is Yes, 0 is No.\"\n",
    "- **ever_married** (Yes/No) → Interpret as, \"have they been married?\"\n",
    "- **work_type** (Private/Self-employed)\n",
    "- **Residence_type** (Urban/Rural)\n",
    "- **avg_glucose_level**\n",
    "- **bmi** → bmi stands for \"Body Mass Index\" and is a ratio of body mass to the square of a person's height.\n",
    "- **smoking_status** (formerly smoked/never smoked)\n",
    "- **stroke** (1/0) → Interpret as, \"Have they had a stroke? 1 is Yes, 0 is No.\"\n",
    "\n",
    "The dataset we are using is downloaded from Kaggle:\n",
    "https://www.kaggle.com/datasets/fedesoriano/stroke-prediction-dataset"
   ]
  },
  {
   "cell_type": "markdown",
   "id": "da7eed13-f7ca-45f6-abfb-fcb44d892270",
   "metadata": {
    "tags": []
   },
   "source": [
    "## Methods and results\n"
   ]
  },
  {
   "cell_type": "markdown",
   "id": "f8bf749c-d48e-4527-9070-e77b13597b26",
   "metadata": {},
   "source": [
    "***Importing Packages***"
   ]
  },
  {
   "cell_type": "code",
   "execution_count": null,
   "id": "7c2ceb0d-b71b-4c74-9cfa-97b46db84920",
   "metadata": {},
   "outputs": [],
   "source": [
    "install.packages(\"plotly\")\n",
    "\n",
    "library(tidyverse)\n",
    "library(repr)\n",
    "library(infer)\n",
    "library(cowplot)\n",
    "library(GGally)\n",
    "library(broom)\n",
    "library(RColorBrewer)\n",
    "library(plotly)"
   ]
  },
  {
   "cell_type": "markdown",
   "id": "78452334-85c4-4222-a315-4a46b4ce1ac2",
   "metadata": {},
   "source": [
    "***Loading Data***"
   ]
  },
  {
   "cell_type": "code",
   "execution_count": null,
   "id": "0f6ce4a1-b129-4221-a8a8-38fd5ea45cc8",
   "metadata": {},
   "outputs": [],
   "source": [
    "stroke <- read_csv('data/stroke_data.csv')\n",
    "\n",
    "stroke |>\n",
    "    head(10)"
   ]
  },
  {
   "cell_type": "markdown",
   "id": "b100f6a3-a108-4fde-aaf8-7c62fcdc2518",
   "metadata": {},
   "source": [
    "***Wrangling***\n"
   ]
  },
  {
   "cell_type": "code",
   "execution_count": null,
   "id": "1c8ca0de-5d85-4b73-8900-0f69ab6cba05",
   "metadata": {},
   "outputs": [],
   "source": [
    "# subtracting 1 from the as.numeric since factor index starts at 1,\n",
    "# but we want to start at 0 for consistency\n",
    "\n",
    "stroke_numeric <- stroke |>\n",
    "    select(-id) |>\n",
    "    mutate(ever_married = as.numeric(as_factor(ever_married)) - 1) |>\n",
    "    mutate(residence_type = as.numeric(as_factor(Residence_type)) - 1) |>\n",
    "    select(-Residence_type) |>\n",
    "    mutate(work_type = as.numeric(as_factor(work_type)) - 1) |>\n",
    "    mutate(gender = as.numeric(as_factor(gender)) - 1) |>\n",
    "    mutate(smoking_status = as.numeric(as_factor(smoking_status)) - 1) |>\n",
    "    filter(bmi != \"N/A\") |>\n",
    "    mutate(bmi = as.numeric(bmi)) |>\n",
    "    mutate(stroke = as_factor(stroke)) |>\n",
    "    relocate(residence_type, .after = work_type)\n",
    "\n",
    "stroke_numeric |>\n",
    "    head(10)"
   ]
  },
  {
   "cell_type": "code",
   "execution_count": null,
   "id": "a7550bc0-2034-4168-9688-0ac36154b6b7",
   "metadata": {},
   "outputs": [],
   "source": [
    "temp_stroke <- stroke_numeric |>\n",
    "    select(stroke)\n",
    "\n",
    "stroke_scaled <- stroke_numeric |>\n",
    "    select(-stroke) |>\n",
    "    mutate(across(everything(), scale)) |>\n",
    "    bind_cols(temp_stroke)\n",
    "\n",
    "stroke_scaled |>\n",
    "    head(10)"
   ]
  },
  {
   "cell_type": "markdown",
   "id": "02fccd99-cede-4a33-80ed-d381845f815e",
   "metadata": {},
   "source": [
    "***Summary***\n",
    "\n"
   ]
  },
  {
   "cell_type": "code",
   "execution_count": null,
   "id": "b9c8e81f-20d9-491c-9b9d-a0182a6bb67c",
   "metadata": {},
   "outputs": [],
   "source": [
    "set.seed(2020)\n",
    "\n",
    "stroke_ks <- tibble(k = 1:25)\n",
    "\n",
    "elbow_stats <- stroke_ks |>\n",
    "    rowwise() |>\n",
    "    mutate(tourism_clusts = list(kmeans(stroke_scaled, k, nstart=25))) |>\n",
    "    mutate(glanced = list(glance(tourism_clusts))) |>\n",
    "    select(-tourism_clusts) |>\n",
    "    unnest(glanced)\n",
    "\n",
    "elbow_stats"
   ]
  },
  {
   "cell_type": "markdown",
   "id": "a0384f5a-0336-4080-a9bb-3d55cc3ce4cd",
   "metadata": {},
   "source": [
    "***Visualization***\n"
   ]
  },
  {
   "cell_type": "code",
   "execution_count": null,
   "id": "854bb36d-9cae-4f01-b1dc-6c51fd8031a2",
   "metadata": {},
   "outputs": [],
   "source": [
    "set.seed(2020)\n",
    "options(repr.plot.height = 8, repr.plot.width = 8)\n",
    "\n",
    "stroke_elbow_plot <- elbow_stats |>\n",
    "    ggplot(aes(x = k, y = tot.withinss)) +\n",
    "        geom_point() +\n",
    "        geom_line() +\n",
    "        labs(x = \"K value\", y = \"Total Within-Cluster Sum of Squares\") +\n",
    "        scale_x_continuous(breaks = seq(0, 25, 1))\n",
    "\n",
    "stroke_elbow_plot"
   ]
  },
  {
   "cell_type": "code",
   "execution_count": null,
   "id": "868deb95-62eb-40ae-81bf-62b0b56c49a1",
   "metadata": {},
   "outputs": [],
   "source": [
    "set.seed(2021)\n",
    "final_stroke_clusters <- kmeans(stroke_scaled |> select(-stroke), 7, nstart=4)\n",
    "final_stroke_augment <- augment(final_stroke_clusters, stroke_scaled)\n",
    "final_stroke_clusters$center"
   ]
  },
  {
   "cell_type": "code",
   "execution_count": null,
   "id": "b0907af1-3b91-4487-9cae-a3adafebb9ef",
   "metadata": {},
   "outputs": [],
   "source": [
    "final_stroke_plot_age_v_bmi <- final_stroke_augment |>\n",
    "    ggplot(aes(x = age, y = bmi, color = .cluster)) +\n",
    "        geom_point() +\n",
    "        labs(x = \"Age\", y = \"BMI\", title = \"Age vs BMI\", color = \"Cluster\")\n",
    "\n",
    "final_stroke_plot_age_v_bmi"
   ]
  },
  {
   "cell_type": "code",
   "execution_count": null,
   "id": "cc3a876f-9cee-43c1-8679-87bbc03235de",
   "metadata": {},
   "outputs": [],
   "source": [
    "final_stroke_plot_age_v_gluc <- final_stroke_augment |>\n",
    "    ggplot(aes(x = age, y = avg_glucose_level, color = .cluster)) +\n",
    "        geom_point() +\n",
    "        labs(x = \"Age\", y = \"Average Glucose Level\", title = \"Age vs Average Glucose Level\", color = \"Cluster\")\n",
    "\n",
    "final_stroke_plot_age_v_gluc"
   ]
  },
  {
   "cell_type": "code",
   "execution_count": null,
   "id": "303d397e-55b9-4e58-88df-265a9b5a8e90",
   "metadata": {},
   "outputs": [],
   "source": [
    "options(repr.plot.height = 8, repr.plot.width = 15)\n",
    "final_stroke_augment |>\n",
    "    select(-stroke) |>\n",
    "    pivot_longer(cols = -.cluster, names_to = 'category', values_to = 'value')  |> \n",
    "    ggplot(aes(value, fill = .cluster)) +\n",
    "        geom_density(alpha = 0.4, colour = 'white') +\n",
    "        facet_wrap(facets = vars(category), scales = 'free') +\n",
    "        labs(color = \"Cluster\") +\n",
    "        theme_minimal() +\n",
    "        theme(text = element_text(size = 20))"
   ]
  },
  {
   "cell_type": "markdown",
   "id": "a887b5db-c1db-47bb-ad83-056d9f2a962d",
   "metadata": {},
   "source": [
    "***Analysis***"
   ]
  },
  {
   "cell_type": "markdown",
   "id": "91640f97-04d5-4fb6-85c9-7ecd5b50d701",
   "metadata": {},
   "source": [
    "With regards to the density plot, it appears as though that the variables driving the clustering are "
   ]
  },
  {
   "cell_type": "markdown",
   "id": "aac59f3b-1992-4109-b5dd-1d95af8598de",
   "metadata": {
    "tags": []
   },
   "source": [
    "## Discussion"
   ]
  },
  {
   "cell_type": "markdown",
   "id": "5352df4f-f058-4432-ac69-04d3c95451ff",
   "metadata": {},
   "source": [
    "***Findings***\n"
   ]
  },
  {
   "cell_type": "markdown",
   "id": "ffab1941-e550-4a8a-9ee8-60fac08802e1",
   "metadata": {},
   "source": [
    "***Significance***"
   ]
  },
  {
   "cell_type": "markdown",
   "id": "cf75fe8f-1bef-47aa-addb-0bc41b0e5bc3",
   "metadata": {
    "tags": []
   },
   "source": [
    "## References\n"
   ]
  },
  {
   "cell_type": "markdown",
   "id": "6793829b-4ed7-4cf8-b5af-b10ca315c736",
   "metadata": {},
   "source": [
    "-citations for readings and data used to complete the project-"
   ]
  }
 ],
 "metadata": {
  "kernelspec": {
   "display_name": "R",
   "language": "R",
   "name": "ir"
  },
  "language_info": {
   "codemirror_mode": "r",
   "file_extension": ".r",
   "mimetype": "text/x-r-source",
   "name": "R",
   "pygments_lexer": "r",
   "version": "4.1.3"
  }
 },
 "nbformat": 4,
 "nbformat_minor": 5
}
