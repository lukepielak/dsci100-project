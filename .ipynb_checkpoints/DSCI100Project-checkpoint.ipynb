{
 "cells": [
  {
   "cell_type": "markdown",
   "id": "9d95c5c7-439e-4fa0-9002-370882b47c8d",
   "metadata": {
    "tags": []
   },
   "source": [
    "# DSCI 100 Project"
   ]
  },
  {
   "cell_type": "markdown",
   "id": "c0886301-1062-422d-a53c-6effea0ec715",
   "metadata": {
    "tags": []
   },
   "source": [
    "## Introduction\n"
   ]
  },
  {
   "cell_type": "markdown",
   "id": "c7feb0d9-b21d-4be6-a22d-4c9db5d0c544",
   "metadata": {},
   "source": [
    "### Background\n",
    "\n",
    "According to the World Health Organization (WHO), stroke is the second leading cause of death in the world; this makes up approximately 11% of total deaths. Our project explores a dataset involving key characteristics of patients who have and have not suffered from a stroke. We will use data analysis tecniques such as regression and clustering to investigate this information and provide valuable insights that will guide future reasearch into this issue."
   ]
  },
  {
   "cell_type": "markdown",
   "id": "c5b7f85f-bc76-4bbd-94a8-a144d88d7847",
   "metadata": {},
   "source": [
    "### Predictive Question\n",
    "\n",
    "Our analysis is focused around a key question: Which factors are the strongest predictors of a stroke?\n"
   ]
  },
  {
   "cell_type": "markdown",
   "id": "b9485b00-8451-472a-92d4-75c52b7f3101",
   "metadata": {},
   "source": [
    "### Data\n",
    "\n",
    "To clarify the content of our dataset, each row/observation represents a patient and each column represents a health-related characteristic that is hypothesized to be a stroke predictor; both categorical and numerical data are included in this dataset. \n",
    "\n",
    "The variables represented in each column are as follows: \n",
    "- **id** (patient id)\n",
    "- **gender** (male/female)\n",
    "- **age** \n",
    "- **hypertension** (1/0) → Interpret as, \"Have they had hypertension? 1 is Yes, 0 is No.\"\n",
    "- **heart_disease** (1/0) → Interpret as, \"Have they had heart disease? 1 is Yes, 0 is No.\"\n",
    "- **ever_married** (Yes/No) → Interpret as, \"have they been married?\"\n",
    "- **work_type** (Private/Self-employed)\n",
    "- **Residence_type** (Urban/Rural)\n",
    "- **avg_glucose_level**\n",
    "- **bmi** → bmi stands for \"Body Mass Index\" and is a ratio of body mass to the square of a person's height.\n",
    "- **smoking_status** (formerly smoked/never smoked)\n",
    "- **stroke** (1/0) → Interpret as, \"Have they had a stroke? 1 is Yes, 0 is No.\"\n",
    "\n",
    "The dataset we are using is downloaded from Kaggle:\n",
    "https://www.kaggle.com/datasets/fedesoriano/stroke-prediction-dataset"
   ]
  },
  {
   "cell_type": "markdown",
   "id": "da7eed13-f7ca-45f6-abfb-fcb44d892270",
   "metadata": {
    "tags": []
   },
   "source": [
    "## Methods and results\n"
   ]
  },
  {
   "cell_type": "markdown",
   "id": "f8bf749c-d48e-4527-9070-e77b13597b26",
   "metadata": {},
   "source": [
    "### Importing Packages"
   ]
  },
  {
   "cell_type": "code",
   "execution_count": 1,
   "id": "7c2ceb0d-b71b-4c74-9cfa-97b46db84920",
   "metadata": {},
   "outputs": [
    {
     "name": "stderr",
     "output_type": "stream",
     "text": [
      "── \u001b[1mAttaching packages\u001b[22m ─────────────────────────────────────── tidyverse 1.3.1 ──\n",
      "\n",
      "\u001b[32m✔\u001b[39m \u001b[34mggplot2\u001b[39m 3.3.6     \u001b[32m✔\u001b[39m \u001b[34mpurrr  \u001b[39m 0.3.4\n",
      "\u001b[32m✔\u001b[39m \u001b[34mtibble \u001b[39m 3.1.7     \u001b[32m✔\u001b[39m \u001b[34mdplyr  \u001b[39m 1.0.9\n",
      "\u001b[32m✔\u001b[39m \u001b[34mtidyr  \u001b[39m 1.2.0     \u001b[32m✔\u001b[39m \u001b[34mstringr\u001b[39m 1.4.0\n",
      "\u001b[32m✔\u001b[39m \u001b[34mreadr  \u001b[39m 2.1.2     \u001b[32m✔\u001b[39m \u001b[34mforcats\u001b[39m 0.5.1\n",
      "\n",
      "── \u001b[1mConflicts\u001b[22m ────────────────────────────────────────── tidyverse_conflicts() ──\n",
      "\u001b[31m✖\u001b[39m \u001b[34mdplyr\u001b[39m::\u001b[32mfilter()\u001b[39m masks \u001b[34mstats\u001b[39m::filter()\n",
      "\u001b[31m✖\u001b[39m \u001b[34mdplyr\u001b[39m::\u001b[32mlag()\u001b[39m    masks \u001b[34mstats\u001b[39m::lag()\n",
      "\n",
      "── \u001b[1mAttaching packages\u001b[22m ────────────────────────────────────── tidymodels 1.0.0 ──\n",
      "\n",
      "\u001b[32m✔\u001b[39m \u001b[34mbroom       \u001b[39m 1.0.0     \u001b[32m✔\u001b[39m \u001b[34mrsample     \u001b[39m 1.0.0\n",
      "\u001b[32m✔\u001b[39m \u001b[34mdials       \u001b[39m 1.0.0     \u001b[32m✔\u001b[39m \u001b[34mtune        \u001b[39m 1.0.0\n",
      "\u001b[32m✔\u001b[39m \u001b[34minfer       \u001b[39m 1.0.2     \u001b[32m✔\u001b[39m \u001b[34mworkflows   \u001b[39m 1.0.0\n",
      "\u001b[32m✔\u001b[39m \u001b[34mmodeldata   \u001b[39m 1.0.0     \u001b[32m✔\u001b[39m \u001b[34mworkflowsets\u001b[39m 1.0.0\n",
      "\u001b[32m✔\u001b[39m \u001b[34mparsnip     \u001b[39m 1.0.0     \u001b[32m✔\u001b[39m \u001b[34myardstick   \u001b[39m 1.0.0\n",
      "\u001b[32m✔\u001b[39m \u001b[34mrecipes     \u001b[39m 1.0.1     \n",
      "\n",
      "── \u001b[1mConflicts\u001b[22m ───────────────────────────────────────── tidymodels_conflicts() ──\n",
      "\u001b[31m✖\u001b[39m \u001b[34mscales\u001b[39m::\u001b[32mdiscard()\u001b[39m masks \u001b[34mpurrr\u001b[39m::discard()\n",
      "\u001b[31m✖\u001b[39m \u001b[34mdplyr\u001b[39m::\u001b[32mfilter()\u001b[39m   masks \u001b[34mstats\u001b[39m::filter()\n",
      "\u001b[31m✖\u001b[39m \u001b[34mrecipes\u001b[39m::\u001b[32mfixed()\u001b[39m  masks \u001b[34mstringr\u001b[39m::fixed()\n",
      "\u001b[31m✖\u001b[39m \u001b[34mdplyr\u001b[39m::\u001b[32mlag()\u001b[39m      masks \u001b[34mstats\u001b[39m::lag()\n",
      "\u001b[31m✖\u001b[39m \u001b[34myardstick\u001b[39m::\u001b[32mspec()\u001b[39m masks \u001b[34mreadr\u001b[39m::spec()\n",
      "\u001b[31m✖\u001b[39m \u001b[34mrecipes\u001b[39m::\u001b[32mstep()\u001b[39m   masks \u001b[34mstats\u001b[39m::step()\n",
      "\u001b[34m•\u001b[39m Use \u001b[32mtidymodels_prefer()\u001b[39m to resolve common conflicts.\n",
      "\n",
      "Registered S3 method overwritten by 'GGally':\n",
      "  method from   \n",
      "  +.gg   ggplot2\n",
      "\n"
     ]
    }
   ],
   "source": [
    "#install.packages(\"plotly\") # for 3d plots\n",
    "\n",
    "options(repr.matrix.max.rows = 6) # limit dataframe row display\n",
    "\n",
    "library(tidyverse)\n",
    "library(repr)\n",
    "library(tidymodels)\n",
    "library(infer)\n",
    "library(cowplot)\n",
    "library(GGally)\n",
    "library(broom)\n",
    "library(RColorBrewer)\n",
    "#library(plotly)"
   ]
  },
  {
   "cell_type": "markdown",
   "id": "78452334-85c4-4222-a315-4a46b4ce1ac2",
   "metadata": {},
   "source": [
    "### Loading Data"
   ]
  },
  {
   "cell_type": "code",
   "execution_count": 2,
   "id": "0f6ce4a1-b129-4221-a8a8-38fd5ea45cc8",
   "metadata": {},
   "outputs": [
    {
     "name": "stderr",
     "output_type": "stream",
     "text": [
      "\u001b[1mRows: \u001b[22m\u001b[34m5110\u001b[39m \u001b[1mColumns: \u001b[22m\u001b[34m12\u001b[39m\n",
      "\u001b[36m──\u001b[39m \u001b[1mColumn specification\u001b[22m \u001b[36m────────────────────────────────────────────────────────\u001b[39m\n",
      "\u001b[1mDelimiter:\u001b[22m \",\"\n",
      "\u001b[31mchr\u001b[39m (6): gender, ever_married, work_type, Residence_type, bmi, smoking_status\n",
      "\u001b[32mdbl\u001b[39m (6): id, age, hypertension, heart_disease, avg_glucose_level, stroke\n",
      "\n",
      "\u001b[36mℹ\u001b[39m Use `spec()` to retrieve the full column specification for this data.\n",
      "\u001b[36mℹ\u001b[39m Specify the column types or set `show_col_types = FALSE` to quiet this message.\n"
     ]
    },
    {
     "data": {
      "text/html": [
       "<table class=\"dataframe\">\n",
       "<caption>A spec_tbl_df: 5110 × 12</caption>\n",
       "<thead>\n",
       "\t<tr><th scope=col>id</th><th scope=col>gender</th><th scope=col>age</th><th scope=col>hypertension</th><th scope=col>heart_disease</th><th scope=col>ever_married</th><th scope=col>work_type</th><th scope=col>Residence_type</th><th scope=col>avg_glucose_level</th><th scope=col>bmi</th><th scope=col>smoking_status</th><th scope=col>stroke</th></tr>\n",
       "\t<tr><th scope=col>&lt;dbl&gt;</th><th scope=col>&lt;chr&gt;</th><th scope=col>&lt;dbl&gt;</th><th scope=col>&lt;dbl&gt;</th><th scope=col>&lt;dbl&gt;</th><th scope=col>&lt;chr&gt;</th><th scope=col>&lt;chr&gt;</th><th scope=col>&lt;chr&gt;</th><th scope=col>&lt;dbl&gt;</th><th scope=col>&lt;chr&gt;</th><th scope=col>&lt;chr&gt;</th><th scope=col>&lt;dbl&gt;</th></tr>\n",
       "</thead>\n",
       "<tbody>\n",
       "\t<tr><td> 9046</td><td>Male  </td><td>67</td><td>0</td><td>1</td><td>Yes</td><td>Private      </td><td>Urban</td><td>228.69</td><td>36.6</td><td>formerly smoked</td><td>1</td></tr>\n",
       "\t<tr><td>51676</td><td>Female</td><td>61</td><td>0</td><td>0</td><td>Yes</td><td>Self-employed</td><td>Rural</td><td>202.21</td><td>N/A </td><td>never smoked   </td><td>1</td></tr>\n",
       "\t<tr><td>31112</td><td>Male  </td><td>80</td><td>0</td><td>1</td><td>Yes</td><td>Private      </td><td>Rural</td><td>105.92</td><td>32.5</td><td>never smoked   </td><td>1</td></tr>\n",
       "\t<tr><td>⋮</td><td>⋮</td><td>⋮</td><td>⋮</td><td>⋮</td><td>⋮</td><td>⋮</td><td>⋮</td><td>⋮</td><td>⋮</td><td>⋮</td><td>⋮</td></tr>\n",
       "\t<tr><td>19723</td><td>Female</td><td>35</td><td>0</td><td>0</td><td>Yes</td><td>Self-employed</td><td>Rural</td><td> 82.99</td><td>30.6</td><td>never smoked   </td><td>0</td></tr>\n",
       "\t<tr><td>37544</td><td>Male  </td><td>51</td><td>0</td><td>0</td><td>Yes</td><td>Private      </td><td>Rural</td><td>166.29</td><td>25.6</td><td>formerly smoked</td><td>0</td></tr>\n",
       "\t<tr><td>44679</td><td>Female</td><td>44</td><td>0</td><td>0</td><td>Yes</td><td>Govt_job     </td><td>Urban</td><td> 85.28</td><td>26.2</td><td>Unknown        </td><td>0</td></tr>\n",
       "</tbody>\n",
       "</table>\n"
      ],
      "text/latex": [
       "A spec\\_tbl\\_df: 5110 × 12\n",
       "\\begin{tabular}{llllllllllll}\n",
       " id & gender & age & hypertension & heart\\_disease & ever\\_married & work\\_type & Residence\\_type & avg\\_glucose\\_level & bmi & smoking\\_status & stroke\\\\\n",
       " <dbl> & <chr> & <dbl> & <dbl> & <dbl> & <chr> & <chr> & <chr> & <dbl> & <chr> & <chr> & <dbl>\\\\\n",
       "\\hline\n",
       "\t  9046 & Male   & 67 & 0 & 1 & Yes & Private       & Urban & 228.69 & 36.6 & formerly smoked & 1\\\\\n",
       "\t 51676 & Female & 61 & 0 & 0 & Yes & Self-employed & Rural & 202.21 & N/A  & never smoked    & 1\\\\\n",
       "\t 31112 & Male   & 80 & 0 & 1 & Yes & Private       & Rural & 105.92 & 32.5 & never smoked    & 1\\\\\n",
       "\t ⋮ & ⋮ & ⋮ & ⋮ & ⋮ & ⋮ & ⋮ & ⋮ & ⋮ & ⋮ & ⋮ & ⋮\\\\\n",
       "\t 19723 & Female & 35 & 0 & 0 & Yes & Self-employed & Rural &  82.99 & 30.6 & never smoked    & 0\\\\\n",
       "\t 37544 & Male   & 51 & 0 & 0 & Yes & Private       & Rural & 166.29 & 25.6 & formerly smoked & 0\\\\\n",
       "\t 44679 & Female & 44 & 0 & 0 & Yes & Govt\\_job      & Urban &  85.28 & 26.2 & Unknown         & 0\\\\\n",
       "\\end{tabular}\n"
      ],
      "text/markdown": [
       "\n",
       "A spec_tbl_df: 5110 × 12\n",
       "\n",
       "| id &lt;dbl&gt; | gender &lt;chr&gt; | age &lt;dbl&gt; | hypertension &lt;dbl&gt; | heart_disease &lt;dbl&gt; | ever_married &lt;chr&gt; | work_type &lt;chr&gt; | Residence_type &lt;chr&gt; | avg_glucose_level &lt;dbl&gt; | bmi &lt;chr&gt; | smoking_status &lt;chr&gt; | stroke &lt;dbl&gt; |\n",
       "|---|---|---|---|---|---|---|---|---|---|---|---|\n",
       "|  9046 | Male   | 67 | 0 | 1 | Yes | Private       | Urban | 228.69 | 36.6 | formerly smoked | 1 |\n",
       "| 51676 | Female | 61 | 0 | 0 | Yes | Self-employed | Rural | 202.21 | N/A  | never smoked    | 1 |\n",
       "| 31112 | Male   | 80 | 0 | 1 | Yes | Private       | Rural | 105.92 | 32.5 | never smoked    | 1 |\n",
       "| ⋮ | ⋮ | ⋮ | ⋮ | ⋮ | ⋮ | ⋮ | ⋮ | ⋮ | ⋮ | ⋮ | ⋮ |\n",
       "| 19723 | Female | 35 | 0 | 0 | Yes | Self-employed | Rural |  82.99 | 30.6 | never smoked    | 0 |\n",
       "| 37544 | Male   | 51 | 0 | 0 | Yes | Private       | Rural | 166.29 | 25.6 | formerly smoked | 0 |\n",
       "| 44679 | Female | 44 | 0 | 0 | Yes | Govt_job      | Urban |  85.28 | 26.2 | Unknown         | 0 |\n",
       "\n"
      ],
      "text/plain": [
       "     id    gender age hypertension heart_disease ever_married work_type    \n",
       "1     9046 Male   67  0            1             Yes          Private      \n",
       "2    51676 Female 61  0            0             Yes          Self-employed\n",
       "3    31112 Male   80  0            1             Yes          Private      \n",
       "⋮    ⋮     ⋮      ⋮   ⋮            ⋮             ⋮            ⋮            \n",
       "5108 19723 Female 35  0            0             Yes          Self-employed\n",
       "5109 37544 Male   51  0            0             Yes          Private      \n",
       "5110 44679 Female 44  0            0             Yes          Govt_job     \n",
       "     Residence_type avg_glucose_level bmi  smoking_status  stroke\n",
       "1    Urban          228.69            36.6 formerly smoked 1     \n",
       "2    Rural          202.21            N/A  never smoked    1     \n",
       "3    Rural          105.92            32.5 never smoked    1     \n",
       "⋮    ⋮              ⋮                 ⋮    ⋮               ⋮     \n",
       "5108 Rural           82.99            30.6 never smoked    0     \n",
       "5109 Rural          166.29            25.6 formerly smoked 0     \n",
       "5110 Urban           85.28            26.2 Unknown         0     "
      ]
     },
     "metadata": {},
     "output_type": "display_data"
    }
   ],
   "source": [
    "stroke <- read_csv('data/stroke_data.csv')\n",
    "\n",
    "stroke"
   ]
  },
  {
   "cell_type": "markdown",
   "id": "b100f6a3-a108-4fde-aaf8-7c62fcdc2518",
   "metadata": {},
   "source": [
    "### Wrangling Data"
   ]
  },
  {
   "cell_type": "markdown",
   "id": "9071260c-ca7e-4cad-81e3-81683040ed2c",
   "metadata": {},
   "source": [
    "##### Transform data into a quantitative format"
   ]
  },
  {
   "cell_type": "code",
   "execution_count": 3,
   "id": "1c8ca0de-5d85-4b73-8900-0f69ab6cba05",
   "metadata": {},
   "outputs": [
    {
     "data": {
      "text/html": [
       "<table class=\"dataframe\">\n",
       "<caption>A tibble: 4909 × 11</caption>\n",
       "<thead>\n",
       "\t<tr><th scope=col>gender</th><th scope=col>age</th><th scope=col>hypertension</th><th scope=col>heart_disease</th><th scope=col>ever_married</th><th scope=col>work_type</th><th scope=col>residence_type</th><th scope=col>avg_glucose_level</th><th scope=col>bmi</th><th scope=col>smoking_status</th><th scope=col>stroke</th></tr>\n",
       "\t<tr><th scope=col>&lt;dbl&gt;</th><th scope=col>&lt;dbl&gt;</th><th scope=col>&lt;dbl&gt;</th><th scope=col>&lt;dbl&gt;</th><th scope=col>&lt;dbl&gt;</th><th scope=col>&lt;dbl&gt;</th><th scope=col>&lt;dbl&gt;</th><th scope=col>&lt;dbl&gt;</th><th scope=col>&lt;dbl&gt;</th><th scope=col>&lt;dbl&gt;</th><th scope=col>&lt;fct&gt;</th></tr>\n",
       "</thead>\n",
       "<tbody>\n",
       "\t<tr><td>0</td><td>67</td><td>0</td><td>1</td><td>0</td><td>0</td><td>0</td><td>228.69</td><td>36.6</td><td>0</td><td>1</td></tr>\n",
       "\t<tr><td>0</td><td>80</td><td>0</td><td>1</td><td>0</td><td>0</td><td>1</td><td>105.92</td><td>32.5</td><td>1</td><td>1</td></tr>\n",
       "\t<tr><td>1</td><td>49</td><td>0</td><td>0</td><td>0</td><td>0</td><td>0</td><td>171.23</td><td>34.4</td><td>2</td><td>1</td></tr>\n",
       "\t<tr><td>⋮</td><td>⋮</td><td>⋮</td><td>⋮</td><td>⋮</td><td>⋮</td><td>⋮</td><td>⋮</td><td>⋮</td><td>⋮</td><td>⋮</td></tr>\n",
       "\t<tr><td>1</td><td>35</td><td>0</td><td>0</td><td>0</td><td>1</td><td>1</td><td> 82.99</td><td>30.6</td><td>1</td><td>0</td></tr>\n",
       "\t<tr><td>0</td><td>51</td><td>0</td><td>0</td><td>0</td><td>0</td><td>1</td><td>166.29</td><td>25.6</td><td>0</td><td>0</td></tr>\n",
       "\t<tr><td>1</td><td>44</td><td>0</td><td>0</td><td>0</td><td>2</td><td>0</td><td> 85.28</td><td>26.2</td><td>3</td><td>0</td></tr>\n",
       "</tbody>\n",
       "</table>\n"
      ],
      "text/latex": [
       "A tibble: 4909 × 11\n",
       "\\begin{tabular}{lllllllllll}\n",
       " gender & age & hypertension & heart\\_disease & ever\\_married & work\\_type & residence\\_type & avg\\_glucose\\_level & bmi & smoking\\_status & stroke\\\\\n",
       " <dbl> & <dbl> & <dbl> & <dbl> & <dbl> & <dbl> & <dbl> & <dbl> & <dbl> & <dbl> & <fct>\\\\\n",
       "\\hline\n",
       "\t 0 & 67 & 0 & 1 & 0 & 0 & 0 & 228.69 & 36.6 & 0 & 1\\\\\n",
       "\t 0 & 80 & 0 & 1 & 0 & 0 & 1 & 105.92 & 32.5 & 1 & 1\\\\\n",
       "\t 1 & 49 & 0 & 0 & 0 & 0 & 0 & 171.23 & 34.4 & 2 & 1\\\\\n",
       "\t ⋮ & ⋮ & ⋮ & ⋮ & ⋮ & ⋮ & ⋮ & ⋮ & ⋮ & ⋮ & ⋮\\\\\n",
       "\t 1 & 35 & 0 & 0 & 0 & 1 & 1 &  82.99 & 30.6 & 1 & 0\\\\\n",
       "\t 0 & 51 & 0 & 0 & 0 & 0 & 1 & 166.29 & 25.6 & 0 & 0\\\\\n",
       "\t 1 & 44 & 0 & 0 & 0 & 2 & 0 &  85.28 & 26.2 & 3 & 0\\\\\n",
       "\\end{tabular}\n"
      ],
      "text/markdown": [
       "\n",
       "A tibble: 4909 × 11\n",
       "\n",
       "| gender &lt;dbl&gt; | age &lt;dbl&gt; | hypertension &lt;dbl&gt; | heart_disease &lt;dbl&gt; | ever_married &lt;dbl&gt; | work_type &lt;dbl&gt; | residence_type &lt;dbl&gt; | avg_glucose_level &lt;dbl&gt; | bmi &lt;dbl&gt; | smoking_status &lt;dbl&gt; | stroke &lt;fct&gt; |\n",
       "|---|---|---|---|---|---|---|---|---|---|---|\n",
       "| 0 | 67 | 0 | 1 | 0 | 0 | 0 | 228.69 | 36.6 | 0 | 1 |\n",
       "| 0 | 80 | 0 | 1 | 0 | 0 | 1 | 105.92 | 32.5 | 1 | 1 |\n",
       "| 1 | 49 | 0 | 0 | 0 | 0 | 0 | 171.23 | 34.4 | 2 | 1 |\n",
       "| ⋮ | ⋮ | ⋮ | ⋮ | ⋮ | ⋮ | ⋮ | ⋮ | ⋮ | ⋮ | ⋮ |\n",
       "| 1 | 35 | 0 | 0 | 0 | 1 | 1 |  82.99 | 30.6 | 1 | 0 |\n",
       "| 0 | 51 | 0 | 0 | 0 | 0 | 1 | 166.29 | 25.6 | 0 | 0 |\n",
       "| 1 | 44 | 0 | 0 | 0 | 2 | 0 |  85.28 | 26.2 | 3 | 0 |\n",
       "\n"
      ],
      "text/plain": [
       "     gender age hypertension heart_disease ever_married work_type\n",
       "1    0      67  0            1             0            0        \n",
       "2    0      80  0            1             0            0        \n",
       "3    1      49  0            0             0            0        \n",
       "⋮    ⋮      ⋮   ⋮            ⋮             ⋮            ⋮        \n",
       "4907 1      35  0            0             0            1        \n",
       "4908 0      51  0            0             0            0        \n",
       "4909 1      44  0            0             0            2        \n",
       "     residence_type avg_glucose_level bmi  smoking_status stroke\n",
       "1    0              228.69            36.6 0              1     \n",
       "2    1              105.92            32.5 1              1     \n",
       "3    0              171.23            34.4 2              1     \n",
       "⋮    ⋮              ⋮                 ⋮    ⋮              ⋮     \n",
       "4907 1               82.99            30.6 1              0     \n",
       "4908 1              166.29            25.6 0              0     \n",
       "4909 0               85.28            26.2 3              0     "
      ]
     },
     "metadata": {},
     "output_type": "display_data"
    }
   ],
   "source": [
    "# subtracting 1 from the as.numeric since factor index starts at 1,\n",
    "# but we want to start at 0 for consistency\n",
    "\n",
    "stroke_numeric <- stroke |>\n",
    "    select(-id) |>\n",
    "    mutate(ever_married = as.numeric(as_factor(ever_married)) - 1) |>\n",
    "    mutate(residence_type = as.numeric(as_factor(Residence_type)) - 1) |>\n",
    "    select(-Residence_type) |>\n",
    "    mutate(work_type = as.numeric(as_factor(work_type)) - 1) |>\n",
    "    mutate(gender = as.numeric(as_factor(gender)) - 1) |>\n",
    "    mutate(smoking_status = as.numeric(as_factor(smoking_status)) - 1) |>\n",
    "    filter(bmi != \"N/A\") |>\n",
    "    mutate(bmi = as.numeric(bmi)) |>\n",
    "    mutate(stroke = as_factor(stroke)) |>\n",
    "    relocate(residence_type, .after = work_type)\n",
    "\n",
    "stroke_numeric"
   ]
  },
  {
   "cell_type": "markdown",
   "id": "6a376b24-65fc-407e-a6a3-1040cb6b333e",
   "metadata": {},
   "source": [
    "##### K-Means Clustering Scaling"
   ]
  },
  {
   "cell_type": "code",
   "execution_count": 4,
   "id": "a7550bc0-2034-4168-9688-0ac36154b6b7",
   "metadata": {},
   "outputs": [
    {
     "data": {
      "text/html": [
       "<table class=\"dataframe\">\n",
       "<caption>A tibble: 4909 × 11</caption>\n",
       "<thead>\n",
       "\t<tr><th scope=col>gender</th><th scope=col>age</th><th scope=col>hypertension</th><th scope=col>heart_disease</th><th scope=col>ever_married</th><th scope=col>work_type</th><th scope=col>residence_type</th><th scope=col>avg_glucose_level</th><th scope=col>bmi</th><th scope=col>smoking_status</th><th scope=col>stroke</th></tr>\n",
       "\t<tr><th scope=col>&lt;dbl[,1]&gt;</th><th scope=col>&lt;dbl[,1]&gt;</th><th scope=col>&lt;dbl[,1]&gt;</th><th scope=col>&lt;dbl[,1]&gt;</th><th scope=col>&lt;dbl[,1]&gt;</th><th scope=col>&lt;dbl[,1]&gt;</th><th scope=col>&lt;dbl[,1]&gt;</th><th scope=col>&lt;dbl[,1]&gt;</th><th scope=col>&lt;dbl[,1]&gt;</th><th scope=col>&lt;dbl[,1]&gt;</th><th scope=col>&lt;fct&gt;</th></tr>\n",
       "</thead>\n",
       "<tbody>\n",
       "\t<tr><td>-1.1998205</td><td>1.0700290</td><td>-0.3180343</td><td> 4.3815219</td><td>-0.72941</td><td>-0.7495475</td><td>-0.9855395</td><td>2.77741545</td><td>0.9812449</td><td>-1.4528566</td><td>1</td></tr>\n",
       "\t<tr><td>-1.1998205</td><td>1.6463949</td><td>-0.3180343</td><td> 4.3815219</td><td>-0.72941</td><td>-0.7495475</td><td> 1.0144660</td><td>0.01384039</td><td>0.4592224</td><td>-0.5355482</td><td>1</td></tr>\n",
       "\t<tr><td> 0.8318866</td><td>0.2719838</td><td>-0.3180343</td><td>-0.2281847</td><td>-0.72941</td><td>-0.7495475</td><td>-0.9855395</td><td>1.48398039</td><td>0.7011353</td><td> 0.3817603</td><td>1</td></tr>\n",
       "\t<tr><td>⋮</td><td>⋮</td><td>⋮</td><td>⋮</td><td>⋮</td><td>⋮</td><td>⋮</td><td>⋮</td><td>⋮</td><td>⋮</td><td>⋮</td></tr>\n",
       "\t<tr><td> 0.8318866</td><td>-0.34871797</td><td>-0.3180343</td><td>-0.2281847</td><td>-0.72941</td><td> 0.1400871</td><td> 1.0144660</td><td>-0.5023181</td><td> 0.2173095</td><td>-0.5355482</td><td>0</td></tr>\n",
       "\t<tr><td>-1.1998205</td><td> 0.36065550</td><td>-0.3180343</td><td>-0.2281847</td><td>-0.72941</td><td>-0.7495475</td><td> 1.0144660</td><td> 1.3727801</td><td>-0.4193034</td><td>-1.4528566</td><td>0</td></tr>\n",
       "\t<tr><td> 0.8318866</td><td> 0.05030461</td><td>-0.3180343</td><td>-0.2281847</td><td>-0.72941</td><td> 1.0297216</td><td>-0.9855395</td><td>-0.4507698</td><td>-0.3429099</td><td> 1.2990687</td><td>0</td></tr>\n",
       "</tbody>\n",
       "</table>\n"
      ],
      "text/latex": [
       "A tibble: 4909 × 11\n",
       "\\begin{tabular}{lllllllllll}\n",
       " gender & age & hypertension & heart\\_disease & ever\\_married & work\\_type & residence\\_type & avg\\_glucose\\_level & bmi & smoking\\_status & stroke\\\\\n",
       " <dbl{[},1{]}> & <dbl{[},1{]}> & <dbl{[},1{]}> & <dbl{[},1{]}> & <dbl{[},1{]}> & <dbl{[},1{]}> & <dbl{[},1{]}> & <dbl{[},1{]}> & <dbl{[},1{]}> & <dbl{[},1{]}> & <fct>\\\\\n",
       "\\hline\n",
       "\t -1.1998205 & 1.0700290 & -0.3180343 &  4.3815219 & -0.72941 & -0.7495475 & -0.9855395 & 2.77741545 & 0.9812449 & -1.4528566 & 1\\\\\n",
       "\t -1.1998205 & 1.6463949 & -0.3180343 &  4.3815219 & -0.72941 & -0.7495475 &  1.0144660 & 0.01384039 & 0.4592224 & -0.5355482 & 1\\\\\n",
       "\t  0.8318866 & 0.2719838 & -0.3180343 & -0.2281847 & -0.72941 & -0.7495475 & -0.9855395 & 1.48398039 & 0.7011353 &  0.3817603 & 1\\\\\n",
       "\t ⋮ & ⋮ & ⋮ & ⋮ & ⋮ & ⋮ & ⋮ & ⋮ & ⋮ & ⋮ & ⋮\\\\\n",
       "\t  0.8318866 & -0.34871797 & -0.3180343 & -0.2281847 & -0.72941 &  0.1400871 &  1.0144660 & -0.5023181 &  0.2173095 & -0.5355482 & 0\\\\\n",
       "\t -1.1998205 &  0.36065550 & -0.3180343 & -0.2281847 & -0.72941 & -0.7495475 &  1.0144660 &  1.3727801 & -0.4193034 & -1.4528566 & 0\\\\\n",
       "\t  0.8318866 &  0.05030461 & -0.3180343 & -0.2281847 & -0.72941 &  1.0297216 & -0.9855395 & -0.4507698 & -0.3429099 &  1.2990687 & 0\\\\\n",
       "\\end{tabular}\n"
      ],
      "text/markdown": [
       "\n",
       "A tibble: 4909 × 11\n",
       "\n",
       "| gender &lt;dbl[,1]&gt; | age &lt;dbl[,1]&gt; | hypertension &lt;dbl[,1]&gt; | heart_disease &lt;dbl[,1]&gt; | ever_married &lt;dbl[,1]&gt; | work_type &lt;dbl[,1]&gt; | residence_type &lt;dbl[,1]&gt; | avg_glucose_level &lt;dbl[,1]&gt; | bmi &lt;dbl[,1]&gt; | smoking_status &lt;dbl[,1]&gt; | stroke &lt;fct&gt; |\n",
       "|---|---|---|---|---|---|---|---|---|---|---|\n",
       "| -1.1998205 | 1.0700290 | -0.3180343 |  4.3815219 | -0.72941 | -0.7495475 | -0.9855395 | 2.77741545 | 0.9812449 | -1.4528566 | 1 |\n",
       "| -1.1998205 | 1.6463949 | -0.3180343 |  4.3815219 | -0.72941 | -0.7495475 |  1.0144660 | 0.01384039 | 0.4592224 | -0.5355482 | 1 |\n",
       "|  0.8318866 | 0.2719838 | -0.3180343 | -0.2281847 | -0.72941 | -0.7495475 | -0.9855395 | 1.48398039 | 0.7011353 |  0.3817603 | 1 |\n",
       "| ⋮ | ⋮ | ⋮ | ⋮ | ⋮ | ⋮ | ⋮ | ⋮ | ⋮ | ⋮ | ⋮ |\n",
       "|  0.8318866 | -0.34871797 | -0.3180343 | -0.2281847 | -0.72941 |  0.1400871 |  1.0144660 | -0.5023181 |  0.2173095 | -0.5355482 | 0 |\n",
       "| -1.1998205 |  0.36065550 | -0.3180343 | -0.2281847 | -0.72941 | -0.7495475 |  1.0144660 |  1.3727801 | -0.4193034 | -1.4528566 | 0 |\n",
       "|  0.8318866 |  0.05030461 | -0.3180343 | -0.2281847 | -0.72941 |  1.0297216 | -0.9855395 | -0.4507698 | -0.3429099 |  1.2990687 | 0 |\n",
       "\n"
      ],
      "text/plain": [
       "     gender     age         hypertension heart_disease ever_married work_type \n",
       "1    -1.1998205 1.0700290   -0.3180343    4.3815219    -0.72941     -0.7495475\n",
       "2    -1.1998205 1.6463949   -0.3180343    4.3815219    -0.72941     -0.7495475\n",
       "3     0.8318866 0.2719838   -0.3180343   -0.2281847    -0.72941     -0.7495475\n",
       "⋮    ⋮          ⋮           ⋮            ⋮             ⋮            ⋮         \n",
       "4907  0.8318866 -0.34871797 -0.3180343   -0.2281847    -0.72941      0.1400871\n",
       "4908 -1.1998205  0.36065550 -0.3180343   -0.2281847    -0.72941     -0.7495475\n",
       "4909  0.8318866  0.05030461 -0.3180343   -0.2281847    -0.72941      1.0297216\n",
       "     residence_type avg_glucose_level bmi        smoking_status stroke\n",
       "1    -0.9855395     2.77741545        0.9812449  -1.4528566     1     \n",
       "2     1.0144660     0.01384039        0.4592224  -0.5355482     1     \n",
       "3    -0.9855395     1.48398039        0.7011353   0.3817603     1     \n",
       "⋮    ⋮              ⋮                 ⋮          ⋮              ⋮     \n",
       "4907  1.0144660     -0.5023181         0.2173095 -0.5355482     0     \n",
       "4908  1.0144660      1.3727801        -0.4193034 -1.4528566     0     \n",
       "4909 -0.9855395     -0.4507698        -0.3429099  1.2990687     0     "
      ]
     },
     "metadata": {},
     "output_type": "display_data"
    }
   ],
   "source": [
    "temp_stroke <- stroke_numeric |>\n",
    "    select(stroke)\n",
    "\n",
    "stroke_scaled <- stroke_numeric |>\n",
    "    select(-stroke) |>\n",
    "    mutate(across(everything(), scale)) |>\n",
    "    bind_cols(temp_stroke)\n",
    "\n",
    "stroke_scaled"
   ]
  },
  {
   "cell_type": "markdown",
   "id": "9ebe05d2-f712-42fd-a6a7-442959403eaa",
   "metadata": {},
   "source": [
    "##### K-Nearest Neighbour Train-Test-Split"
   ]
  },
  {
   "cell_type": "code",
   "execution_count": 5,
   "id": "c746ea48-a2e7-470e-ad4d-bfb8e76e4b7d",
   "metadata": {},
   "outputs": [
    {
     "data": {
      "text/html": [
       "<table class=\"dataframe\">\n",
       "<caption>A tibble: 3681 × 11</caption>\n",
       "<thead>\n",
       "\t<tr><th scope=col>gender</th><th scope=col>age</th><th scope=col>hypertension</th><th scope=col>heart_disease</th><th scope=col>ever_married</th><th scope=col>work_type</th><th scope=col>residence_type</th><th scope=col>avg_glucose_level</th><th scope=col>bmi</th><th scope=col>smoking_status</th><th scope=col>stroke</th></tr>\n",
       "\t<tr><th scope=col>&lt;dbl&gt;</th><th scope=col>&lt;dbl&gt;</th><th scope=col>&lt;dbl&gt;</th><th scope=col>&lt;dbl&gt;</th><th scope=col>&lt;dbl&gt;</th><th scope=col>&lt;dbl&gt;</th><th scope=col>&lt;dbl&gt;</th><th scope=col>&lt;dbl&gt;</th><th scope=col>&lt;dbl&gt;</th><th scope=col>&lt;dbl&gt;</th><th scope=col>&lt;fct&gt;</th></tr>\n",
       "</thead>\n",
       "<tbody>\n",
       "\t<tr><td>0</td><td>67</td><td>0</td><td>1</td><td>0</td><td>0</td><td>0</td><td>228.69</td><td>36.6</td><td>0</td><td>1</td></tr>\n",
       "\t<tr><td>1</td><td>49</td><td>0</td><td>0</td><td>0</td><td>0</td><td>0</td><td>171.23</td><td>34.4</td><td>2</td><td>1</td></tr>\n",
       "\t<tr><td>0</td><td>81</td><td>0</td><td>0</td><td>0</td><td>0</td><td>0</td><td>186.21</td><td>29.0</td><td>0</td><td>1</td></tr>\n",
       "\t<tr><td>⋮</td><td>⋮</td><td>⋮</td><td>⋮</td><td>⋮</td><td>⋮</td><td>⋮</td><td>⋮</td><td>⋮</td><td>⋮</td><td>⋮</td></tr>\n",
       "\t<tr><td>1</td><td>13</td><td>0</td><td>0</td><td>1</td><td>3</td><td>1</td><td>103.08</td><td>18.6</td><td>3</td><td>0</td></tr>\n",
       "\t<tr><td>1</td><td>35</td><td>0</td><td>0</td><td>0</td><td>1</td><td>1</td><td> 82.99</td><td>30.6</td><td>1</td><td>0</td></tr>\n",
       "\t<tr><td>0</td><td>51</td><td>0</td><td>0</td><td>0</td><td>0</td><td>1</td><td>166.29</td><td>25.6</td><td>0</td><td>0</td></tr>\n",
       "</tbody>\n",
       "</table>\n"
      ],
      "text/latex": [
       "A tibble: 3681 × 11\n",
       "\\begin{tabular}{lllllllllll}\n",
       " gender & age & hypertension & heart\\_disease & ever\\_married & work\\_type & residence\\_type & avg\\_glucose\\_level & bmi & smoking\\_status & stroke\\\\\n",
       " <dbl> & <dbl> & <dbl> & <dbl> & <dbl> & <dbl> & <dbl> & <dbl> & <dbl> & <dbl> & <fct>\\\\\n",
       "\\hline\n",
       "\t 0 & 67 & 0 & 1 & 0 & 0 & 0 & 228.69 & 36.6 & 0 & 1\\\\\n",
       "\t 1 & 49 & 0 & 0 & 0 & 0 & 0 & 171.23 & 34.4 & 2 & 1\\\\\n",
       "\t 0 & 81 & 0 & 0 & 0 & 0 & 0 & 186.21 & 29.0 & 0 & 1\\\\\n",
       "\t ⋮ & ⋮ & ⋮ & ⋮ & ⋮ & ⋮ & ⋮ & ⋮ & ⋮ & ⋮ & ⋮\\\\\n",
       "\t 1 & 13 & 0 & 0 & 1 & 3 & 1 & 103.08 & 18.6 & 3 & 0\\\\\n",
       "\t 1 & 35 & 0 & 0 & 0 & 1 & 1 &  82.99 & 30.6 & 1 & 0\\\\\n",
       "\t 0 & 51 & 0 & 0 & 0 & 0 & 1 & 166.29 & 25.6 & 0 & 0\\\\\n",
       "\\end{tabular}\n"
      ],
      "text/markdown": [
       "\n",
       "A tibble: 3681 × 11\n",
       "\n",
       "| gender &lt;dbl&gt; | age &lt;dbl&gt; | hypertension &lt;dbl&gt; | heart_disease &lt;dbl&gt; | ever_married &lt;dbl&gt; | work_type &lt;dbl&gt; | residence_type &lt;dbl&gt; | avg_glucose_level &lt;dbl&gt; | bmi &lt;dbl&gt; | smoking_status &lt;dbl&gt; | stroke &lt;fct&gt; |\n",
       "|---|---|---|---|---|---|---|---|---|---|---|\n",
       "| 0 | 67 | 0 | 1 | 0 | 0 | 0 | 228.69 | 36.6 | 0 | 1 |\n",
       "| 1 | 49 | 0 | 0 | 0 | 0 | 0 | 171.23 | 34.4 | 2 | 1 |\n",
       "| 0 | 81 | 0 | 0 | 0 | 0 | 0 | 186.21 | 29.0 | 0 | 1 |\n",
       "| ⋮ | ⋮ | ⋮ | ⋮ | ⋮ | ⋮ | ⋮ | ⋮ | ⋮ | ⋮ | ⋮ |\n",
       "| 1 | 13 | 0 | 0 | 1 | 3 | 1 | 103.08 | 18.6 | 3 | 0 |\n",
       "| 1 | 35 | 0 | 0 | 0 | 1 | 1 |  82.99 | 30.6 | 1 | 0 |\n",
       "| 0 | 51 | 0 | 0 | 0 | 0 | 1 | 166.29 | 25.6 | 0 | 0 |\n",
       "\n"
      ],
      "text/plain": [
       "     gender age hypertension heart_disease ever_married work_type\n",
       "1    0      67  0            1             0            0        \n",
       "2    1      49  0            0             0            0        \n",
       "3    0      81  0            0             0            0        \n",
       "⋮    ⋮      ⋮   ⋮            ⋮             ⋮            ⋮        \n",
       "3679 1      13  0            0             1            3        \n",
       "3680 1      35  0            0             0            1        \n",
       "3681 0      51  0            0             0            0        \n",
       "     residence_type avg_glucose_level bmi  smoking_status stroke\n",
       "1    0              228.69            36.6 0              1     \n",
       "2    0              171.23            34.4 2              1     \n",
       "3    0              186.21            29.0 0              1     \n",
       "⋮    ⋮              ⋮                 ⋮    ⋮              ⋮     \n",
       "3679 1              103.08            18.6 3              0     \n",
       "3680 1               82.99            30.6 1              0     \n",
       "3681 1              166.29            25.6 0              0     "
      ]
     },
     "metadata": {},
     "output_type": "display_data"
    }
   ],
   "source": [
    "stroke_split <- initial_split(stroke_numeric, prop = 0.75, strata = stroke)  \n",
    "stroke_train <- training(stroke_split)\n",
    "stroke_test  <- testing(stroke_split)\n",
    "\n",
    "stroke_train"
   ]
  },
  {
   "cell_type": "markdown",
   "id": "02fccd99-cede-4a33-80ed-d381845f815e",
   "metadata": {},
   "source": [
    "### Summary"
   ]
  },
  {
   "cell_type": "markdown",
   "id": "b636fb7a-cae7-4247-a518-8c6ea0bc35b3",
   "metadata": {},
   "source": [
    "Information about the dataset that is relevant to exploratory analysis goes here***"
   ]
  },
  {
   "cell_type": "markdown",
   "id": "dcfe9c19-32e0-4a5b-af4a-3da9302a8d53",
   "metadata": {},
   "source": [
    "#### K-Nearest Neighbour Classification Tuning"
   ]
  },
  {
   "cell_type": "code",
   "execution_count": 6,
   "id": "b728ea63-3776-4490-9834-f534a49e3ba9",
   "metadata": {},
   "outputs": [],
   "source": [
    "set.seed(2019)\n",
    "\n",
    "stroke_tune <- nearest_neighbor(weight_func = \"rectangular\", neighbors = tune()) |>\n",
    "    set_engine(\"kknn\") |> \n",
    "    set_mode(\"classification\")"
   ]
  },
  {
   "cell_type": "code",
   "execution_count": 22,
   "id": "5eb5affc-06a2-4f87-a2ef-7a595ea0d3fc",
   "metadata": {},
   "outputs": [
    {
     "data": {
      "text/plain": [
       "Recipe\n",
       "\n",
       "Inputs:\n",
       "\n",
       "      role #variables\n",
       "   outcome          1\n",
       " predictor         10\n",
       "\n",
       "Operations:\n",
       "\n",
       "Scaling for all_predictors()\n",
       "Centering for all_predictors()"
      ]
     },
     "metadata": {},
     "output_type": "display_data"
    }
   ],
   "source": [
    "stroke_recipe <- recipe(stroke ~ ., data = stroke_train) |>\n",
    "    step_scale(all_predictors()) |>\n",
    "    step_center(all_predictors())\n",
    "\n",
    "stroke_recipe"
   ]
  },
  {
   "cell_type": "code",
   "execution_count": 23,
   "id": "7c6a0603-05db-4422-a6c6-759602dca56a",
   "metadata": {},
   "outputs": [],
   "source": [
    "stroke_vfold <- vfold_cv(stroke_train, v = 5, strata = stroke)"
   ]
  },
  {
   "cell_type": "markdown",
   "id": "89f68408-336d-40fd-9419-0f034867f6ae",
   "metadata": {
    "tags": []
   },
   "source": [
    "##### Determine model accuracies through cross-validation"
   ]
  },
  {
   "cell_type": "code",
   "execution_count": 24,
   "id": "4dd844b3-e7bc-46a9-92a3-2b0c60816380",
   "metadata": {},
   "outputs": [
    {
     "data": {
      "text/html": [
       "<table class=\"dataframe\">\n",
       "<caption>A tibble: 26 × 7</caption>\n",
       "<thead>\n",
       "\t<tr><th scope=col>neighbors</th><th scope=col>.metric</th><th scope=col>.estimator</th><th scope=col>mean</th><th scope=col>n</th><th scope=col>std_err</th><th scope=col>.config</th></tr>\n",
       "\t<tr><th scope=col>&lt;dbl&gt;</th><th scope=col>&lt;chr&gt;</th><th scope=col>&lt;chr&gt;</th><th scope=col>&lt;dbl&gt;</th><th scope=col>&lt;int&gt;</th><th scope=col>&lt;dbl&gt;</th><th scope=col>&lt;chr&gt;</th></tr>\n",
       "</thead>\n",
       "<tbody>\n",
       "\t<tr><td>1</td><td>accuracy</td><td>binary</td><td>0.9261061</td><td>5</td><td>0.003208689</td><td>Preprocessor1_Model01</td></tr>\n",
       "\t<tr><td>1</td><td>roc_auc </td><td>binary</td><td>0.5111104</td><td>5</td><td>0.011346896</td><td>Preprocessor1_Model01</td></tr>\n",
       "\t<tr><td>3</td><td>accuracy</td><td>binary</td><td>0.9513709</td><td>5</td><td>0.002170776</td><td>Preprocessor1_Model02</td></tr>\n",
       "\t<tr><td>⋮</td><td>⋮</td><td>⋮</td><td>⋮</td><td>⋮</td><td>⋮</td><td>⋮</td></tr>\n",
       "\t<tr><td>23</td><td>roc_auc </td><td>binary</td><td>0.7402675</td><td>5</td><td>0.012838764</td><td>Preprocessor1_Model12</td></tr>\n",
       "\t<tr><td>25</td><td>accuracy</td><td>binary</td><td>0.9581632</td><td>5</td><td>0.001793953</td><td>Preprocessor1_Model13</td></tr>\n",
       "\t<tr><td>25</td><td>roc_auc </td><td>binary</td><td>0.7515289</td><td>5</td><td>0.012788100</td><td>Preprocessor1_Model13</td></tr>\n",
       "</tbody>\n",
       "</table>\n"
      ],
      "text/latex": [
       "A tibble: 26 × 7\n",
       "\\begin{tabular}{lllllll}\n",
       " neighbors & .metric & .estimator & mean & n & std\\_err & .config\\\\\n",
       " <dbl> & <chr> & <chr> & <dbl> & <int> & <dbl> & <chr>\\\\\n",
       "\\hline\n",
       "\t 1 & accuracy & binary & 0.9261061 & 5 & 0.003208689 & Preprocessor1\\_Model01\\\\\n",
       "\t 1 & roc\\_auc  & binary & 0.5111104 & 5 & 0.011346896 & Preprocessor1\\_Model01\\\\\n",
       "\t 3 & accuracy & binary & 0.9513709 & 5 & 0.002170776 & Preprocessor1\\_Model02\\\\\n",
       "\t ⋮ & ⋮ & ⋮ & ⋮ & ⋮ & ⋮ & ⋮\\\\\n",
       "\t 23 & roc\\_auc  & binary & 0.7402675 & 5 & 0.012838764 & Preprocessor1\\_Model12\\\\\n",
       "\t 25 & accuracy & binary & 0.9581632 & 5 & 0.001793953 & Preprocessor1\\_Model13\\\\\n",
       "\t 25 & roc\\_auc  & binary & 0.7515289 & 5 & 0.012788100 & Preprocessor1\\_Model13\\\\\n",
       "\\end{tabular}\n"
      ],
      "text/markdown": [
       "\n",
       "A tibble: 26 × 7\n",
       "\n",
       "| neighbors &lt;dbl&gt; | .metric &lt;chr&gt; | .estimator &lt;chr&gt; | mean &lt;dbl&gt; | n &lt;int&gt; | std_err &lt;dbl&gt; | .config &lt;chr&gt; |\n",
       "|---|---|---|---|---|---|---|\n",
       "| 1 | accuracy | binary | 0.9261061 | 5 | 0.003208689 | Preprocessor1_Model01 |\n",
       "| 1 | roc_auc  | binary | 0.5111104 | 5 | 0.011346896 | Preprocessor1_Model01 |\n",
       "| 3 | accuracy | binary | 0.9513709 | 5 | 0.002170776 | Preprocessor1_Model02 |\n",
       "| ⋮ | ⋮ | ⋮ | ⋮ | ⋮ | ⋮ | ⋮ |\n",
       "| 23 | roc_auc  | binary | 0.7402675 | 5 | 0.012838764 | Preprocessor1_Model12 |\n",
       "| 25 | accuracy | binary | 0.9581632 | 5 | 0.001793953 | Preprocessor1_Model13 |\n",
       "| 25 | roc_auc  | binary | 0.7515289 | 5 | 0.012788100 | Preprocessor1_Model13 |\n",
       "\n"
      ],
      "text/plain": [
       "   neighbors .metric  .estimator mean      n std_err     .config              \n",
       "1  1         accuracy binary     0.9261061 5 0.003208689 Preprocessor1_Model01\n",
       "2  1         roc_auc  binary     0.5111104 5 0.011346896 Preprocessor1_Model01\n",
       "3  3         accuracy binary     0.9513709 5 0.002170776 Preprocessor1_Model02\n",
       "⋮  ⋮         ⋮        ⋮          ⋮         ⋮ ⋮           ⋮                    \n",
       "24 23        roc_auc  binary     0.7402675 5 0.012838764 Preprocessor1_Model12\n",
       "25 25        accuracy binary     0.9581632 5 0.001793953 Preprocessor1_Model13\n",
       "26 25        roc_auc  binary     0.7515289 5 0.012788100 Preprocessor1_Model13"
      ]
     },
     "metadata": {},
     "output_type": "display_data"
    }
   ],
   "source": [
    "stroke_k_vals <- tibble(neighbors = seq(from = 1, to = 25, by = 2))\n",
    "\n",
    "stroke_results <- workflow() |>\n",
    "    add_recipe(stroke_recipe) |>\n",
    "    add_model(stroke_tune) |>\n",
    "    tune_grid(resamples = stroke_vfold, grid = stroke_k_vals) |>\n",
    "    collect_metrics()\n",
    "\n",
    "stroke_results"
   ]
  },
  {
   "cell_type": "code",
   "execution_count": 25,
   "id": "17a8b84d-f965-4e3c-bf8f-b19337904e2b",
   "metadata": {},
   "outputs": [
    {
     "data": {
      "text/html": [
       "<table class=\"dataframe\">\n",
       "<caption>A tibble: 13 × 7</caption>\n",
       "<thead>\n",
       "\t<tr><th scope=col>neighbors</th><th scope=col>.metric</th><th scope=col>.estimator</th><th scope=col>mean</th><th scope=col>n</th><th scope=col>std_err</th><th scope=col>.config</th></tr>\n",
       "\t<tr><th scope=col>&lt;dbl&gt;</th><th scope=col>&lt;chr&gt;</th><th scope=col>&lt;chr&gt;</th><th scope=col>&lt;dbl&gt;</th><th scope=col>&lt;int&gt;</th><th scope=col>&lt;dbl&gt;</th><th scope=col>&lt;chr&gt;</th></tr>\n",
       "</thead>\n",
       "<tbody>\n",
       "\t<tr><td>1</td><td>accuracy</td><td>binary</td><td>0.9261061</td><td>5</td><td>0.003208689</td><td>Preprocessor1_Model01</td></tr>\n",
       "\t<tr><td>3</td><td>accuracy</td><td>binary</td><td>0.9513709</td><td>5</td><td>0.002170776</td><td>Preprocessor1_Model02</td></tr>\n",
       "\t<tr><td>5</td><td>accuracy</td><td>binary</td><td>0.9562611</td><td>5</td><td>0.001578089</td><td>Preprocessor1_Model03</td></tr>\n",
       "\t<tr><td>⋮</td><td>⋮</td><td>⋮</td><td>⋮</td><td>⋮</td><td>⋮</td><td>⋮</td></tr>\n",
       "\t<tr><td>21</td><td>accuracy</td><td>binary</td><td>0.9581632</td><td>5</td><td>0.001793953</td><td>Preprocessor1_Model11</td></tr>\n",
       "\t<tr><td>23</td><td>accuracy</td><td>binary</td><td>0.9581632</td><td>5</td><td>0.001793953</td><td>Preprocessor1_Model12</td></tr>\n",
       "\t<tr><td>25</td><td>accuracy</td><td>binary</td><td>0.9581632</td><td>5</td><td>0.001793953</td><td>Preprocessor1_Model13</td></tr>\n",
       "</tbody>\n",
       "</table>\n"
      ],
      "text/latex": [
       "A tibble: 13 × 7\n",
       "\\begin{tabular}{lllllll}\n",
       " neighbors & .metric & .estimator & mean & n & std\\_err & .config\\\\\n",
       " <dbl> & <chr> & <chr> & <dbl> & <int> & <dbl> & <chr>\\\\\n",
       "\\hline\n",
       "\t 1 & accuracy & binary & 0.9261061 & 5 & 0.003208689 & Preprocessor1\\_Model01\\\\\n",
       "\t 3 & accuracy & binary & 0.9513709 & 5 & 0.002170776 & Preprocessor1\\_Model02\\\\\n",
       "\t 5 & accuracy & binary & 0.9562611 & 5 & 0.001578089 & Preprocessor1\\_Model03\\\\\n",
       "\t ⋮ & ⋮ & ⋮ & ⋮ & ⋮ & ⋮ & ⋮\\\\\n",
       "\t 21 & accuracy & binary & 0.9581632 & 5 & 0.001793953 & Preprocessor1\\_Model11\\\\\n",
       "\t 23 & accuracy & binary & 0.9581632 & 5 & 0.001793953 & Preprocessor1\\_Model12\\\\\n",
       "\t 25 & accuracy & binary & 0.9581632 & 5 & 0.001793953 & Preprocessor1\\_Model13\\\\\n",
       "\\end{tabular}\n"
      ],
      "text/markdown": [
       "\n",
       "A tibble: 13 × 7\n",
       "\n",
       "| neighbors &lt;dbl&gt; | .metric &lt;chr&gt; | .estimator &lt;chr&gt; | mean &lt;dbl&gt; | n &lt;int&gt; | std_err &lt;dbl&gt; | .config &lt;chr&gt; |\n",
       "|---|---|---|---|---|---|---|\n",
       "| 1 | accuracy | binary | 0.9261061 | 5 | 0.003208689 | Preprocessor1_Model01 |\n",
       "| 3 | accuracy | binary | 0.9513709 | 5 | 0.002170776 | Preprocessor1_Model02 |\n",
       "| 5 | accuracy | binary | 0.9562611 | 5 | 0.001578089 | Preprocessor1_Model03 |\n",
       "| ⋮ | ⋮ | ⋮ | ⋮ | ⋮ | ⋮ | ⋮ |\n",
       "| 21 | accuracy | binary | 0.9581632 | 5 | 0.001793953 | Preprocessor1_Model11 |\n",
       "| 23 | accuracy | binary | 0.9581632 | 5 | 0.001793953 | Preprocessor1_Model12 |\n",
       "| 25 | accuracy | binary | 0.9581632 | 5 | 0.001793953 | Preprocessor1_Model13 |\n",
       "\n"
      ],
      "text/plain": [
       "   neighbors .metric  .estimator mean      n std_err     .config              \n",
       "1  1         accuracy binary     0.9261061 5 0.003208689 Preprocessor1_Model01\n",
       "2  3         accuracy binary     0.9513709 5 0.002170776 Preprocessor1_Model02\n",
       "3  5         accuracy binary     0.9562611 5 0.001578089 Preprocessor1_Model03\n",
       "⋮  ⋮         ⋮        ⋮          ⋮         ⋮ ⋮           ⋮                    \n",
       "11 21        accuracy binary     0.9581632 5 0.001793953 Preprocessor1_Model11\n",
       "12 23        accuracy binary     0.9581632 5 0.001793953 Preprocessor1_Model12\n",
       "13 25        accuracy binary     0.9581632 5 0.001793953 Preprocessor1_Model13"
      ]
     },
     "metadata": {},
     "output_type": "display_data"
    }
   ],
   "source": [
    "stroke_accuracies <- stroke_results |> \n",
    "    filter(.metric == \"accuracy\")\n",
    "\n",
    "stroke_accuracies"
   ]
  },
  {
   "cell_type": "markdown",
   "id": "39bdfd5c-7d08-49a4-9aab-a2c09130d660",
   "metadata": {},
   "source": [
    "##### Create a k-nearest neighbours model with the optimal value for K (as shown by the accuracy_vs_k plot in the Visualization section)"
   ]
  },
  {
   "cell_type": "code",
   "execution_count": 28,
   "id": "b00c383e-df54-43ee-8b6d-d890491f11bd",
   "metadata": {},
   "outputs": [
    {
     "data": {
      "text/plain": [
       "K-Nearest Neighbor Model Specification (classification)\n",
       "\n",
       "Main Arguments:\n",
       "  neighbors = 11\n",
       "  weight_func = rectangular\n",
       "\n",
       "Computational engine: kknn \n"
      ]
     },
     "metadata": {},
     "output_type": "display_data"
    }
   ],
   "source": [
    "stroke_spec <- nearest_neighbor(weight_func = \"rectangular\", neighbors = 11) |>\n",
    "    set_engine(\"kknn\") |> \n",
    "    set_mode(\"classification\")\n",
    "\n",
    "stroke_spec"
   ]
  },
  {
   "cell_type": "code",
   "execution_count": 32,
   "id": "119ed68f-8caa-47b2-90e6-e26f3afe5cc3",
   "metadata": {},
   "outputs": [
    {
     "data": {
      "text/plain": [
       "══ Workflow [trained] ══════════════════════════════════════════════════════════\n",
       "\u001b[3mPreprocessor:\u001b[23m Recipe\n",
       "\u001b[3mModel:\u001b[23m nearest_neighbor()\n",
       "\n",
       "── Preprocessor ────────────────────────────────────────────────────────────────\n",
       "2 Recipe Steps\n",
       "\n",
       "• step_scale()\n",
       "• step_center()\n",
       "\n",
       "── Model ───────────────────────────────────────────────────────────────────────\n",
       "\n",
       "Call:\n",
       "kknn::train.kknn(formula = ..y ~ ., data = data, ks = min_rows(11,     data, 5), kernel = ~\"rectangular\")\n",
       "\n",
       "Type of response variable: nominal\n",
       "Minimal misclassification: 0.04265145\n",
       "Best kernel: rectangular\n",
       "Best k: 11"
      ]
     },
     "metadata": {},
     "output_type": "display_data"
    }
   ],
   "source": [
    "stroke_fit <- workflow() |>\n",
    "    add_recipe(stroke_recipe) |>\n",
    "    add_model(stroke_spec) |>\n",
    "    fit(data = stroke_train) # fit on training data to use on test data\n",
    "\n",
    "stroke_fit"
   ]
  },
  {
   "cell_type": "markdown",
   "id": "3521a9a3-aaf7-46cf-869b-b2c4a32f12a5",
   "metadata": {},
   "source": [
    "##### K-nearest neighbours predictions and summary statistics"
   ]
  },
  {
   "cell_type": "code",
   "execution_count": 33,
   "id": "b498cf20-6306-4532-88f6-78be5260ab43",
   "metadata": {},
   "outputs": [
    {
     "data": {
      "text/html": [
       "<table class=\"dataframe\">\n",
       "<caption>A tibble: 1228 × 12</caption>\n",
       "<thead>\n",
       "\t<tr><th scope=col>.pred_class</th><th scope=col>gender</th><th scope=col>age</th><th scope=col>hypertension</th><th scope=col>heart_disease</th><th scope=col>ever_married</th><th scope=col>work_type</th><th scope=col>residence_type</th><th scope=col>avg_glucose_level</th><th scope=col>bmi</th><th scope=col>smoking_status</th><th scope=col>stroke</th></tr>\n",
       "\t<tr><th scope=col>&lt;fct&gt;</th><th scope=col>&lt;dbl&gt;</th><th scope=col>&lt;dbl&gt;</th><th scope=col>&lt;dbl&gt;</th><th scope=col>&lt;dbl&gt;</th><th scope=col>&lt;dbl&gt;</th><th scope=col>&lt;dbl&gt;</th><th scope=col>&lt;dbl&gt;</th><th scope=col>&lt;dbl&gt;</th><th scope=col>&lt;dbl&gt;</th><th scope=col>&lt;dbl&gt;</th><th scope=col>&lt;fct&gt;</th></tr>\n",
       "</thead>\n",
       "<tbody>\n",
       "\t<tr><td>0</td><td>0</td><td>80</td><td>0</td><td>1</td><td>0</td><td>0</td><td>1</td><td>105.92</td><td>32.5</td><td>1</td><td>1</td></tr>\n",
       "\t<tr><td>0</td><td>1</td><td>79</td><td>1</td><td>0</td><td>0</td><td>1</td><td>1</td><td>174.12</td><td>24.0</td><td>1</td><td>1</td></tr>\n",
       "\t<tr><td>0</td><td>1</td><td>79</td><td>0</td><td>0</td><td>0</td><td>1</td><td>0</td><td>228.70</td><td>26.6</td><td>1</td><td>1</td></tr>\n",
       "\t<tr><td>⋮</td><td>⋮</td><td>⋮</td><td>⋮</td><td>⋮</td><td>⋮</td><td>⋮</td><td>⋮</td><td>⋮</td><td>⋮</td><td>⋮</td><td>⋮</td></tr>\n",
       "\t<tr><td>0</td><td>1</td><td>18</td><td>0</td><td>0</td><td>1</td><td>0</td><td>0</td><td> 82.85</td><td>46.9</td><td>3</td><td>0</td></tr>\n",
       "\t<tr><td>0</td><td>1</td><td>81</td><td>0</td><td>0</td><td>0</td><td>1</td><td>0</td><td>125.20</td><td>40.0</td><td>1</td><td>0</td></tr>\n",
       "\t<tr><td>0</td><td>1</td><td>44</td><td>0</td><td>0</td><td>0</td><td>2</td><td>0</td><td> 85.28</td><td>26.2</td><td>3</td><td>0</td></tr>\n",
       "</tbody>\n",
       "</table>\n"
      ],
      "text/latex": [
       "A tibble: 1228 × 12\n",
       "\\begin{tabular}{llllllllllll}\n",
       " .pred\\_class & gender & age & hypertension & heart\\_disease & ever\\_married & work\\_type & residence\\_type & avg\\_glucose\\_level & bmi & smoking\\_status & stroke\\\\\n",
       " <fct> & <dbl> & <dbl> & <dbl> & <dbl> & <dbl> & <dbl> & <dbl> & <dbl> & <dbl> & <dbl> & <fct>\\\\\n",
       "\\hline\n",
       "\t 0 & 0 & 80 & 0 & 1 & 0 & 0 & 1 & 105.92 & 32.5 & 1 & 1\\\\\n",
       "\t 0 & 1 & 79 & 1 & 0 & 0 & 1 & 1 & 174.12 & 24.0 & 1 & 1\\\\\n",
       "\t 0 & 1 & 79 & 0 & 0 & 0 & 1 & 0 & 228.70 & 26.6 & 1 & 1\\\\\n",
       "\t ⋮ & ⋮ & ⋮ & ⋮ & ⋮ & ⋮ & ⋮ & ⋮ & ⋮ & ⋮ & ⋮ & ⋮\\\\\n",
       "\t 0 & 1 & 18 & 0 & 0 & 1 & 0 & 0 &  82.85 & 46.9 & 3 & 0\\\\\n",
       "\t 0 & 1 & 81 & 0 & 0 & 0 & 1 & 0 & 125.20 & 40.0 & 1 & 0\\\\\n",
       "\t 0 & 1 & 44 & 0 & 0 & 0 & 2 & 0 &  85.28 & 26.2 & 3 & 0\\\\\n",
       "\\end{tabular}\n"
      ],
      "text/markdown": [
       "\n",
       "A tibble: 1228 × 12\n",
       "\n",
       "| .pred_class &lt;fct&gt; | gender &lt;dbl&gt; | age &lt;dbl&gt; | hypertension &lt;dbl&gt; | heart_disease &lt;dbl&gt; | ever_married &lt;dbl&gt; | work_type &lt;dbl&gt; | residence_type &lt;dbl&gt; | avg_glucose_level &lt;dbl&gt; | bmi &lt;dbl&gt; | smoking_status &lt;dbl&gt; | stroke &lt;fct&gt; |\n",
       "|---|---|---|---|---|---|---|---|---|---|---|---|\n",
       "| 0 | 0 | 80 | 0 | 1 | 0 | 0 | 1 | 105.92 | 32.5 | 1 | 1 |\n",
       "| 0 | 1 | 79 | 1 | 0 | 0 | 1 | 1 | 174.12 | 24.0 | 1 | 1 |\n",
       "| 0 | 1 | 79 | 0 | 0 | 0 | 1 | 0 | 228.70 | 26.6 | 1 | 1 |\n",
       "| ⋮ | ⋮ | ⋮ | ⋮ | ⋮ | ⋮ | ⋮ | ⋮ | ⋮ | ⋮ | ⋮ | ⋮ |\n",
       "| 0 | 1 | 18 | 0 | 0 | 1 | 0 | 0 |  82.85 | 46.9 | 3 | 0 |\n",
       "| 0 | 1 | 81 | 0 | 0 | 0 | 1 | 0 | 125.20 | 40.0 | 1 | 0 |\n",
       "| 0 | 1 | 44 | 0 | 0 | 0 | 2 | 0 |  85.28 | 26.2 | 3 | 0 |\n",
       "\n"
      ],
      "text/plain": [
       "     .pred_class gender age hypertension heart_disease ever_married work_type\n",
       "1    0           0      80  0            1             0            0        \n",
       "2    0           1      79  1            0             0            1        \n",
       "3    0           1      79  0            0             0            1        \n",
       "⋮    ⋮           ⋮      ⋮   ⋮            ⋮             ⋮            ⋮        \n",
       "1226 0           1      18  0            0             1            0        \n",
       "1227 0           1      81  0            0             0            1        \n",
       "1228 0           1      44  0            0             0            2        \n",
       "     residence_type avg_glucose_level bmi  smoking_status stroke\n",
       "1    1              105.92            32.5 1              1     \n",
       "2    1              174.12            24.0 1              1     \n",
       "3    0              228.70            26.6 1              1     \n",
       "⋮    ⋮              ⋮                 ⋮    ⋮              ⋮     \n",
       "1226 0               82.85            46.9 3              0     \n",
       "1227 0              125.20            40.0 1              0     \n",
       "1228 0               85.28            26.2 3              0     "
      ]
     },
     "metadata": {},
     "output_type": "display_data"
    }
   ],
   "source": [
    "stroke_predictions <- predict(stroke_fit, stroke_test) |>\n",
    "    bind_cols(stroke_test)\n",
    "\n",
    "stroke_predictions"
   ]
  },
  {
   "cell_type": "code",
   "execution_count": 34,
   "id": "31f1db8a-dc07-4d57-8290-e72752c9073c",
   "metadata": {},
   "outputs": [
    {
     "data": {
      "text/html": [
       "<table class=\"dataframe\">\n",
       "<caption>A tibble: 2 × 3</caption>\n",
       "<thead>\n",
       "\t<tr><th scope=col>.metric</th><th scope=col>.estimator</th><th scope=col>.estimate</th></tr>\n",
       "\t<tr><th scope=col>&lt;chr&gt;</th><th scope=col>&lt;chr&gt;</th><th scope=col>&lt;dbl&gt;</th></tr>\n",
       "</thead>\n",
       "<tbody>\n",
       "\t<tr><td>accuracy</td><td>binary</td><td> 0.954397394</td></tr>\n",
       "\t<tr><td>kap     </td><td>binary</td><td>-0.001602144</td></tr>\n",
       "</tbody>\n",
       "</table>\n"
      ],
      "text/latex": [
       "A tibble: 2 × 3\n",
       "\\begin{tabular}{lll}\n",
       " .metric & .estimator & .estimate\\\\\n",
       " <chr> & <chr> & <dbl>\\\\\n",
       "\\hline\n",
       "\t accuracy & binary &  0.954397394\\\\\n",
       "\t kap      & binary & -0.001602144\\\\\n",
       "\\end{tabular}\n"
      ],
      "text/markdown": [
       "\n",
       "A tibble: 2 × 3\n",
       "\n",
       "| .metric &lt;chr&gt; | .estimator &lt;chr&gt; | .estimate &lt;dbl&gt; |\n",
       "|---|---|---|\n",
       "| accuracy | binary |  0.954397394 |\n",
       "| kap      | binary | -0.001602144 |\n",
       "\n"
      ],
      "text/plain": [
       "  .metric  .estimator .estimate   \n",
       "1 accuracy binary      0.954397394\n",
       "2 kap      binary     -0.001602144"
      ]
     },
     "metadata": {},
     "output_type": "display_data"
    }
   ],
   "source": [
    "stroke_metrics <- stroke_predictions |>\n",
    "    metrics(truth = stroke, estimate = .pred_class)\n",
    "\n",
    "stroke_metrics"
   ]
  },
  {
   "cell_type": "code",
   "execution_count": 35,
   "id": "82b29149-734b-4ebc-aa32-44eba152bb35",
   "metadata": {},
   "outputs": [
    {
     "data": {
      "text/plain": [
       "          Truth\n",
       "Prediction    0    1\n",
       "         0 1172   55\n",
       "         1    1    0"
      ]
     },
     "metadata": {},
     "output_type": "display_data"
    }
   ],
   "source": [
    "stroke_conf_mat <- stroke_predictions |>\n",
    "    conf_mat(truth = stroke, estimate = .pred_class)\n",
    "\n",
    "stroke_conf_mat"
   ]
  },
  {
   "cell_type": "markdown",
   "id": "4d62325d-a91c-4bb6-949e-9295003f0b35",
   "metadata": {},
   "source": [
    "#### K-Means Clustering Tuning"
   ]
  },
  {
   "cell_type": "code",
   "execution_count": 26,
   "id": "b9c8e81f-20d9-491c-9b9d-a0182a6bb67c",
   "metadata": {},
   "outputs": [
    {
     "data": {
      "text/html": [
       "<table class=\"dataframe\">\n",
       "<caption>A tibble: 25 × 5</caption>\n",
       "<thead>\n",
       "\t<tr><th scope=col>k</th><th scope=col>totss</th><th scope=col>tot.withinss</th><th scope=col>betweenss</th><th scope=col>iter</th></tr>\n",
       "\t<tr><th scope=col>&lt;int&gt;</th><th scope=col>&lt;dbl&gt;</th><th scope=col>&lt;dbl&gt;</th><th scope=col>&lt;dbl&gt;</th><th scope=col>&lt;int&gt;</th></tr>\n",
       "</thead>\n",
       "<tbody>\n",
       "\t<tr><td>1</td><td>49280.1</td><td>49280.10</td><td>7.639755e-09</td><td>1</td></tr>\n",
       "\t<tr><td>2</td><td>49280.1</td><td>39536.15</td><td>9.743948e+03</td><td>1</td></tr>\n",
       "\t<tr><td>3</td><td>49280.1</td><td>34434.89</td><td>1.484521e+04</td><td>3</td></tr>\n",
       "\t<tr><td>⋮</td><td>⋮</td><td>⋮</td><td>⋮</td><td>⋮</td></tr>\n",
       "\t<tr><td>23</td><td>49280.1</td><td>13456.37</td><td>35823.73</td><td>4</td></tr>\n",
       "\t<tr><td>24</td><td>49280.1</td><td>13052.73</td><td>36227.37</td><td>5</td></tr>\n",
       "\t<tr><td>25</td><td>49280.1</td><td>12731.89</td><td>36548.22</td><td>5</td></tr>\n",
       "</tbody>\n",
       "</table>\n"
      ],
      "text/latex": [
       "A tibble: 25 × 5\n",
       "\\begin{tabular}{lllll}\n",
       " k & totss & tot.withinss & betweenss & iter\\\\\n",
       " <int> & <dbl> & <dbl> & <dbl> & <int>\\\\\n",
       "\\hline\n",
       "\t 1 & 49280.1 & 49280.10 & 7.639755e-09 & 1\\\\\n",
       "\t 2 & 49280.1 & 39536.15 & 9.743948e+03 & 1\\\\\n",
       "\t 3 & 49280.1 & 34434.89 & 1.484521e+04 & 3\\\\\n",
       "\t ⋮ & ⋮ & ⋮ & ⋮ & ⋮\\\\\n",
       "\t 23 & 49280.1 & 13456.37 & 35823.73 & 4\\\\\n",
       "\t 24 & 49280.1 & 13052.73 & 36227.37 & 5\\\\\n",
       "\t 25 & 49280.1 & 12731.89 & 36548.22 & 5\\\\\n",
       "\\end{tabular}\n"
      ],
      "text/markdown": [
       "\n",
       "A tibble: 25 × 5\n",
       "\n",
       "| k &lt;int&gt; | totss &lt;dbl&gt; | tot.withinss &lt;dbl&gt; | betweenss &lt;dbl&gt; | iter &lt;int&gt; |\n",
       "|---|---|---|---|---|\n",
       "| 1 | 49280.1 | 49280.10 | 7.639755e-09 | 1 |\n",
       "| 2 | 49280.1 | 39536.15 | 9.743948e+03 | 1 |\n",
       "| 3 | 49280.1 | 34434.89 | 1.484521e+04 | 3 |\n",
       "| ⋮ | ⋮ | ⋮ | ⋮ | ⋮ |\n",
       "| 23 | 49280.1 | 13456.37 | 35823.73 | 4 |\n",
       "| 24 | 49280.1 | 13052.73 | 36227.37 | 5 |\n",
       "| 25 | 49280.1 | 12731.89 | 36548.22 | 5 |\n",
       "\n"
      ],
      "text/plain": [
       "   k  totss   tot.withinss betweenss    iter\n",
       "1  1  49280.1 49280.10     7.639755e-09 1   \n",
       "2  2  49280.1 39536.15     9.743948e+03 1   \n",
       "3  3  49280.1 34434.89     1.484521e+04 3   \n",
       "⋮  ⋮  ⋮       ⋮            ⋮            ⋮   \n",
       "23 23 49280.1 13456.37     35823.73     4   \n",
       "24 24 49280.1 13052.73     36227.37     5   \n",
       "25 25 49280.1 12731.89     36548.22     5   "
      ]
     },
     "metadata": {},
     "output_type": "display_data"
    }
   ],
   "source": [
    "set.seed(2020)\n",
    "\n",
    "stroke_ks <- tibble(k = 1:25)\n",
    "\n",
    "elbow_stats <- stroke_ks |>\n",
    "    rowwise() |>\n",
    "    mutate(tourism_clusts = list(kmeans(stroke_scaled, k, nstart=25))) |>\n",
    "    mutate(glanced = list(glance(tourism_clusts))) |>\n",
    "    select(-tourism_clusts) |>\n",
    "    unnest(glanced)\n",
    "\n",
    "elbow_stats"
   ]
  },
  {
   "cell_type": "markdown",
   "id": "a0384f5a-0336-4080-a9bb-3d55cc3ce4cd",
   "metadata": {},
   "source": [
    "### Visualization"
   ]
  },
  {
   "cell_type": "markdown",
   "id": "bbc95613-2d23-41e5-a821-9b3fc369e9b7",
   "metadata": {},
   "source": [
    "##### K-Nearest Neighbours K-Value Plot"
   ]
  },
  {
   "cell_type": "code",
   "execution_count": 27,
   "id": "037938a3-89a2-4826-827c-5fd1f1525da2",
   "metadata": {},
   "outputs": [
    {
     "data": {
      "image/png": "[encoded data removed]",
      "text/plain": [
       "plot without title"
      ]
     },
     "metadata": {
      "image/png": {
       "height": 420,
       "width": 420
      }
     },
     "output_type": "display_data"
    }
   ],
   "source": [
    "accuracy_versus_k <- stroke_accuracies |>\n",
    "    ggplot(aes(x = neighbors, y = mean)) +\n",
    "        geom_point() +\n",
    "        geom_line() +\n",
    "        labs(x = \"Neighbors\", y = \"Accuracy Estimate\") +\n",
    "        scale_x_continuous(breaks = seq(0, 100, by = 1)) # scale x axis, max set to 100 since it auto decreases for lower values of k\n",
    "\n",
    "accuracy_versus_k"
   ]
  },
  {
   "cell_type": "code",
   "execution_count": null,
   "id": "f4a55874-5e4f-4441-8ebf-21d3f54a629c",
   "metadata": {},
   "outputs": [],
   "source": [
    "stroke_predictions <- predict(stroke_fit, stroke_test) |>\n",
    "    bind_cols(stroke_test)"
   ]
  },
  {
   "cell_type": "code",
   "execution_count": null,
   "id": "463d30e2-764a-40f5-b78f-8fa30d647186",
   "metadata": {},
   "outputs": [
    {
     "ename": "ERROR",
     "evalue": "Error in metrics(mnist_predictions, truth = y, estimate = .pred_class): object 'mnist_predictions' not found\n",
     "output_type": "error",
     "traceback": [
      "Error in metrics(mnist_predictions, truth = y, estimate = .pred_class): object 'mnist_predictions' not found\nTraceback:\n",
      "1. metrics(mnist_predictions, truth = y, estimate = .pred_class)"
     ]
    }
   ],
   "source": [
    "\n",
    "\n",
    "mnist_metrics <- mnist_predictions |>\n",
    "    metrics(truth = y, estimate = .pred_class)\n",
    "\n",
    "mnist_conf_mat <- mnist_predictions |>\n",
    "    conf_mat(truth = y, estimate = .pred_class)"
   ]
  },
  {
   "cell_type": "markdown",
   "id": "7b286afd-4e05-4cd4-87ff-5ddc88269afc",
   "metadata": {},
   "source": [
    "##### K-Means Clustering\n"
   ]
  },
  {
   "cell_type": "code",
   "execution_count": 13,
   "id": "854bb36d-9cae-4f01-b1dc-6c51fd8031a2",
   "metadata": {},
   "outputs": [],
   "source": [
    "set.seed(2020)\n",
    "options(repr.plot.height = 8, repr.plot.width = 8)\n",
    "\n",
    "stroke_elbow_plot <- elbow_stats |>\n",
    "    ggplot(aes(x = k, y = tot.withinss)) +\n",
    "        geom_point() +\n",
    "        geom_line() +\n",
    "        labs(x = \"K value\", y = \"Total Within-Cluster Sum of Squares\") +\n",
    "        scale_x_continuous(breaks = seq(0, 25, 1))\n",
    "\n",
    "stroke_elbow_plot"
   ]
  },
  {
   "cell_type": "code",
   "execution_count": 14,
   "id": "868deb95-62eb-40ae-81bf-62b0b56c49a1",
   "metadata": {},
   "outputs": [],
   "source": [
    "set.seed(2021)\n",
    "final_stroke_clusters <- kmeans(stroke_scaled |> select(-stroke), 7, nstart=4)\n",
    "final_stroke_augment <- augment(final_stroke_clusters, stroke_scaled)\n",
    "final_stroke_clusters$center"
   ]
  },
  {
   "cell_type": "code",
   "execution_count": 15,
   "id": "b0907af1-3b91-4487-9cae-a3adafebb9ef",
   "metadata": {},
   "outputs": [],
   "source": [
    "final_stroke_plot_age_v_bmi <- final_stroke_augment |>\n",
    "    ggplot(aes(x = age, y = bmi, color = .cluster)) +\n",
    "        geom_point() +\n",
    "        labs(x = \"Age\", y = \"BMI\", title = \"Age vs BMI\", color = \"Cluster\")\n",
    "\n",
    "final_stroke_plot_age_v_bmi"
   ]
  },
  {
   "cell_type": "code",
   "execution_count": 16,
   "id": "cc3a876f-9cee-43c1-8679-87bbc03235de",
   "metadata": {},
   "outputs": [],
   "source": [
    "final_stroke_plot_age_v_gluc <- final_stroke_augment |>\n",
    "    ggplot(aes(x = age, y = avg_glucose_level, color = .cluster)) +\n",
    "        geom_point() +\n",
    "        labs(x = \"Age\", y = \"Average Glucose Level\", title = \"Age vs Average Glucose Level\", color = \"Cluster\")\n",
    "\n",
    "final_stroke_plot_age_v_gluc"
   ]
  },
  {
   "cell_type": "code",
   "execution_count": 17,
   "id": "303d397e-55b9-4e58-88df-265a9b5a8e90",
   "metadata": {},
   "outputs": [],
   "source": [
    "options(repr.plot.height = 8, repr.plot.width = 15)\n",
    "final_stroke_augment |>\n",
    "    select(-stroke) |>\n",
    "    pivot_longer(cols = -.cluster, names_to = 'category', values_to = 'value')  |> \n",
    "    ggplot(aes(value, fill = .cluster)) +\n",
    "        geom_density(alpha = 0.4, colour = 'white') +\n",
    "        facet_wrap(facets = vars(category), scales = 'free') +\n",
    "        labs(color = \"Cluster\") +\n",
    "        theme_minimal() +\n",
    "        theme(text = element_text(size = 20))"
   ]
  },
  {
   "cell_type": "markdown",
   "id": "a887b5db-c1db-47bb-ad83-056d9f2a962d",
   "metadata": {},
   "source": [
    "### Analysis"
   ]
  },
  {
   "cell_type": "markdown",
   "id": "91640f97-04d5-4fb6-85c9-7ecd5b50d701",
   "metadata": {},
   "source": [
    "With regards to the density plot, it appears as though that the variables driving the clustering are "
   ]
  },
  {
   "cell_type": "markdown",
   "id": "aac59f3b-1992-4109-b5dd-1d95af8598de",
   "metadata": {
    "tags": []
   },
   "source": [
    "## Discussion"
   ]
  },
  {
   "cell_type": "markdown",
   "id": "5352df4f-f058-4432-ac69-04d3c95451ff",
   "metadata": {},
   "source": [
    "***Findings***\n"
   ]
  },
  {
   "cell_type": "markdown",
   "id": "ffab1941-e550-4a8a-9ee8-60fac08802e1",
   "metadata": {},
   "source": [
    "***Significance***"
   ]
  },
  {
   "cell_type": "markdown",
   "id": "cf75fe8f-1bef-47aa-addb-0bc41b0e5bc3",
   "metadata": {
    "tags": []
   },
   "source": [
    "## References\n"
   ]
  },
  {
   "cell_type": "markdown",
   "id": "6793829b-4ed7-4cf8-b5af-b10ca315c736",
   "metadata": {},
   "source": [
    "-citations for readings and data used to complete the project-"
   ]
  }
 ],
 "metadata": {
  "kernelspec": {
   "display_name": "Python 3 (ipykernel)",
   "language": "python",
   "name": "python3"
  },
  "language_info": {
   "codemirror_mode": {
    "name": "ipython",
    "version": 3
   },
   "file_extension": ".py",
   "mimetype": "text/x-python",
   "name": "python",
   "nbconvert_exporter": "python",
   "pygments_lexer": "ipython3",
   "version": "3.9.7"
  }
 },
 "nbformat": 4,
 "nbformat_minor": 5
}
