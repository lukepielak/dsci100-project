{
 "cells": [
  {
   "cell_type": "markdown",
   "id": "ae20510e-37c7-41b7-93a8-b208cf6b914e",
   "metadata": {
    "tags": []
   },
   "source": [
    "# DSCI 100 Project Proposal: Optimizing Training in Professional Tennis\n",
    "**Name | Student #**\n",
    "\n",
    "Luke Pielak | 21805650 <br>\n",
    "Walker Rout | 72504756 <br>\n",
    "Gurman Gill | 34586586 <br>\n",
    "Duncan McHugh | 58172966"
   ]
  },
  {
   "cell_type": "markdown",
   "id": "a6c80e1a-640e-48c7-803f-832d1b94feb5",
   "metadata": {},
   "source": [
    "## Introduction\n",
    "\n",
    "#### Professional tennis players are all incredible athletes, and our group was curious to see what specific traits influenced their rankings. We are interested in performing a logistic regression analysis to determine whether a player is exceptional, or not. Whether or not a player is exceptional is determined by whether their peak elo rating is above 2100."
   ]
  },
  {
   "cell_type": "markdown",
   "id": "3e005189-59e7-487b-9c91-aa986e9867d9",
   "metadata": {
    "tags": []
   },
   "source": [
    "## Preliminary exploratory data analysis\n"
   ]
  },
  {
   "cell_type": "code",
   "execution_count": 1,
   "id": "2af23ef8-63b0-4e78-be7f-0d0cb88d7709",
   "metadata": {},
   "outputs": [
    {
     "name": "stderr",
     "output_type": "stream",
     "text": [
      "── \u001b[1mAttaching packages\u001b[22m ─────────────────────────────────────── tidyverse 1.3.1 ──\n",
      "\n",
      "\u001b[32m✔\u001b[39m \u001b[34mggplot2\u001b[39m 3.3.6     \u001b[32m✔\u001b[39m \u001b[34mpurrr  \u001b[39m 0.3.4\n",
      "\u001b[32m✔\u001b[39m \u001b[34mtibble \u001b[39m 3.1.7     \u001b[32m✔\u001b[39m \u001b[34mdplyr  \u001b[39m 1.0.9\n",
      "\u001b[32m✔\u001b[39m \u001b[34mtidyr  \u001b[39m 1.2.0     \u001b[32m✔\u001b[39m \u001b[34mstringr\u001b[39m 1.4.0\n",
      "\u001b[32m✔\u001b[39m \u001b[34mreadr  \u001b[39m 2.1.2     \u001b[32m✔\u001b[39m \u001b[34mforcats\u001b[39m 0.5.1\n",
      "\n",
      "── \u001b[1mConflicts\u001b[22m ────────────────────────────────────────── tidyverse_conflicts() ──\n",
      "\u001b[31m✖\u001b[39m \u001b[34mdplyr\u001b[39m::\u001b[32mfilter()\u001b[39m masks \u001b[34mstats\u001b[39m::filter()\n",
      "\u001b[31m✖\u001b[39m \u001b[34mdplyr\u001b[39m::\u001b[32mlag()\u001b[39m    masks \u001b[34mstats\u001b[39m::lag()\n",
      "\n",
      "── \u001b[1mAttaching packages\u001b[22m ────────────────────────────────────── tidymodels 1.0.0 ──\n",
      "\n",
      "\u001b[32m✔\u001b[39m \u001b[34mbroom       \u001b[39m 1.0.0     \u001b[32m✔\u001b[39m \u001b[34mrsample     \u001b[39m 1.0.0\n",
      "\u001b[32m✔\u001b[39m \u001b[34mdials       \u001b[39m 1.0.0     \u001b[32m✔\u001b[39m \u001b[34mtune        \u001b[39m 1.0.0\n",
      "\u001b[32m✔\u001b[39m \u001b[34minfer       \u001b[39m 1.0.2     \u001b[32m✔\u001b[39m \u001b[34mworkflows   \u001b[39m 1.0.0\n",
      "\u001b[32m✔\u001b[39m \u001b[34mmodeldata   \u001b[39m 1.0.0     \u001b[32m✔\u001b[39m \u001b[34mworkflowsets\u001b[39m 1.0.0\n",
      "\u001b[32m✔\u001b[39m \u001b[34mparsnip     \u001b[39m 1.0.0     \u001b[32m✔\u001b[39m \u001b[34myardstick   \u001b[39m 1.0.0\n",
      "\u001b[32m✔\u001b[39m \u001b[34mrecipes     \u001b[39m 1.0.1     \n",
      "\n",
      "── \u001b[1mConflicts\u001b[22m ───────────────────────────────────────── tidymodels_conflicts() ──\n",
      "\u001b[31m✖\u001b[39m \u001b[34mscales\u001b[39m::\u001b[32mdiscard()\u001b[39m masks \u001b[34mpurrr\u001b[39m::discard()\n",
      "\u001b[31m✖\u001b[39m \u001b[34mdplyr\u001b[39m::\u001b[32mfilter()\u001b[39m   masks \u001b[34mstats\u001b[39m::filter()\n",
      "\u001b[31m✖\u001b[39m \u001b[34mrecipes\u001b[39m::\u001b[32mfixed()\u001b[39m  masks \u001b[34mstringr\u001b[39m::fixed()\n",
      "\u001b[31m✖\u001b[39m \u001b[34mdplyr\u001b[39m::\u001b[32mlag()\u001b[39m      masks \u001b[34mstats\u001b[39m::lag()\n",
      "\u001b[31m✖\u001b[39m \u001b[34myardstick\u001b[39m::\u001b[32mspec()\u001b[39m masks \u001b[34mreadr\u001b[39m::spec()\n",
      "\u001b[31m✖\u001b[39m \u001b[34mrecipes\u001b[39m::\u001b[32mstep()\u001b[39m   masks \u001b[34mstats\u001b[39m::step()\n",
      "\u001b[34m•\u001b[39m Search for functions across packages at \u001b[32mhttps://www.tidymodels.org/find/\u001b[39m\n",
      "\n"
     ]
    }
   ],
   "source": [
    "# importing libraries\n",
    "library(tidyverse)\n",
    "library(repr)\n",
    "library(tidymodels)\n",
    "library(RColorBrewer)\n",
    "options(repr.matrix.max.rows = 8)"
   ]
  },
  {
   "cell_type": "markdown",
   "id": "b1b325a0-ab91-4718-bbb4-8195f230a0d9",
   "metadata": {},
   "source": [
    "Reading the dataset into R\n",
    "\n",
    "We will take a few steps to tidy the data:\n",
    "1. Select only the variables that contain meaningful data for our preliminary analysis\n",
    "2. Remove dates from Age column and convert to numeric type\n",
    "3. Remove percentages from Favorite.Surface so that is purely categorical"
   ]
  },
  {
   "cell_type": "code",
   "execution_count": 2,
   "id": "3e052a98-b5e1-4dfb-b2ea-b8fda0c614f6",
   "metadata": {},
   "outputs": [
    {
     "name": "stdout",
     "output_type": "stream",
     "text": [
      "[1] \"Displaying initial dataset\"\n"
     ]
    },
    {
     "data": {
      "text/html": [
       "<table class=\"dataframe\">\n",
       "<caption>A data.frame: 500 × 38</caption>\n",
       "<thead>\n",
       "\t<tr><th scope=col>index</th><th scope=col>Age</th><th scope=col>Country</th><th scope=col>Plays</th><th scope=col>Wikipedia</th><th scope=col>Current.Rank</th><th scope=col>Best.Rank</th><th scope=col>Name</th><th scope=col>Backhand</th><th scope=col>Prize.Money</th><th scope=col>⋯</th><th scope=col>Facebook</th><th scope=col>Twitter</th><th scope=col>Nicknames</th><th scope=col>Grand.Slams</th><th scope=col>Davis.Cups</th><th scope=col>Web.Site</th><th scope=col>Team.Cups</th><th scope=col>Olympics</th><th scope=col>Weeks.at.No..1</th><th scope=col>Tour.Finals</th></tr>\n",
       "\t<tr><th scope=col>&lt;int&gt;</th><th scope=col>&lt;chr&gt;</th><th scope=col>&lt;chr&gt;</th><th scope=col>&lt;chr&gt;</th><th scope=col>&lt;chr&gt;</th><th scope=col>&lt;chr&gt;</th><th scope=col>&lt;chr&gt;</th><th scope=col>&lt;chr&gt;</th><th scope=col>&lt;chr&gt;</th><th scope=col>&lt;chr&gt;</th><th scope=col>⋯</th><th scope=col>&lt;chr&gt;</th><th scope=col>&lt;chr&gt;</th><th scope=col>&lt;chr&gt;</th><th scope=col>&lt;int&gt;</th><th scope=col>&lt;int&gt;</th><th scope=col>&lt;chr&gt;</th><th scope=col>&lt;int&gt;</th><th scope=col>&lt;int&gt;</th><th scope=col>&lt;int&gt;</th><th scope=col>&lt;int&gt;</th></tr>\n",
       "</thead>\n",
       "<tbody>\n",
       "\t<tr><td>0</td><td>26 (25-04-1993)</td><td>Brazil            </td><td>Right-handed</td><td>Wikipedia</td><td>378 (97) </td><td>363 (04-11-2019)</td><td>Oscar Jose Gutierrez</td><td>          </td><td>            </td><td>⋯</td><td></td><td></td><td></td><td>NA</td><td>NA</td><td></td><td>NA</td><td>NA</td><td>NA</td><td>NA</td></tr>\n",
       "\t<tr><td>1</td><td>18 (22-12-2001)</td><td>United Kingdom    </td><td>Left-handed </td><td>Wikipedia</td><td>326 (119)</td><td>316 (14-10-2019)</td><td>Jack Draper         </td><td>Two-handed</td><td>$59,040     </td><td>⋯</td><td></td><td></td><td></td><td>NA</td><td>NA</td><td></td><td>NA</td><td>NA</td><td>NA</td><td>NA</td></tr>\n",
       "\t<tr><td>2</td><td>32 (03-11-1987)</td><td>Slovakia          </td><td>Right-handed</td><td>Wikipedia</td><td>178 (280)</td><td>44 (14-01-2013) </td><td>Lukas Lacko         </td><td>Two-handed</td><td>US$3,261,567</td><td>⋯</td><td></td><td></td><td></td><td>NA</td><td>NA</td><td></td><td>NA</td><td>NA</td><td>NA</td><td>NA</td></tr>\n",
       "\t<tr><td>3</td><td>21 (29-05-1998)</td><td>Korea, Republic of</td><td>Right-handed</td><td>Wikipedia</td><td>236 (199)</td><td>130 (10-04-2017)</td><td>Duck Hee Lee        </td><td>Two-handed</td><td>$374,093    </td><td>⋯</td><td></td><td></td><td></td><td>NA</td><td>NA</td><td></td><td>NA</td><td>NA</td><td>NA</td><td>NA</td></tr>\n",
       "\t<tr><td>⋮</td><td>⋮</td><td>⋮</td><td>⋮</td><td>⋮</td><td>⋮</td><td>⋮</td><td>⋮</td><td>⋮</td><td>⋮</td><td>⋱</td><td>⋮</td><td>⋮</td><td>⋮</td><td>⋮</td><td>⋮</td><td>⋮</td><td>⋮</td><td>⋮</td><td>⋮</td><td>⋮</td></tr>\n",
       "\t<tr><td>496</td><td>26 (03-09-1993)</td><td>Austria    </td><td>Right-handed</td><td>Wikipedia</td><td>5 (5890)</td><td>4 (06-11-2017)  </td><td>Dominic Thiem  </td><td>One-handed</td><td>$22,132,368 15th all-time leader in earnings</td><td>⋯</td><td>1.Dominic.Thiem</td><td>@ThiemDomi</td><td>Dominator</td><td>NA</td><td>NA</td><td>dominicthiem.tennis</td><td>NA</td><td>NA</td><td>NA</td><td>NA</td></tr>\n",
       "\t<tr><td>497</td><td>23 (14-03-1996)</td><td>Netherlands</td><td>Left-handed </td><td>Wikipedia</td><td>495 (60)</td><td>342 (05-08-2019)</td><td>Gijs Brouwer   </td><td>          </td><td>                                            </td><td>⋯</td><td>               </td><td>          </td><td>         </td><td>NA</td><td>NA</td><td>                   </td><td>NA</td><td>NA</td><td>NA</td><td>NA</td></tr>\n",
       "\t<tr><td>498</td><td>24 (17-05-1995)</td><td>Ukraine    </td><td>            </td><td>Wikipedia</td><td>419 (81)</td><td>419 (20-01-2020)</td><td>Vladyslav Orlov</td><td>          </td><td>                                            </td><td>⋯</td><td>               </td><td>          </td><td>         </td><td>NA</td><td>NA</td><td>                   </td><td>NA</td><td>NA</td><td>NA</td><td>NA</td></tr>\n",
       "\t<tr><td>499</td><td>22 (26-03-1997)</td><td>Tunisia    </td><td>Left-handed </td><td>Wikipedia</td><td>451 (69)</td><td>408 (24-12-2018)</td><td>Aziz Dougaz    </td><td>Two-handed</td><td>$61,984                                     </td><td>⋯</td><td>               </td><td>          </td><td>         </td><td>NA</td><td>NA</td><td>                   </td><td>NA</td><td>NA</td><td>NA</td><td>NA</td></tr>\n",
       "</tbody>\n",
       "</table>\n"
      ],
      "text/latex": [
       "A data.frame: 500 × 38\n",
       "\\begin{tabular}{lllllllllllllllllllll}\n",
       " index & Age & Country & Plays & Wikipedia & Current.Rank & Best.Rank & Name & Backhand & Prize.Money & ⋯ & Facebook & Twitter & Nicknames & Grand.Slams & Davis.Cups & Web.Site & Team.Cups & Olympics & Weeks.at.No..1 & Tour.Finals\\\\\n",
       " <int> & <chr> & <chr> & <chr> & <chr> & <chr> & <chr> & <chr> & <chr> & <chr> & ⋯ & <chr> & <chr> & <chr> & <int> & <int> & <chr> & <int> & <int> & <int> & <int>\\\\\n",
       "\\hline\n",
       "\t 0 & 26 (25-04-1993) & Brazil             & Right-handed & Wikipedia & 378 (97)  & 363 (04-11-2019) & Oscar Jose Gutierrez &            &              & ⋯ &  &  &  & NA & NA &  & NA & NA & NA & NA\\\\\n",
       "\t 1 & 18 (22-12-2001) & United Kingdom     & Left-handed  & Wikipedia & 326 (119) & 316 (14-10-2019) & Jack Draper          & Two-handed & \\$59,040      & ⋯ &  &  &  & NA & NA &  & NA & NA & NA & NA\\\\\n",
       "\t 2 & 32 (03-11-1987) & Slovakia           & Right-handed & Wikipedia & 178 (280) & 44 (14-01-2013)  & Lukas Lacko          & Two-handed & US\\$3,261,567 & ⋯ &  &  &  & NA & NA &  & NA & NA & NA & NA\\\\\n",
       "\t 3 & 21 (29-05-1998) & Korea, Republic of & Right-handed & Wikipedia & 236 (199) & 130 (10-04-2017) & Duck Hee Lee         & Two-handed & \\$374,093     & ⋯ &  &  &  & NA & NA &  & NA & NA & NA & NA\\\\\n",
       "\t ⋮ & ⋮ & ⋮ & ⋮ & ⋮ & ⋮ & ⋮ & ⋮ & ⋮ & ⋮ & ⋱ & ⋮ & ⋮ & ⋮ & ⋮ & ⋮ & ⋮ & ⋮ & ⋮ & ⋮ & ⋮\\\\\n",
       "\t 496 & 26 (03-09-1993) & Austria     & Right-handed & Wikipedia & 5 (5890) & 4 (06-11-2017)   & Dominic Thiem   & One-handed & \\$22,132,368 15th all-time leader in earnings & ⋯ & 1.Dominic.Thiem & @ThiemDomi & Dominator & NA & NA & dominicthiem.tennis & NA & NA & NA & NA\\\\\n",
       "\t 497 & 23 (14-03-1996) & Netherlands & Left-handed  & Wikipedia & 495 (60) & 342 (05-08-2019) & Gijs Brouwer    &            &                                              & ⋯ &                 &            &           & NA & NA &                     & NA & NA & NA & NA\\\\\n",
       "\t 498 & 24 (17-05-1995) & Ukraine     &              & Wikipedia & 419 (81) & 419 (20-01-2020) & Vladyslav Orlov &            &                                              & ⋯ &                 &            &           & NA & NA &                     & NA & NA & NA & NA\\\\\n",
       "\t 499 & 22 (26-03-1997) & Tunisia     & Left-handed  & Wikipedia & 451 (69) & 408 (24-12-2018) & Aziz Dougaz     & Two-handed & \\$61,984                                      & ⋯ &                 &            &           & NA & NA &                     & NA & NA & NA & NA\\\\\n",
       "\\end{tabular}\n"
      ],
      "text/markdown": [
       "\n",
       "A data.frame: 500 × 38\n",
       "\n",
       "| index &lt;int&gt; | Age &lt;chr&gt; | Country &lt;chr&gt; | Plays &lt;chr&gt; | Wikipedia &lt;chr&gt; | Current.Rank &lt;chr&gt; | Best.Rank &lt;chr&gt; | Name &lt;chr&gt; | Backhand &lt;chr&gt; | Prize.Money &lt;chr&gt; | ⋯ ⋯ | Facebook &lt;chr&gt; | Twitter &lt;chr&gt; | Nicknames &lt;chr&gt; | Grand.Slams &lt;int&gt; | Davis.Cups &lt;int&gt; | Web.Site &lt;chr&gt; | Team.Cups &lt;int&gt; | Olympics &lt;int&gt; | Weeks.at.No..1 &lt;int&gt; | Tour.Finals &lt;int&gt; |\n",
       "|---|---|---|---|---|---|---|---|---|---|---|---|---|---|---|---|---|---|---|---|---|\n",
       "| 0 | 26 (25-04-1993) | Brazil             | Right-handed | Wikipedia | 378 (97)  | 363 (04-11-2019) | Oscar Jose Gutierrez | <!----> | <!----> | ⋯ | <!----> | <!----> | <!----> | NA | NA | <!----> | NA | NA | NA | NA |\n",
       "| 1 | 18 (22-12-2001) | United Kingdom     | Left-handed  | Wikipedia | 326 (119) | 316 (14-10-2019) | Jack Draper          | Two-handed | $59,040      | ⋯ | <!----> | <!----> | <!----> | NA | NA | <!----> | NA | NA | NA | NA |\n",
       "| 2 | 32 (03-11-1987) | Slovakia           | Right-handed | Wikipedia | 178 (280) | 44 (14-01-2013)  | Lukas Lacko          | Two-handed | US$3,261,567 | ⋯ | <!----> | <!----> | <!----> | NA | NA | <!----> | NA | NA | NA | NA |\n",
       "| 3 | 21 (29-05-1998) | Korea, Republic of | Right-handed | Wikipedia | 236 (199) | 130 (10-04-2017) | Duck Hee Lee         | Two-handed | $374,093     | ⋯ | <!----> | <!----> | <!----> | NA | NA | <!----> | NA | NA | NA | NA |\n",
       "| ⋮ | ⋮ | ⋮ | ⋮ | ⋮ | ⋮ | ⋮ | ⋮ | ⋮ | ⋮ | ⋱ | ⋮ | ⋮ | ⋮ | ⋮ | ⋮ | ⋮ | ⋮ | ⋮ | ⋮ | ⋮ |\n",
       "| 496 | 26 (03-09-1993) | Austria     | Right-handed | Wikipedia | 5 (5890) | 4 (06-11-2017)   | Dominic Thiem   | One-handed | $22,132,368 15th all-time leader in earnings | ⋯ | 1.Dominic.Thiem | @ThiemDomi | Dominator | NA | NA | dominicthiem.tennis | NA | NA | NA | NA |\n",
       "| 497 | 23 (14-03-1996) | Netherlands | Left-handed  | Wikipedia | 495 (60) | 342 (05-08-2019) | Gijs Brouwer    | <!----> | <!----> | ⋯ | <!----> | <!----> | <!----> | NA | NA | <!----> | NA | NA | NA | NA |\n",
       "| 498 | 24 (17-05-1995) | Ukraine     | <!----> | Wikipedia | 419 (81) | 419 (20-01-2020) | Vladyslav Orlov | <!----> | <!----> | ⋯ | <!----> | <!----> | <!----> | NA | NA | <!----> | NA | NA | NA | NA |\n",
       "| 499 | 22 (26-03-1997) | Tunisia     | Left-handed  | Wikipedia | 451 (69) | 408 (24-12-2018) | Aziz Dougaz     | Two-handed | $61,984                                      | ⋯ | <!----> | <!----> | <!----> | NA | NA | <!----> | NA | NA | NA | NA |\n",
       "\n"
      ],
      "text/plain": [
       "    index Age             Country            Plays        Wikipedia\n",
       "1   0     26 (25-04-1993) Brazil             Right-handed Wikipedia\n",
       "2   1     18 (22-12-2001) United Kingdom     Left-handed  Wikipedia\n",
       "3   2     32 (03-11-1987) Slovakia           Right-handed Wikipedia\n",
       "4   3     21 (29-05-1998) Korea, Republic of Right-handed Wikipedia\n",
       "⋮   ⋮     ⋮               ⋮                  ⋮            ⋮        \n",
       "497 496   26 (03-09-1993) Austria            Right-handed Wikipedia\n",
       "498 497   23 (14-03-1996) Netherlands        Left-handed  Wikipedia\n",
       "499 498   24 (17-05-1995) Ukraine                         Wikipedia\n",
       "500 499   22 (26-03-1997) Tunisia            Left-handed  Wikipedia\n",
       "    Current.Rank Best.Rank        Name                 Backhand  \n",
       "1   378 (97)     363 (04-11-2019) Oscar Jose Gutierrez           \n",
       "2   326 (119)    316 (14-10-2019) Jack Draper          Two-handed\n",
       "3   178 (280)    44 (14-01-2013)  Lukas Lacko          Two-handed\n",
       "4   236 (199)    130 (10-04-2017) Duck Hee Lee         Two-handed\n",
       "⋮   ⋮            ⋮                ⋮                    ⋮         \n",
       "497 5 (5890)     4 (06-11-2017)   Dominic Thiem        One-handed\n",
       "498 495 (60)     342 (05-08-2019) Gijs Brouwer                   \n",
       "499 419 (81)     419 (20-01-2020) Vladyslav Orlov                \n",
       "500 451 (69)     408 (24-12-2018) Aziz Dougaz          Two-handed\n",
       "    Prize.Money                                  ⋯ Facebook        Twitter   \n",
       "1                                                ⋯                           \n",
       "2   $59,040                                      ⋯                           \n",
       "3   US$3,261,567                                 ⋯                           \n",
       "4   $374,093                                     ⋯                           \n",
       "⋮   ⋮                                            ⋱ ⋮               ⋮         \n",
       "497 $22,132,368 15th all-time leader in earnings ⋯ 1.Dominic.Thiem @ThiemDomi\n",
       "498                                              ⋯                           \n",
       "499                                              ⋯                           \n",
       "500 $61,984                                      ⋯                           \n",
       "    Nicknames Grand.Slams Davis.Cups Web.Site            Team.Cups Olympics\n",
       "1             NA          NA                             NA        NA      \n",
       "2             NA          NA                             NA        NA      \n",
       "3             NA          NA                             NA        NA      \n",
       "4             NA          NA                             NA        NA      \n",
       "⋮   ⋮         ⋮           ⋮          ⋮                   ⋮         ⋮       \n",
       "497 Dominator NA          NA         dominicthiem.tennis NA        NA      \n",
       "498           NA          NA                             NA        NA      \n",
       "499           NA          NA                             NA        NA      \n",
       "500           NA          NA                             NA        NA      \n",
       "    Weeks.at.No..1 Tour.Finals\n",
       "1   NA             NA         \n",
       "2   NA             NA         \n",
       "3   NA             NA         \n",
       "4   NA             NA         \n",
       "⋮   ⋮              ⋮          \n",
       "497 NA             NA         \n",
       "498 NA             NA         \n",
       "499 NA             NA         \n",
       "500 NA             NA         "
      ]
     },
     "metadata": {},
     "output_type": "display_data"
    },
    {
     "name": "stdout",
     "output_type": "stream",
     "text": [
      "[1] \"Displaying relevant variables in dataset\"\n"
     ]
    },
    {
     "data": {
      "text/html": [
       "<table class=\"dataframe\">\n",
       "<caption>A data.frame: 500 × 6</caption>\n",
       "<thead>\n",
       "\t<tr><th scope=col>Age</th><th scope=col>Country</th><th scope=col>Plays</th><th scope=col>Backhand</th><th scope=col>Height</th><th scope=col>Peak.Elo.Rating</th></tr>\n",
       "\t<tr><th scope=col>&lt;chr&gt;</th><th scope=col>&lt;chr&gt;</th><th scope=col>&lt;chr&gt;</th><th scope=col>&lt;chr&gt;</th><th scope=col>&lt;chr&gt;</th><th scope=col>&lt;chr&gt;</th></tr>\n",
       "</thead>\n",
       "<tbody>\n",
       "\t<tr><td>26 (25-04-1993)</td><td>Brazil            </td><td>Right-handed</td><td>          </td><td>      </td><td>                 </td></tr>\n",
       "\t<tr><td>18 (22-12-2001)</td><td>United Kingdom    </td><td>Left-handed </td><td>Two-handed</td><td>      </td><td>                 </td></tr>\n",
       "\t<tr><td>32 (03-11-1987)</td><td>Slovakia          </td><td>Right-handed</td><td>Two-handed</td><td>185 cm</td><td>1886 (06-02-2012)</td></tr>\n",
       "\t<tr><td>21 (29-05-1998)</td><td>Korea, Republic of</td><td>Right-handed</td><td>Two-handed</td><td>      </td><td>                 </td></tr>\n",
       "\t<tr><td>⋮</td><td>⋮</td><td>⋮</td><td>⋮</td><td>⋮</td><td>⋮</td></tr>\n",
       "\t<tr><td>26 (03-09-1993)</td><td>Austria    </td><td>Right-handed</td><td>One-handed</td><td>185 cm</td><td>2211 (18-11-2019)</td></tr>\n",
       "\t<tr><td>23 (14-03-1996)</td><td>Netherlands</td><td>Left-handed </td><td>          </td><td>      </td><td>                 </td></tr>\n",
       "\t<tr><td>24 (17-05-1995)</td><td>Ukraine    </td><td>            </td><td>          </td><td>      </td><td>                 </td></tr>\n",
       "\t<tr><td>22 (26-03-1997)</td><td>Tunisia    </td><td>Left-handed </td><td>Two-handed</td><td>      </td><td>                 </td></tr>\n",
       "</tbody>\n",
       "</table>\n"
      ],
      "text/latex": [
       "A data.frame: 500 × 6\n",
       "\\begin{tabular}{llllll}\n",
       " Age & Country & Plays & Backhand & Height & Peak.Elo.Rating\\\\\n",
       " <chr> & <chr> & <chr> & <chr> & <chr> & <chr>\\\\\n",
       "\\hline\n",
       "\t 26 (25-04-1993) & Brazil             & Right-handed &            &        &                  \\\\\n",
       "\t 18 (22-12-2001) & United Kingdom     & Left-handed  & Two-handed &        &                  \\\\\n",
       "\t 32 (03-11-1987) & Slovakia           & Right-handed & Two-handed & 185 cm & 1886 (06-02-2012)\\\\\n",
       "\t 21 (29-05-1998) & Korea, Republic of & Right-handed & Two-handed &        &                  \\\\\n",
       "\t ⋮ & ⋮ & ⋮ & ⋮ & ⋮ & ⋮\\\\\n",
       "\t 26 (03-09-1993) & Austria     & Right-handed & One-handed & 185 cm & 2211 (18-11-2019)\\\\\n",
       "\t 23 (14-03-1996) & Netherlands & Left-handed  &            &        &                  \\\\\n",
       "\t 24 (17-05-1995) & Ukraine     &              &            &        &                  \\\\\n",
       "\t 22 (26-03-1997) & Tunisia     & Left-handed  & Two-handed &        &                  \\\\\n",
       "\\end{tabular}\n"
      ],
      "text/markdown": [
       "\n",
       "A data.frame: 500 × 6\n",
       "\n",
       "| Age &lt;chr&gt; | Country &lt;chr&gt; | Plays &lt;chr&gt; | Backhand &lt;chr&gt; | Height &lt;chr&gt; | Peak.Elo.Rating &lt;chr&gt; |\n",
       "|---|---|---|---|---|---|\n",
       "| 26 (25-04-1993) | Brazil             | Right-handed | <!----> | <!----> | <!----> |\n",
       "| 18 (22-12-2001) | United Kingdom     | Left-handed  | Two-handed | <!----> | <!----> |\n",
       "| 32 (03-11-1987) | Slovakia           | Right-handed | Two-handed | 185 cm | 1886 (06-02-2012) |\n",
       "| 21 (29-05-1998) | Korea, Republic of | Right-handed | Two-handed | <!----> | <!----> |\n",
       "| ⋮ | ⋮ | ⋮ | ⋮ | ⋮ | ⋮ |\n",
       "| 26 (03-09-1993) | Austria     | Right-handed | One-handed | 185 cm | 2211 (18-11-2019) |\n",
       "| 23 (14-03-1996) | Netherlands | Left-handed  | <!----> | <!----> | <!----> |\n",
       "| 24 (17-05-1995) | Ukraine     | <!----> | <!----> | <!----> | <!----> |\n",
       "| 22 (26-03-1997) | Tunisia     | Left-handed  | Two-handed | <!----> | <!----> |\n",
       "\n"
      ],
      "text/plain": [
       "    Age             Country            Plays        Backhand   Height\n",
       "1   26 (25-04-1993) Brazil             Right-handed                  \n",
       "2   18 (22-12-2001) United Kingdom     Left-handed  Two-handed       \n",
       "3   32 (03-11-1987) Slovakia           Right-handed Two-handed 185 cm\n",
       "4   21 (29-05-1998) Korea, Republic of Right-handed Two-handed       \n",
       "⋮   ⋮               ⋮                  ⋮            ⋮          ⋮     \n",
       "497 26 (03-09-1993) Austria            Right-handed One-handed 185 cm\n",
       "498 23 (14-03-1996) Netherlands        Left-handed                   \n",
       "499 24 (17-05-1995) Ukraine                                          \n",
       "500 22 (26-03-1997) Tunisia            Left-handed  Two-handed       \n",
       "    Peak.Elo.Rating  \n",
       "1                    \n",
       "2                    \n",
       "3   1886 (06-02-2012)\n",
       "4                    \n",
       "⋮   ⋮                \n",
       "497 2211 (18-11-2019)\n",
       "498                  \n",
       "499                  \n",
       "500                  "
      ]
     },
     "metadata": {},
     "output_type": "display_data"
    }
   ],
   "source": [
    "# Selecting variables\n",
    "print(\"Displaying initial dataset\")\n",
    "tennis <- read.csv(\"data/tennis.csv\")\n",
    "names(tennis)[1] <- \"index\"\n",
    "tennis\n",
    "print(\"Displaying relevant variables in dataset\")\n",
    "tennis <- tennis |>\n",
    "    select(Age, Country, Plays, Backhand, Height, Peak.Elo.Rating)\n",
    "tennis"
   ]
  },
  {
   "cell_type": "code",
   "execution_count": 3,
   "id": "485a5d2a-4c41-4bbb-bdd5-f92f3aa03a1b",
   "metadata": {},
   "outputs": [
    {
     "data": {
      "text/html": [
       "<table class=\"dataframe\">\n",
       "<caption>A data.frame: 112 × 7</caption>\n",
       "<thead>\n",
       "\t<tr><th></th><th scope=col>Age</th><th scope=col>Country</th><th scope=col>Plays</th><th scope=col>Backhand</th><th scope=col>Height</th><th scope=col>Peak.Elo.Rating</th><th scope=col>Exceptional</th></tr>\n",
       "\t<tr><th></th><th scope=col>&lt;dbl&gt;</th><th scope=col>&lt;dbl&gt;</th><th scope=col>&lt;dbl&gt;</th><th scope=col>&lt;dbl&gt;</th><th scope=col>&lt;dbl&gt;</th><th scope=col>&lt;dbl&gt;</th><th scope=col>&lt;chr&gt;</th></tr>\n",
       "</thead>\n",
       "<tbody>\n",
       "\t<tr><th scope=row>3</th><td>32</td><td>30</td><td>2</td><td>2</td><td>185</td><td>1886</td><td>not-exceptional</td></tr>\n",
       "\t<tr><th scope=row>5</th><td>27</td><td> 2</td><td>2</td><td>2</td><td>193</td><td>2037</td><td>not-exceptional</td></tr>\n",
       "\t<tr><th scope=row>16</th><td>31</td><td> 1</td><td>2</td><td>2</td><td>198</td><td>2329</td><td>exceptional    </td></tr>\n",
       "\t<tr><th scope=row>21</th><td>33</td><td>33</td><td>2</td><td>2</td><td>190</td><td>2004</td><td>not-exceptional</td></tr>\n",
       "\t<tr><th scope=row>⋮</th><td>⋮</td><td>⋮</td><td>⋮</td><td>⋮</td><td>⋮</td><td>⋮</td><td>⋮</td></tr>\n",
       "\t<tr><th scope=row>461</th><td>35</td><td>15</td><td>2</td><td>2</td><td>183</td><td>2124</td><td>exceptional    </td></tr>\n",
       "\t<tr><th scope=row>468</th><td>29</td><td> 8</td><td>2</td><td>2</td><td>196</td><td>2269</td><td>exceptional    </td></tr>\n",
       "\t<tr><th scope=row>474</th><td>34</td><td>11</td><td>2</td><td>2</td><td>183</td><td>2098</td><td>not-exceptional</td></tr>\n",
       "\t<tr><th scope=row>497</th><td>26</td><td> 3</td><td>2</td><td>1</td><td>185</td><td>2211</td><td>exceptional    </td></tr>\n",
       "</tbody>\n",
       "</table>\n"
      ],
      "text/latex": [
       "A data.frame: 112 × 7\n",
       "\\begin{tabular}{r|lllllll}\n",
       "  & Age & Country & Plays & Backhand & Height & Peak.Elo.Rating & Exceptional\\\\\n",
       "  & <dbl> & <dbl> & <dbl> & <dbl> & <dbl> & <dbl> & <chr>\\\\\n",
       "\\hline\n",
       "\t3 & 32 & 30 & 2 & 2 & 185 & 1886 & not-exceptional\\\\\n",
       "\t5 & 27 &  2 & 2 & 2 & 193 & 2037 & not-exceptional\\\\\n",
       "\t16 & 31 &  1 & 2 & 2 & 198 & 2329 & exceptional    \\\\\n",
       "\t21 & 33 & 33 & 2 & 2 & 190 & 2004 & not-exceptional\\\\\n",
       "\t⋮ & ⋮ & ⋮ & ⋮ & ⋮ & ⋮ & ⋮ & ⋮\\\\\n",
       "\t461 & 35 & 15 & 2 & 2 & 183 & 2124 & exceptional    \\\\\n",
       "\t468 & 29 &  8 & 2 & 2 & 196 & 2269 & exceptional    \\\\\n",
       "\t474 & 34 & 11 & 2 & 2 & 183 & 2098 & not-exceptional\\\\\n",
       "\t497 & 26 &  3 & 2 & 1 & 185 & 2211 & exceptional    \\\\\n",
       "\\end{tabular}\n"
      ],
      "text/markdown": [
       "\n",
       "A data.frame: 112 × 7\n",
       "\n",
       "| <!--/--> | Age &lt;dbl&gt; | Country &lt;dbl&gt; | Plays &lt;dbl&gt; | Backhand &lt;dbl&gt; | Height &lt;dbl&gt; | Peak.Elo.Rating &lt;dbl&gt; | Exceptional &lt;chr&gt; |\n",
       "|---|---|---|---|---|---|---|---|\n",
       "| 3 | 32 | 30 | 2 | 2 | 185 | 1886 | not-exceptional |\n",
       "| 5 | 27 |  2 | 2 | 2 | 193 | 2037 | not-exceptional |\n",
       "| 16 | 31 |  1 | 2 | 2 | 198 | 2329 | exceptional     |\n",
       "| 21 | 33 | 33 | 2 | 2 | 190 | 2004 | not-exceptional |\n",
       "| ⋮ | ⋮ | ⋮ | ⋮ | ⋮ | ⋮ | ⋮ | ⋮ |\n",
       "| 461 | 35 | 15 | 2 | 2 | 183 | 2124 | exceptional     |\n",
       "| 468 | 29 |  8 | 2 | 2 | 196 | 2269 | exceptional     |\n",
       "| 474 | 34 | 11 | 2 | 2 | 183 | 2098 | not-exceptional |\n",
       "| 497 | 26 |  3 | 2 | 1 | 185 | 2211 | exceptional     |\n",
       "\n"
      ],
      "text/plain": [
       "    Age Country Plays Backhand Height Peak.Elo.Rating Exceptional    \n",
       "3   32  30      2     2        185    1886            not-exceptional\n",
       "5   27   2      2     2        193    2037            not-exceptional\n",
       "16  31   1      2     2        198    2329            exceptional    \n",
       "21  33  33      2     2        190    2004            not-exceptional\n",
       "⋮   ⋮   ⋮       ⋮     ⋮        ⋮      ⋮               ⋮              \n",
       "461 35  15      2     2        183    2124            exceptional    \n",
       "468 29   8      2     2        196    2269            exceptional    \n",
       "474 34  11      2     2        183    2098            not-exceptional\n",
       "497 26   3      2     1        185    2211            exceptional    "
      ]
     },
     "metadata": {},
     "output_type": "display_data"
    }
   ],
   "source": [
    "# Remove rows with missing data\n",
    "tennis <- tennis[!apply(tennis, 1, function(x) any(x==\"\")),]\n",
    "\n",
    "# Remove the date from the \"Age\" column\n",
    "tennis$Age <- sub(\"\\\\s*\\\\(.*\\\\)\", \"\", tennis$Age)\n",
    "# Convert the \"Age\" column to numeric data type\n",
    "tennis$Age <- as.numeric(tennis$Age)\n",
    "\n",
    "# Convert \"Country\" to a factor, then to a numeric representation\n",
    "tennis$Country <- as.numeric(factor(tennis$Country))\n",
    "\n",
    "# Convert \"Plays\" to a factor, then to a numeric representation\n",
    "tennis$Plays <- as.numeric(factor(tennis$Plays))\n",
    "                        \n",
    "# Convert \"Backhand\" to a factor, then to a numeric representation\n",
    "tennis$Backhand <- as.numeric(factor(tennis$Backhand))\n",
    "\n",
    "# Remove the cm from the \"Height\" column\n",
    "tennis$Height <- sub(\" cm\", \"\", tennis$Height)\n",
    "# Convert the \"Height\" column to numeric data type\n",
    "tennis$Height <- as.numeric(tennis$Height)\n",
    "                        \n",
    "# Remove the date from the \"Peak.Elo.Rating\" column\n",
    "tennis$Peak.Elo.Rating <- sub(\"\\\\s*\\\\(.*\\\\)\", \"\", tennis$Peak.Elo.Rating)\n",
    "# Convert the \"Peak.Elo.Rating\" column to numeric data type\n",
    "tennis$Peak.Elo.Rating <- as.numeric(tennis$Peak.Elo.Rating)\n",
    "\n",
    "# Create the exceptional column\n",
    "tennis <- tennis |>\n",
    "    mutate(Exceptional = ifelse(Peak.Elo.Rating < 2100, \"not-exceptional\", \"exceptional\"))\n",
    "# The following line is required for actual regression, but it is easier to visualize exceptionalism in qualitative form\n",
    "# For the sake of actual regression, convert \"Exceptional\" to a factor, then to a numeric representation, where it is **0 or 1**\n",
    "#tennis$Exceptional <- as.numeric(factor(tennis$Exceptional)) - 1\n",
    "\n",
    "tennis"
   ]
  },
  {
   "cell_type": "code",
   "execution_count": 4,
   "id": "e507c19d-2eac-4705-b144-e01d267988e6",
   "metadata": {},
   "outputs": [
    {
     "data": {
      "text/html": [
       "<table class=\"dataframe\">\n",
       "<caption>A tibble: 2 × 2</caption>\n",
       "<thead>\n",
       "\t<tr><th scope=col>Exceptional</th><th scope=col>Observations</th></tr>\n",
       "\t<tr><th scope=col>&lt;chr&gt;</th><th scope=col>&lt;int&gt;</th></tr>\n",
       "</thead>\n",
       "<tbody>\n",
       "\t<tr><td>exceptional    </td><td>27</td></tr>\n",
       "\t<tr><td>not-exceptional</td><td>85</td></tr>\n",
       "</tbody>\n",
       "</table>\n"
      ],
      "text/latex": [
       "A tibble: 2 × 2\n",
       "\\begin{tabular}{ll}\n",
       " Exceptional & Observations\\\\\n",
       " <chr> & <int>\\\\\n",
       "\\hline\n",
       "\t exceptional     & 27\\\\\n",
       "\t not-exceptional & 85\\\\\n",
       "\\end{tabular}\n"
      ],
      "text/markdown": [
       "\n",
       "A tibble: 2 × 2\n",
       "\n",
       "| Exceptional &lt;chr&gt; | Observations &lt;int&gt; |\n",
       "|---|---|\n",
       "| exceptional     | 27 |\n",
       "| not-exceptional | 85 |\n",
       "\n"
      ],
      "text/plain": [
       "  Exceptional     Observations\n",
       "1 exceptional     27          \n",
       "2 not-exceptional 85          "
      ]
     },
     "metadata": {},
     "output_type": "display_data"
    }
   ],
   "source": [
    "# wrangle data to report the number of observations for each class\n",
    "tennis_summary <- tennis |>\n",
    "  group_by(Exceptional) |>\n",
    "  summarize(Observations = n())\n",
    "\n",
    "tennis_summary"
   ]
  },
  {
   "cell_type": "code",
   "execution_count": 5,
   "id": "66877317-fe00-4aac-8240-105e1ebf7b54",
   "metadata": {},
   "outputs": [
    {
     "data": {
      "image/png": "[encoded data removed]",
      "text/plain": [
       "plot without title"
      ]
     },
     "metadata": {
      "image/png": {
       "height": 360,
       "width": 720
      }
     },
     "output_type": "display_data"
    }
   ],
   "source": [
    "# vizualizing the distribution of classes\n",
    "options(repr.plot.width = 12, repr.plot.height = 6)\n",
    "\n",
    "tennis_plot <- tennis_summary |> \n",
    "    ggplot(aes(x = Exceptional, y = Observations)) +\n",
    "        geom_bar(stat = \"identity\", position = \"dodge\", color = \"black\", fill = \"dodgerblue\") +\n",
    "        labs(x = \"Exceptionality\", y = \"Observations\", title = \"Observation of Exceptionality in Players\") +\n",
    "        theme(text = element_text(size = 22)) +\n",
    "        coord_flip()\n",
    "\n",
    "tennis_plot"
   ]
  },
  {
   "cell_type": "markdown",
   "id": "92fb54ce-2b33-4c54-843f-93925fbfdd6b",
   "metadata": {},
   "source": [
    "> Note - there is a lower proportion of non-exceptional athletes in the dataset"
   ]
  },
  {
   "cell_type": "markdown",
   "id": "4d57b09b-0db8-42dd-9c1e-1bc03aee4ead",
   "metadata": {},
   "source": [
    "## Methods\n",
    "\n",
    "### Explain how you will conduct either your data analysis and which variables/columns you will use. \n",
    "> Note - you do not need to use all variables/columns that exist in the raw data set. In fact, that's often not a good idea. For each variable think: is this a useful variable for prediction?\n",
    "\n",
    "Our group is planning to perform binary logistic regression in order to predict whether or not a player is 'exceptional'. According to https://www.ultimatetennisstatistics.com/peakEloRatings, the top ~200 players all have a peak elo of above 2100. Consequently, our group will partition players into the binary categories of 'exceptional' and 'not-exceptional', with all 'exceptional' players having a peak elo of above 2100, and all 'not-exceptional' players having a peak elo under 2100. The relevant variables to the regression analysis will first be turned into factors, and then represented by their numeric levels, as logistic regression involves the use of quantitative inputs only. Favorite surface was initially going to be included as an independent variables, but due to a prevalence of missing values, it was removed from the list.\n",
    "\n",
    "Independent Variables: Age (the age of the player), Country (where the player is from -> factored), Plays (whether the player is left or right handed -> factor), Backhand (whether the player prefers to use two hands or one hands for the backhand serve), and Height (the height of the player).\n",
    "\n",
    "Dependent Variable: Exceptional (whether a player is 'exceptional' or 'not-exceptional' -> factored -> must be 0 or 1).\n",
    "\n",
    "### Describe at least one way that you will visualize the results\n",
    "We could create a scatter plot with the prediction percentages of each player, and visualize their fit along the logistic curve used in the regression. Not only that, but it would also be possible to create a bar chart to represent the number of occurrences of exceptional players within this batch of data."
   ]
  },
  {
   "cell_type": "markdown",
   "id": "9f0ec289-bbd6-426d-83c4-91cd56cbd5b5",
   "metadata": {},
   "source": [
    "## Expected Outcomes and Significance\n",
    "\n",
    "### What do you expect to find?\n",
    "- We expect to find clear evidence that certain player attributes yield success on specific playing surfaces. For example, height may be a primary attribute that determines a players preferred surface as taller players may do better on grassy surfaces which tend to favor big serves whereas shorter players may succeed on faster surfaces, such as hard courts. \n",
    "\n",
    "### What impact could such findings have?\n",
    "- Such findings could influence how players train, how they are selected for specialized programs and how they select which tournaments and matches to compete in. \n",
    "- Coaches could use the insights from the results of this study to build better programs that adhere to each player's strengths and weaknesses, focusing on developing their skills based on their court preferences or a court they’d more likely succeed in. \n",
    "\n",
    "### What future questions could this lead to?\n",
    "- How do a player’s strengths influence their winnings total?\n",
    "- Given the financial incentives tied to tournaments on particular surfaces, should players tailor their training to specialize?\n",
    "- The insights from this analysis could also inform decisions around tournament planning and scheduling. For example, if a tournament director knows that a large number of players with a one-handed backhand prefer clay courts, they may choose to schedule more clay court events to attract those players and increase the competitiveness of the tournament.\n"
   ]
  }
 ],
 "metadata": {
  "kernelspec": {
   "display_name": "R",
   "language": "R",
   "name": "ir"
  },
  "language_info": {
   "codemirror_mode": "r",
   "file_extension": ".r",
   "mimetype": "text/x-r-source",
   "name": "R",
   "pygments_lexer": "r",
   "version": "4.1.3"
  }
 },
 "nbformat": 4,
 "nbformat_minor": 5
}
