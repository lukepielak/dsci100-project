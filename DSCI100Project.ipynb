{
 "cells": [
  {
   "cell_type": "markdown",
   "id": "9d95c5c7-439e-4fa0-9002-370882b47c8d",
   "metadata": {
    "id": "9d95c5c7-439e-4fa0-9002-370882b47c8d",
    "tags": []
   },
   "source": [
    "# DSCI 100 Project"
   ]
  },
  {
   "cell_type": "markdown",
   "id": "c0886301-1062-422d-a53c-6effea0ec715",
   "metadata": {
    "id": "c0886301-1062-422d-a53c-6effea0ec715",
    "tags": []
   },
   "source": [
    "## Introduction\n"
   ]
  },
  {
   "cell_type": "markdown",
   "id": "c7feb0d9-b21d-4be6-a22d-4c9db5d0c544",
   "metadata": {
    "id": "c7feb0d9-b21d-4be6-a22d-4c9db5d0c544"
   },
   "source": [
    "### Background\n",
    "\n",
    "According to the World Health Organization (WHO), breast cancer is one of the most common variants of cancer worldwide and the most frequently diagnosed cancer in women. Our project explores a dataset involving the physical characteristics of benign (non-cancerous) and malignant (cancerous) tumors. We will use data classification techniques to investigate these features and provide valuable insights that may guide future research into this issue and increase the speed and accuracy of cancer detection in patients.\n"
   ]
  },
  {
   "cell_type": "markdown",
   "id": "c5b7f85f-bc76-4bbd-94a8-a144d88d7847",
   "metadata": {
    "id": "c5b7f85f-bc76-4bbd-94a8-a144d88d7847"
   },
   "source": [
    "### Predictive Question\n",
    "\n",
    "Our analysis is focused around a key question: Are we able to predict the diagnosis of a tumor, such as whether it is benign or malignant, based on its physical characteristics? If so, is it possible to make predictions with a confidence level of 95+% (standard cutoff of p < 0.05)?"
   ]
  },
  {
   "cell_type": "markdown",
   "id": "b9485b00-8451-472a-92d4-75c52b7f3101",
   "metadata": {
    "id": "b9485b00-8451-472a-92d4-75c52b7f3101"
   },
   "source": [
    "### Data\n",
    "\n",
    "To clarify the content of our dataset, each row/observation represents a tumor that is either benign or malignant and each column/variable represents an attribute of a tumor. The entire dataset includes 33 columns, however, we are only concerned with the diagnosis, as categorical data for classification, and “mean” variables as measurements for prediction. This is because other variables include data about the same features that were used to calculate the mean columns and will not be necessary to include for our model; this leaves us with 11 variables.\n",
    "\n",
    "The attributes of each tumor are represented as follows:\n",
    "\n",
    "- **diagnosis** (M = malignant, B = benign)\n",
    "- **radius** (mean of distances from center to points on the perimeter)\n",
    "- **texture** (standard deviation of gray-scale values)\n",
    "- **perimeter**\n",
    "- **area**\n",
    "- **smoothness** (local variation in radius lengths)\n",
    "- **compactness** (perimeter^2 / area - 1.0)\n",
    "- **concavity** (severity of concave portions of the contour)\n",
    "- **concave points** (number of concave portions of the contour)\n",
    "- **symmetry**\n",
    "- **fractal dimension** (\"coastline approximation\" - 1)\n",
    "\n",
    "The dataset we are using is downloaded from Kaggle: https://www.kaggle.com/datasets/uciml/breast-cancer-wisconsin-data\n"
   ]
  },
  {
   "cell_type": "markdown",
   "id": "da7eed13-f7ca-45f6-abfb-fcb44d892270",
   "metadata": {
    "id": "da7eed13-f7ca-45f6-abfb-fcb44d892270",
    "tags": []
   },
   "source": [
    "## Methods and Results\n"
   ]
  },
  {
   "cell_type": "markdown",
   "id": "f8bf749c-d48e-4527-9070-e77b13597b26",
   "metadata": {
    "id": "f8bf749c-d48e-4527-9070-e77b13597b26"
   },
   "source": [
    "### Importing Packages"
   ]
  },
  {
   "cell_type": "code",
   "execution_count": null,
   "id": "7c2ceb0d-b71b-4c74-9cfa-97b46db84920",
   "metadata": {
    "colab": {
     "base_uri": "https://localhost:8080/"
    },
    "id": "7c2ceb0d-b71b-4c74-9cfa-97b46db84920",
    "outputId": "fcc6b26e-fee7-4974-c73e-709863ef093b",
    "vscode": {
     "languageId": "r"
    }
   },
   "outputs": [],
   "source": [
    "install.packages(\"tidymodels\")\n",
    "install.packages(\"GGally\")\n",
    "install.packages(\"kknn\")\n",
    "\n",
    "options(repr.matrix.max.rows = 6) # limit dataframe row display\n",
    "\n",
    "library(tidyverse)\n",
    "library(repr)\n",
    "library(tidymodels)\n",
    "library(GGally)\n",
    "library(broom)\n",
    "library(knitr)"
   ]
  },
  {
   "cell_type": "markdown",
   "id": "78452334-85c4-4222-a315-4a46b4ce1ac2",
   "metadata": {
    "id": "78452334-85c4-4222-a315-4a46b4ce1ac2"
   },
   "source": [
    "### Loading Data"
   ]
  },
  {
   "cell_type": "code",
   "execution_count": null,
   "id": "0f6ce4a1-b129-4221-a8a8-38fd5ea45cc8",
   "metadata": {
    "colab": {
     "base_uri": "https://localhost:8080/",
     "height": 633
    },
    "id": "0f6ce4a1-b129-4221-a8a8-38fd5ea45cc8",
    "outputId": "aa33912b-3b1d-4fa3-a26a-e107387140f1",
    "vscode": {
     "languageId": "r"
    }
   },
   "outputs": [],
   "source": [
    "# load in the entire 33 column dataset to prepare for wrangling\n",
    "bcancer <- read_csv('data/bcancer_data.csv')\n",
    "\n",
    "bcancer"
   ]
  },
  {
   "cell_type": "markdown",
   "id": "b100f6a3-a108-4fde-aaf8-7c62fcdc2518",
   "metadata": {
    "id": "b100f6a3-a108-4fde-aaf8-7c62fcdc2518"
   },
   "source": [
    "### Wrangling Data"
   ]
  },
  {
   "cell_type": "markdown",
   "id": "9071260c-ca7e-4cad-81e3-81683040ed2c",
   "metadata": {
    "id": "9071260c-ca7e-4cad-81e3-81683040ed2c"
   },
   "source": [
    "##### Transform data into a quantitative format"
   ]
  },
  {
   "cell_type": "code",
   "execution_count": null,
   "id": "1c8ca0de-5d85-4b73-8900-0f69ab6cba05",
   "metadata": {
    "colab": {
     "base_uri": "https://localhost:8080/",
     "height": 318
    },
    "id": "1c8ca0de-5d85-4b73-8900-0f69ab6cba05",
    "outputId": "4c3139a3-bdd3-42be-90c7-248c8cdac9b9",
    "vscode": {
     "languageId": "r"
    }
   },
   "outputs": [],
   "source": [
    "# select relevant columns, and wrangle data into a more workable representation\n",
    "bcancer_means <- bcancer |>\n",
    "    select(-id) |>\n",
    "    select(diagnosis, radius_mean, texture_mean, perimeter_mean, area_mean, smoothness_mean, compactness_mean, concavity_mean, 'concave points_mean', symmetry_mean, fractal_dimension_mean) |>\n",
    "    relocate(diagnosis, .after = fractal_dimension_mean) |>\n",
    "    mutate(diagnosis = as_factor(as.numeric(as_factor(diagnosis)) - 1))\n",
    "# above, subtracting 1 from the as.numeric since factor index starts at 1,\n",
    "# but we would like it to start at 0\n",
    "\n",
    "# rename one weird column with space in it\n",
    "names(bcancer_means)[names(bcancer_means) == 'concave points_mean'] <- \"concave_points_mean\"\n",
    "  \n",
    "bcancer_means"
   ]
  },
  {
   "cell_type": "markdown",
   "id": "9ebe05d2-f712-42fd-a6a7-442959403eaa",
   "metadata": {
    "id": "9ebe05d2-f712-42fd-a6a7-442959403eaa"
   },
   "source": [
    "##### K-Nearest Neighbour Train-Test-Split"
   ]
  },
  {
   "cell_type": "code",
   "execution_count": null,
   "id": "c746ea48-a2e7-470e-ad4d-bfb8e76e4b7d",
   "metadata": {
    "colab": {
     "base_uri": "https://localhost:8080/",
     "height": 318
    },
    "id": "c746ea48-a2e7-470e-ad4d-bfb8e76e4b7d",
    "outputId": "8dabcafd-71ff-4ad0-dad2-9efd3ede4816",
    "vscode": {
     "languageId": "r"
    }
   },
   "outputs": [],
   "source": [
    "# different seed than the seed used for training, \n",
    "# since this is used for testing as well\n",
    "set.seed(2020)\n",
    "\n",
    "# create train-test-split in order to verify that the model works\n",
    "bcancer_split <- initial_split(bcancer_means, prop = 0.75, strata = diagnosis)  \n",
    "bcancer_train <- training(bcancer_split)\n",
    "bcancer_test  <- testing(bcancer_split)\n",
    "\n",
    "bcancer_train"
   ]
  },
  {
   "cell_type": "markdown",
   "id": "02fccd99-cede-4a33-80ed-d381845f815e",
   "metadata": {
    "id": "02fccd99-cede-4a33-80ed-d381845f815e"
   },
   "source": [
    "### Summary"
   ]
  },
  {
   "cell_type": "markdown",
   "id": "b636fb7a-cae7-4247-a518-8c6ea0bc35b3",
   "metadata": {
    "id": "b636fb7a-cae7-4247-a518-8c6ea0bc35b3"
   },
   "source": [
    "**Information about the dataset that is relevant to exploratory analysis**\n",
    "\n",
    "This dataset consists of values representing physical attributes of breast cancer tumors. The original dataset consisted of 33 columns divided into three groups representing feature means, standard error, and worst/largest (mean of 3 largest values). In this analysis, we are interested only in the mean columns, so those were isolated during the data wrangling process. The specific features of interest are `radius_mean`, `texture_mean`, `area_mean`, `smoothness_mean`, `compactness_mean`, `concavity_mean`, `concave_points_mean`, `symmetry_mean`, and `fractal_dimension_mean`. The data in these features is **not scaled**, implying that scaling and centering must be done during the recipe step of the exploratory analysis."
   ]
  },
  {
   "cell_type": "markdown",
   "id": "9fd8b771-022a-40ee-b6b4-f0681b0f3581",
   "metadata": {},
   "source": [
    "#### Training analysis for optimal k-value"
   ]
  },
  {
   "cell_type": "code",
   "execution_count": null,
   "id": "b728ea63-3776-4490-9834-f534a49e3ba9",
   "metadata": {
    "id": "b728ea63-3776-4490-9834-f534a49e3ba9",
    "vscode": {
     "languageId": "r"
    }
   },
   "outputs": [],
   "source": [
    "set.seed(2019)\n",
    "\n",
    "bcancer_tune <- nearest_neighbor(weight_func = \"rectangular\", neighbors = tune()) |>\n",
    "    set_engine(\"kknn\") |> \n",
    "    set_mode(\"classification\")"
   ]
  },
  {
   "cell_type": "code",
   "execution_count": null,
   "id": "5eb5affc-06a2-4f87-a2ef-7a595ea0d3fc",
   "metadata": {
    "colab": {
     "base_uri": "https://localhost:8080/"
    },
    "id": "5eb5affc-06a2-4f87-a2ef-7a595ea0d3fc",
    "outputId": "db631884-e0b8-4804-912d-f84883f38205",
    "vscode": {
     "languageId": "r"
    }
   },
   "outputs": [],
   "source": [
    "set.seed(2019)\n",
    "\n",
    "# scale and center features, as the data has yet to be scaled\n",
    "bcancer_recipe <- recipe(diagnosis ~ ., data = bcancer_train) |>\n",
    "    step_scale(all_predictors()) |>\n",
    "    step_center(all_predictors())\n",
    "\n",
    "bcancer_recipe"
   ]
  },
  {
   "cell_type": "code",
   "execution_count": null,
   "id": "7c6a0603-05db-4422-a6c6-759602dca56a",
   "metadata": {
    "id": "7c6a0603-05db-4422-a6c6-759602dca56a",
    "vscode": {
     "languageId": "r"
    }
   },
   "outputs": [],
   "source": [
    "set.seed(2019)\n",
    "\n",
    "bcancer_vfold <- vfold_cv(bcancer_train, v = 5, strata = diagnosis)"
   ]
  },
  {
   "cell_type": "markdown",
   "id": "89f68408-336d-40fd-9419-0f034867f6ae",
   "metadata": {
    "id": "89f68408-336d-40fd-9419-0f034867f6ae",
    "tags": []
   },
   "source": [
    "##### Determine model accuracies through cross-validation"
   ]
  },
  {
   "cell_type": "code",
   "execution_count": null,
   "id": "4dd844b3-e7bc-46a9-92a3-2b0c60816380",
   "metadata": {
    "colab": {
     "base_uri": "https://localhost:8080/",
     "height": 318
    },
    "id": "4dd844b3-e7bc-46a9-92a3-2b0c60816380",
    "outputId": "cf209f1c-4cd4-456a-c868-280971b80ab7",
    "vscode": {
     "languageId": "r"
    }
   },
   "outputs": [],
   "source": [
    "set.seed(2019)\n",
    "\n",
    "bcancer_k_vals <- tibble(neighbors = seq(from = 1, to = 25, by = 2))\n",
    "\n",
    "bcancer_results <- workflow() |>\n",
    "    add_recipe(bcancer_recipe) |>\n",
    "    add_model(bcancer_tune) |>\n",
    "    tune_grid(resamples = bcancer_vfold, grid = bcancer_k_vals) |>\n",
    "    collect_metrics()\n",
    "\n",
    "bcancer_results"
   ]
  },
  {
   "cell_type": "code",
   "execution_count": null,
   "id": "17a8b84d-f965-4e3c-bf8f-b19337904e2b",
   "metadata": {
    "colab": {
     "base_uri": "https://localhost:8080/",
     "height": 318
    },
    "id": "17a8b84d-f965-4e3c-bf8f-b19337904e2b",
    "outputId": "41362d8a-6d7d-4230-aa01-a72504fc4fcb",
    "vscode": {
     "languageId": "r"
    }
   },
   "outputs": [],
   "source": [
    "bcancer_accuracies <- bcancer_results |>\n",
    "    filter(.metric == \"accuracy\")\n",
    "\n",
    "bcancer_accuracies"
   ]
  },
  {
   "cell_type": "markdown",
   "id": "99c5c6d5-f09b-45e5-95c5-9b1a4eff5e88",
   "metadata": {},
   "source": [
    "##### Determine the highest accuracy, and take it's corresponding k-value"
   ]
  },
  {
   "cell_type": "code",
   "execution_count": null,
   "id": "5567a102-7043-4242-a56c-56007cf50c6f",
   "metadata": {},
   "outputs": [],
   "source": [
    "bcancer_optimal_k <- bcancer_accuracies |>\n",
    "    arrange(desc(mean)) |>\n",
    "    select(neighbors) |>\n",
    "    slice(1) |>\n",
    "    pull()\n",
    "\n",
    "bcancer_optimal_k"
   ]
  },
  {
   "cell_type": "markdown",
   "id": "fd57c492-44ee-47df-b605-cd83cd0ac58c",
   "metadata": {},
   "source": [
    "#### Testing analysis with optimal k-value"
   ]
  },
  {
   "cell_type": "markdown",
   "id": "39bdfd5c-7d08-49a4-9aab-a2c09130d660",
   "metadata": {
    "id": "39bdfd5c-7d08-49a4-9aab-a2c09130d660"
   },
   "source": [
    "##### Create a k-nearest neighbours model with the optimal value for k (as shown by the accuracy_vs_k plot in the Visualization section)"
   ]
  },
  {
   "cell_type": "code",
   "execution_count": null,
   "id": "b00c383e-df54-43ee-8b6d-d890491f11bd",
   "metadata": {
    "colab": {
     "base_uri": "https://localhost:8080/",
     "height": 139
    },
    "id": "b00c383e-df54-43ee-8b6d-d890491f11bd",
    "outputId": "f7327d79-8854-4f86-c513-fdcf57ffcc23",
    "vscode": {
     "languageId": "r"
    }
   },
   "outputs": [],
   "source": [
    "set.seed(2020)\n",
    "\n",
    "# run tests with optimal k-value\n",
    "bcancer_spec <- nearest_neighbor(weight_func = \"rectangular\", neighbors = bcancer_optimal_k) |>\n",
    "    set_engine(\"kknn\") |> \n",
    "    set_mode(\"classification\")\n",
    "\n",
    "bcancer_spec"
   ]
  },
  {
   "cell_type": "code",
   "execution_count": null,
   "id": "119ed68f-8caa-47b2-90e6-e26f3afe5cc3",
   "metadata": {
    "colab": {
     "base_uri": "https://localhost:8080/",
     "height": 347
    },
    "id": "119ed68f-8caa-47b2-90e6-e26f3afe5cc3",
    "outputId": "aab0f3dc-2966-4868-d1ec-fe9e273d17a8",
    "vscode": {
     "languageId": "r"
    }
   },
   "outputs": [],
   "source": [
    "set.seed(2020)\n",
    "\n",
    "bcancer_fit <- workflow() |>\n",
    "    add_recipe(bcancer_recipe) |>\n",
    "    add_model(bcancer_spec) |>\n",
    "    fit(data = bcancer_train) # fit on training data to use on test data\n",
    "\n",
    "bcancer_fit"
   ]
  },
  {
   "cell_type": "markdown",
   "id": "3521a9a3-aaf7-46cf-869b-b2c4a32f12a5",
   "metadata": {
    "id": "3521a9a3-aaf7-46cf-869b-b2c4a32f12a5"
   },
   "source": [
    "##### K-nearest neighbours predictions and summary statistics"
   ]
  },
  {
   "cell_type": "code",
   "execution_count": null,
   "id": "b498cf20-6306-4532-88f6-78be5260ab43",
   "metadata": {
    "colab": {
     "base_uri": "https://localhost:8080/",
     "height": 318
    },
    "id": "b498cf20-6306-4532-88f6-78be5260ab43",
    "outputId": "1b948cdc-cd40-42c3-af70-a699a503aed5",
    "vscode": {
     "languageId": "r"
    }
   },
   "outputs": [],
   "source": [
    "set.seed(2020)\n",
    "\n",
    "bcancer_predictions <- predict(bcancer_fit, bcancer_test) |>\n",
    "    bind_cols(bcancer_test)\n",
    "\n",
    "bcancer_predictions"
   ]
  },
  {
   "cell_type": "code",
   "execution_count": null,
   "id": "31f1db8a-dc07-4d57-8290-e72752c9073c",
   "metadata": {
    "colab": {
     "base_uri": "https://localhost:8080/",
     "height": 161
    },
    "id": "31f1db8a-dc07-4d57-8290-e72752c9073c",
    "outputId": "59cd70dc-a199-43db-f968-66a35583f86c",
    "vscode": {
     "languageId": "r"
    }
   },
   "outputs": [],
   "source": [
    "set.seed(2020)\n",
    "\n",
    "bcancer_metrics <- bcancer_predictions |>\n",
    "    metrics(truth = diagnosis, estimate = .pred_class)\n",
    "\n",
    "bcancer_metrics"
   ]
  },
  {
   "cell_type": "code",
   "execution_count": null,
   "id": "079d0e2c-c381-4e65-9ddd-773ce6b20e4e",
   "metadata": {},
   "outputs": [],
   "source": [
    "set.seed(2020)\n",
    "\n",
    "bcancer_test_accuracy <- bcancer_metrics |>\n",
    "    select(.estimate) |>\n",
    "    slice(1) |>\n",
    "    pull()\n",
    "\n",
    "bcancer_test_accuracy"
   ]
  },
  {
   "cell_type": "code",
   "execution_count": null,
   "id": "82b29149-734b-4ebc-aa32-44eba152bb35",
   "metadata": {
    "colab": {
     "base_uri": "https://localhost:8080/",
     "height": 86
    },
    "id": "82b29149-734b-4ebc-aa32-44eba152bb35",
    "outputId": "392e5cf9-fa71-48e7-e1fa-efa14c51dd8a",
    "vscode": {
     "languageId": "r"
    }
   },
   "outputs": [],
   "source": [
    "set.seed(2020)\n",
    "\n",
    "bcancer_classifications <- c(\"Malignant\", \"Benign\")\n",
    "\n",
    "bcancer_conf_mat <- bcancer_predictions |>\n",
    "    conf_mat(truth = diagnosis, estimate = .pred_class)\n",
    "\n",
    "rownames(bcancer_conf_mat$table) <- bcancer_classifications\n",
    "colnames(bcancer_conf_mat$table) <- bcancer_classifications\n",
    "\n",
    "bcancer_conf_mat"
   ]
  },
  {
   "cell_type": "markdown",
   "id": "a0384f5a-0336-4080-a9bb-3d55cc3ce4cd",
   "metadata": {
    "id": "a0384f5a-0336-4080-a9bb-3d55cc3ce4cd"
   },
   "source": [
    "### Visualization"
   ]
  },
  {
   "cell_type": "markdown",
   "id": "vp_NQUbj08uH",
   "metadata": {
    "id": "vp_NQUbj08uH"
   },
   "source": [
    "##### Fig. 1 - Pair-plot for `bcancer_means` demonstrates diagnosis clusters\n"
   ]
  },
  {
   "cell_type": "code",
   "execution_count": null,
   "id": "Ec6Ok44bxgRB",
   "metadata": {
    "colab": {
     "base_uri": "https://localhost:8080/",
     "height": 1000
    },
    "id": "Ec6Ok44bxgRB",
    "outputId": "b2b7e4c4-a158-43b1-f8e4-ff2e4a034c55",
    "vscode": {
     "languageId": "r"
    }
   },
   "outputs": [],
   "source": [
    "options(repr.plot.height = 18, repr.plot.width = 18)\n",
    "\n",
    "bcancer_temp_diagnosis <- bcancer_means['diagnosis']\n",
    "\n",
    "# bin-width for histograms defaults to 30, not necessarily relevant as we are paying attention to the scatter plot diagnoses\n",
    "bcancer_pairs_plot <- bcancer_means |>\n",
    "    ggpairs(mapping = aes(color = diagnosis, alpha = 0.4))\n",
    "\n",
    "bcancer_pairs_plot"
   ]
  },
  {
   "cell_type": "markdown",
   "id": "bbc95613-2d23-41e5-a821-9b3fc369e9b7",
   "metadata": {
    "id": "bbc95613-2d23-41e5-a821-9b3fc369e9b7"
   },
   "source": [
    "##### Fig. 2 - K-nearest neighbours optimal k-value plot (based on training cross-validation results)"
   ]
  },
  {
   "cell_type": "code",
   "execution_count": null,
   "id": "b812b926-9e75-404c-9060-07220e638553",
   "metadata": {
    "colab": {
     "base_uri": "https://localhost:8080/",
     "height": 497
    },
    "id": "037938a3-89a2-4826-827c-5fd1f1525da2",
    "outputId": "f0156baa-725b-47e8-ffcf-91c7129f02e4",
    "tags": [],
    "vscode": {
     "languageId": "r"
    }
   },
   "outputs": [],
   "source": [
    "options(repr.plot.height = 8, repr.plot.width = 10)\n",
    "\n",
    "accuracy_versus_k <- bcancer_accuracies |>\n",
    "    ggplot(aes(x = neighbors, y = mean)) +\n",
    "        geom_point() +\n",
    "        geom_line() +\n",
    "        labs(x = \"Neighbors\", y = \"Accuracy Estimate\") +\n",
    "        geom_vline(xintercept = bcancer_optimal_k, linetype = \"dotted\", color = \"blue\", size = 1.3) +\n",
    "        scale_x_continuous(breaks = seq(0, 100, by = 1)) # scale x axis, max set to 100 since it auto decreases for lower values of k\n",
    "\n",
    "accuracy_versus_k"
   ]
  },
  {
   "cell_type": "markdown",
   "id": "29a682ba-1594-49c2-a56e-ed4ded5e10d7",
   "metadata": {},
   "source": [
    "##### Fig. 3 - Mosaic plot representation of test classifications and true classes"
   ]
  },
  {
   "cell_type": "code",
   "execution_count": null,
   "id": "b75c937f-4e78-486a-8b60-045aeb8383d4",
   "metadata": {
    "tags": []
   },
   "outputs": [],
   "source": [
    "options(repr.plot.height = 10, repr.plot.width = 10)\n",
    "\n",
    "bcancer_conf_mat_mosaic_plot <- bcancer_conf_mat |>\n",
    "    autoplot(type = \"mosaic\") +\n",
    "        aes(fill = rep(colnames(bcancer_conf_mat$table), ncol(bcancer_conf_mat$table))) + \n",
    "        labs(title = \"Test Predictions vs True Classes\", fill = \"Predicted\") +\n",
    "        # *bcancer_classifications is defined in the cell where bcancer_conf_mat was created\n",
    "        scale_fill_manual(name = \"Diagnosis\", labels = bcancer_classifications, values = c(\"firebrick2\", \"dodgerblue2\")) +\n",
    "        scale_y_continuous() +\n",
    "        theme(text = element_text(size = 20))\n",
    "\n",
    "bcancer_conf_mat_mosaic_plot"
   ]
  },
  {
   "cell_type": "markdown",
   "id": "ef962553-eb31-441a-b0a3-4f16307d6af0",
   "metadata": {},
   "source": [
    "##### Fig. 4 - Analysis visualization in the form of the test data confirmation matrix"
   ]
  },
  {
   "cell_type": "code",
   "execution_count": null,
   "id": "hoGyvbvI2qWS",
   "metadata": {
    "colab": {
     "base_uri": "https://localhost:8080/",
     "height": 652
    },
    "id": "hoGyvbvI2qWS",
    "outputId": "1fafdf36-29a5-4401-a2b3-62f029edc794",
    "vscode": {
     "languageId": "r"
    }
   },
   "outputs": [],
   "source": [
    "options(repr.plot.height = 10, repr.plot.width = 10)\n",
    "\n",
    "bcancer_conf_mat_plot <- bcancer_conf_mat |>\n",
    "    autoplot(type = \"heatmap\") +\n",
    "        scale_fill_gradient(low=\"#d6f5f5\", high = \"#1e7b7b\") +\n",
    "        labs(title = \"Test Prediction Confirmation Matrix\") +\n",
    "        theme(text = element_text(size = 20))\n",
    "  \n",
    "bcancer_conf_mat_plot"
   ]
  },
  {
   "cell_type": "markdown",
   "id": "a887b5db-c1db-47bb-ad83-056d9f2a962d",
   "metadata": {
    "id": "a887b5db-c1db-47bb-ad83-056d9f2a962d"
   },
   "source": [
    "### Results"
   ]
  },
  {
   "cell_type": "markdown",
   "id": "91640f97-04d5-4fb6-85c9-7ecd5b50d701",
   "metadata": {
    "id": "91640f97-04d5-4fb6-85c9-7ecd5b50d701"
   },
   "source": [
    "As shown above in Fig 4., there are three values predicted as 0 that are actually 1, and 5 values predicted as 1 that are actually 0. Since **0** represents **malignant** and **1** represents **benign**, this model predicted that **three** tumors were benign, when they were actually malignant. The ratio of incorrect benign predictions to incorrect malignant predictions is quite visible in the mosaic plot represented by Fig. 3. With regards to Fig. 2 (the `accuracy_versus_k` plot), the value of k with the highest accuracy can be determined to be `19`. This specific classifier with `k=19` found a confidence accuracy of ~97% over a test set with a sample count of `n=142`. Given the accuracy, it approaches a p-value of ~0.03, which is below a p-value of 0.05, and therefore demonstrates a confidence interval above 95%."
   ]
  },
  {
   "cell_type": "markdown",
   "id": "b100fc52-800f-4285-987f-7469db57a83a",
   "metadata": {},
   "source": [
    "### Methods"
   ]
  },
  {
   "cell_type": "markdown",
   "id": "f27ed300-eb65-47a2-8ab1-f6a4e87b7baf",
   "metadata": {},
   "source": [
    "The first step taken was to ensure that all relevant libraries are included in this notebook. Once all the dependencies are worked out, the dataset is loaded into a dataframe by the name of `bcancer_means` using `tidyverse/readr`'s `read_csv` function. This analysis involves columns strictly representing the mean values; not all columns are necessary, implying that the columns of interest (anything ending in `_mean`, along with classification variable) must be selected. Once the proper columns have been selected, the classification variable's column is relocated to be the last column in the dataframe for easy reading; furthermore, the data type is converted into a numeric factor with levels of 0 and 1. The naming conventions used in the columns is snake-case, however there is one column that has a space instead of an underscore. To rectify this, the column must be renamed from `'concave points_mean'` to `'concave_points_mean'`. Once all the data wrangling is finished, `bcancer_means` is split into a training set (`bcancer_train`) and a testing set (`bcancer_test`) to prepare for classification.\n",
    "\n",
    "The first step in the classification process is to create a specification to determine the optimal value to be used for k; this is done through creating a knn specification with `tune()` specified as the k-value. The next step is to prepare a recipe to use for the classification; this is where the relevant features of `bcancer_train` are selected, scaled, and centered (all features are relevant in this case). In order to determine the correct value for k on average, cross-validation is used to examine the behaviour of k when used with randomly chosen datasets. As cross-validation can take a decent amount of time to perform for larger datasets, only five folds were selected. Once the cross-validation object is created, a workflow must be used to determine optimal k-values along with respective accuracies. The k-values in question span *odd* numbers from 1 to 11, inclusive. Once the workflow is created, it is tuned for k using the `tune_grid()` function. As `tune_grid()` returns a resampling set, information from tuning can be extracted using the `collect_metrics()` function. As the tuning accuracy (not roc_auc) samples represent the optimal value of k, they are filtered into a new dataframe called `bcancer_accuracies`. The value of k with the highest accuracy (in this case, `19`) is determined to be the optimal value, and it is used in the creation of a new knn specification that will be used on the `bcancer_test` dataframe. A new workflow, `bcancer_fit`, is created with the new specification and the old recipe and fit using `bcancer_test`. No cross-validation is performed on the testing data. Predictions are then performed utilizing `predict()` with `bcancer_fit` and `bcancer_test`. Once test predictions have been made, the accuracy and confusion matrix of the model are determined.\n",
    "\n",
    "As all the model training and testing has been performed, a pair plot visualization can be used to demonstrate the relationships between the features in the dataset. As denoted by the colour, the classifications of data points can visibly be seen congregating towards specific clusters of their same class. This signifies that predictions could potentially be made utilizing just two of the features as opposed to all ten, though they may be worse in terms of accuracy (Fig. 1). The optimal-k-value can further be visualized by plotting the `bcancer_accuracies` dataframe, where it is denoted by a dotted vertical line (Fig. 2). Test predictions are visualized through a heatmap of the test confirmation matrix determined earlier (Fig. 4), along with a mosaic plot representing the ratio of correct predictions to incorrect predictions (Fig. 3)."
   ]
  },
  {
   "cell_type": "markdown",
   "id": "aac59f3b-1992-4109-b5dd-1d95af8598de",
   "metadata": {
    "id": "aac59f3b-1992-4109-b5dd-1d95af8598de",
    "tags": []
   },
   "source": [
    "## Discussion"
   ]
  },
  {
   "cell_type": "markdown",
   "id": "5352df4f-f058-4432-ac69-04d3c95451ff",
   "metadata": {
    "id": "5352df4f-f058-4432-ac69-04d3c95451ff"
   },
   "source": [
    "### Findings"
   ]
  },
  {
   "cell_type": "markdown",
   "id": "a288c24a-554a-4191-9416-903365cde419",
   "metadata": {},
   "source": [
    "**Summary of findings**\n",
    "\n",
    "The data analysis project aimed to predict the diagnosis of a tumor as benign or malignant based on its physical characteristics and achieve a confidence level of 95+% (p < 0.05). The dataset included 33 columns, but the study focused on 11 variables, namely the diagnosis and mean values of physical characteristics. The k-Nearest Neighbors (kNN) classification algorithm was employed, and the optimal k-value was determined through cross-validation. \n",
    "\n",
    "The results showed that the classifier with k=19 achieved an accuracy of approximately 97% on the test set with 142 samples. The p-value of this classifier was found to be ~0.03, which is below the standard cutoff of 0.05, indicating a confidence interval above 95%. This means the model was able to predict tumor diagnosis with high accuracy based on the selected physical characteristics.\n",
    "\n",
    "The findings indicate that the physical characteristics of tumors can be effectively used for classification and may help improve the speed and accuracy of cancer detection. The high accuracy and low p-value suggest that the model is statistically significant and may be useful for guiding future research. However, it is essential to validate these findings with more extensive datasets and explore the possibility of using other algorithms to further improve the accuracy and reliability of the predictions. Our predictive question aimed to determine if tumor diagnoses could be accurately predicted based on their physical characteristics, with a confidence level of 95+% (p < 0.05). The classifier's performance, with an accuracy of approximately 97% and a p-value of ~0.03, demonstrated that we were successful in addressing the predictive question. This accomplishment highlights the potential of our model for supporting clinical decision-making and guiding future research in the field of cancer detection and classification.\n",
    "\n",
    "It’s also significant to note that the error in our model, while small, occurred three times as much for incorrect predictions of benign when the diagnosis was actually malignant (see the confusion matrix, fig. 4). This is especially problematic because it is far more damaging in real-world application to falsely diagnose a patient who has a cancerous tumor than it is to falsely diagnose a patient who is not at risk of cancer. It is clear that an improved version of our model would take extra steps to improve accuracy for this category of classification; specific ideas for a stronger model are detailed further below. "
   ]
  },
  {
   "cell_type": "markdown",
   "id": "1160cc62-53bc-45b2-8680-fca32156da5b",
   "metadata": {},
   "source": [
    "**Is this what was expected?**\n",
    "\n",
    "\n",
    "The high accuracy of approximately 97% and the p-value of ~0.03 were somewhat expected, given that previous studies have also demonstrated the potential of using physical characteristics of tumors to distinguish between benign and malignant cases. The k-Nearest Neighbors (kNN) classification algorithm is known for its effectiveness in such classification tasks, which contributed to our expectations of achieving a high level of accuracy and a confidence interval above 95%.\n",
    "\n",
    "The optimal k-value of 19, determined through cross-validation, provided a good balance between the bias-variance tradeoff, ensuring a robust model that generalizes well to new data. The pair plot visualization further supported our expectations, as it showed data points of the same class clustering together based on the selected features.\n",
    "\n",
    "Despite these positive findings, we are aware that there is always room for improvement. The model could potentially be enhanced by validating it on more extensive datasets, exploring alternative algorithms, or incorporating additional relevant features, such as other characteristics of tumors or demographic and lifestyle attributes of the patient. However, the current results are promising and provide valuable insights that can guide future research in cancer detection and classification.\n"
   ]
  },
  {
   "cell_type": "markdown",
   "id": "ffab1941-e550-4a8a-9ee8-60fac08802e1",
   "metadata": {
    "id": "ffab1941-e550-4a8a-9ee8-60fac08802e1"
   },
   "source": [
    "### Significance"
   ]
  },
  {
   "cell_type": "markdown",
   "id": "73cbd320-7046-4a5a-ba70-7041bcec78b0",
   "metadata": {},
   "source": [
    "**Impact**\n",
    "\n",
    "Such findings could improve early detection and diagnosis in healthcare and research. Identifying the most significant features in predicting malignancy could lead to the development of more accurate and efficient screening tools, which may increase the likelihood of detecting cancer at an earlier stage, when treatment is more effective. Early detection and diagnosis are critical components in the successful treatment of breast cancer, as they provide the best chance of effective intervention before the cancer progresses to advanced stages. By identifying the most significant features in predicting malignancy, this study could potentially contribute to improving early detection and diagnosis in the following ways:\n",
    "\n",
    "- Enhanced screening tools: By pinpointing the key tumor attributes that indicate malignancy, researchers can develop or refine existing screening tools to better identify these features. This could involve optimizing image processing techniques, enhancing the sensitivity of equipment, or creating new imaging modalities that are specifically designed to capture the identified attributes.\n",
    "\n",
    "- Risk stratification: Understanding the most significant features in predicting malignancy can help healthcare professionals more accurately assess an individual’s risk of developing breast cancer. By incorporating these features into risk assessment models, clinicians can identify patients who may require more frequent or intensive screening, as well as provide personalized recommendations for preventative measures.\n",
    "\n",
    "- Machine learning-assisted diagnostics: The insights gained from this study can be used to develop or improve machine learning algorithms that analyze medical images for the presence of identified features, increasing the accuracy and efficiency of the diagnostic process. This could potentially reduce false positives and negatives, minimizing unnecessary biopsies and reducing the anxiety associated with misdiagnoses. \n"
   ]
  },
  {
   "cell_type": "markdown",
   "id": "089f65a9-ef01-4430-87a5-c9e31ae01903",
   "metadata": {},
   "source": [
    "**Future Questions**\n",
    "\n",
    "The results of this study lead to many further questions that could be addressed in future studies. One question that immediately comes to mind is whether the findings from the classification of breast cancer tumors could help predict the malignancy of other non-breast tumors. This question arises because certain tumor characteristics might be universal indicators of malignancy across various types of cancer. If these common features exist, the insights gained from analyzing breast cancer tumors could potentially be applied to enhance early detection and diagnosis strategies for other types of cancer as well. \n",
    "\n",
    "Exploring this possibility would involve investigating similarities and differences between breast cancer tumors and non-breast tumors in terms of their attributes and underlying biological mechanisms. By comparing the most significant features identified in the breast cancer study with those observed in other cancer types, researchers can determine whether these characteristics are indeed general predictors of malignancy or if they are specific to breast cancer. \n",
    "\n",
    "This comparison could also reveal new, previously overlooked features that are relevant for predicting malignancy in non-breast tumors. Furthermore, if a shared set of predictive features is identified, it could have significant implications for the development of more comprehensive and effective cancer screening tools. Such tools could potentially improve early detection and diagnostic accuracy for multiple types of cancer, leading to better patient outcomes and more efficient resource allocation in healthcare. Investigating the potential applicability of breast cancer tumor classification findings to non-breast tumors is a compelling direction for future research, as it could lead to advancements in early detection and diagnosis strategies for a broader range of cancers. \n",
    "\n",
    "Another question for future research that this study could lead to is whether the model be further improved by incorporating additional features, such as patient medical history or genetic information. The incorporation of patient medical history could potentially strengthen the model by considering factors that may contribute to the development or progression of breast cancer. For example, family history of breast cancer, history of benign breast disease, and hormonal factors might be relevant in determining the likelihood of a tumor being benign or malignant. By including these variables in the model, we might be able to improve its accuracy and predictive power. \n",
    "\n",
    "Similarly, genetic information could also play a vital role in enhancing the model's performance. Certain genetic mutations, such as those in the BRCA1 and BRCA2 genes, are known to increase the risk of developing breast cancer. By incorporating this genetic data into the model, we could potentially identify patterns or relationships between specific genetic variations and the physical characteristics of tumors. This could lead to a more accurate and comprehensive understanding of the factors influencing tumor diagnosis, as well as the development of personalized prevention and treatment strategies.\n"
   ]
  },
  {
   "cell_type": "markdown",
   "id": "cf75fe8f-1bef-47aa-addb-0bc41b0e5bc3",
   "metadata": {
    "id": "cf75fe8f-1bef-47aa-addb-0bc41b0e5bc3",
    "tags": []
   },
   "source": [
    "## References"
   ]
  },
  {
   "cell_type": "markdown",
   "id": "6793829b-4ed7-4cf8-b5af-b10ca315c736",
   "metadata": {
    "id": "6793829b-4ed7-4cf8-b5af-b10ca315c736"
   },
   "source": [
    "- Cui, Y., Li, Y., Xing, D., Bai, T., Dong, J., & Zhu, J. (2021). Improving the Prediction of Benign or Malignant Breast Masses Using a Combination of Image Biomarkers and Clinical Parameters. *Frontiers in oncology, 11*, 629321. https://doi.org/10.3389/fonc.2021.629321\n",
    "\n",
    "- Dewangan, K. K., Dewangan, D. K., Sahu, S. P., & Janghel, R. (2022). Breast cancer diagnosis in an early stage using novel deep learning with hybrid optimization technique. *Multimedia tools and applications, 81*(10), 13935–13960. https://doi.org/10.1007/s11042-022-12385-2\n",
    "\n",
    "- Louro J, Román M, Posso M, Vázquez I, Saladié F, et al. (2021) Developing and validating an individualized breast cancer risk prediction model for women attending breast cancer screening. *PLOS ONE 16*(3). https://doi.org/10.1371/journal.pone.0248930\n",
    "\n",
    "- Chaurasia V, Pal S, Tiwari B (2018). Prediction of benign and malignant breast cancer using data mining techniques. *Journal of Algorithms & Computational Technology, 12*(2), 119-126. https://doi.org/10.1177/1748301818756225"
   ]
  },
  {
   "cell_type": "markdown",
   "id": "4435b164-0691-411e-9bee-44cdbd6da0a1",
   "metadata": {},
   "source": [
    "## Dataset\n",
    "- Wolberg, Dr. William, Street, W. Nick, Mangasarian, Olvi L. (1995). Breast Cancer Wisconsin (Diagnostic) Data Set.  https://www.kaggle.com/datasets/uciml/breast-cancer-wisconsin-data"
   ]
  }
 ],
 "metadata": {
  "colab": {
   "provenance": [],
   "toc_visible": true
  },
  "kernelspec": {
   "display_name": "R",
   "language": "R",
   "name": "ir"
  },
  "language_info": {
   "codemirror_mode": "r",
   "file_extension": ".r",
   "mimetype": "text/x-r-source",
   "name": "R",
   "pygments_lexer": "r",
   "version": "4.2.3"
  }
 },
 "nbformat": 4,
 "nbformat_minor": 5
}
